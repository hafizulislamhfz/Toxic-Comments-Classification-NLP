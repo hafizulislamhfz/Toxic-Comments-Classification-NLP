{
  "nbformat": 4,
  "nbformat_minor": 0,
  "metadata": {
    "colab": {
      "provenance": []
    },
    "kernelspec": {
      "name": "python3",
      "display_name": "Python 3"
    },
    "language_info": {
      "name": "python"
    }
  },
  "cells": [
    {
      "cell_type": "code",
      "execution_count": 2,
      "metadata": {
        "id": "IA07nl7irNwo",
        "colab": {
          "base_uri": "https://localhost:8080/"
        },
        "outputId": "c394af67-602a-46a5-fdfc-31071356de2b"
      },
      "outputs": [
        {
          "output_type": "stream",
          "name": "stdout",
          "text": [
            "Mounted at /content/drive\n"
          ]
        }
      ],
      "source": [
        "from google.colab import drive\n",
        "drive.mount('/content/drive')"
      ]
    },
    {
      "cell_type": "code",
      "source": [
        "import pandas as pd\n",
        "import numpy as np"
      ],
      "metadata": {
        "id": "Z_LkP-hrtC_D"
      },
      "execution_count": 3,
      "outputs": []
    },
    {
      "cell_type": "code",
      "source": [
        "data = pd.read_csv('/content/drive/MyDrive/MLL/toxic_comments_dataset.csv')"
      ],
      "metadata": {
        "id": "M_xwPW_LtEqU"
      },
      "execution_count": 4,
      "outputs": []
    },
    {
      "cell_type": "code",
      "source": [
        "data"
      ],
      "metadata": {
        "id": "FEQvpWbO4Ota",
        "colab": {
          "base_uri": "https://localhost:8080/",
          "height": 423
        },
        "outputId": "39965d87-f811-4f88-a035-552feb0f769d"
      },
      "execution_count": 5,
      "outputs": [
        {
          "output_type": "execute_result",
          "data": {
            "text/plain": [
              "                    id                                       comment_text  \\\n",
              "0     0000997932d777bf  Explanation\\nWhy the edits made under my usern...   \n",
              "1     000103f0d9cfb60f  D'aww! He matches this background colour I'm s...   \n",
              "2     000113f07ec002fd  Hey man, I'm really not trying to edit war. It...   \n",
              "3     0001b41b1c6bb37e  \"\\nMore\\nI can't make any real suggestions on ...   \n",
              "4     0001d958c54c6e35  You, sir, are my hero. Any chance you remember...   \n",
              "...                ...                                                ...   \n",
              "2994  08105acaa03805e8  \"\\nWP:OR doesn't even come close to applying. ...   \n",
              "2995  08113e0533f6627a  New Section at WP:ANI\\n\\nThere is now a New Se...   \n",
              "2996  081166fea250a5af                   and asking top stop involving me   \n",
              "2997  08121cde0a727842  Re: All Items\\nI know that you said I did some...   \n",
              "2998  08143ca4834f8bcf  \"\\nSo you not going tell me why you created so...   \n",
              "\n",
              "      toxic  severe_toxic  obscene  threat  insult  identity_hate  \n",
              "0         0             0        0       0       0              0  \n",
              "1         0             0        0       0       0              0  \n",
              "2         0             0        0       0       0              0  \n",
              "3         0             0        0       0       0              0  \n",
              "4         0             0        0       0       0              0  \n",
              "...     ...           ...      ...     ...     ...            ...  \n",
              "2994      0             0        0       0       0              0  \n",
              "2995      0             0        0       0       0              0  \n",
              "2996      0             0        0       0       0              0  \n",
              "2997      0             0        0       0       0              0  \n",
              "2998      0             0        0       0       0              0  \n",
              "\n",
              "[2999 rows x 8 columns]"
            ],
            "text/html": [
              "\n",
              "  <div id=\"df-a26992e1-44cc-4d3b-8053-2dcd508bac24\" class=\"colab-df-container\">\n",
              "    <div>\n",
              "<style scoped>\n",
              "    .dataframe tbody tr th:only-of-type {\n",
              "        vertical-align: middle;\n",
              "    }\n",
              "\n",
              "    .dataframe tbody tr th {\n",
              "        vertical-align: top;\n",
              "    }\n",
              "\n",
              "    .dataframe thead th {\n",
              "        text-align: right;\n",
              "    }\n",
              "</style>\n",
              "<table border=\"1\" class=\"dataframe\">\n",
              "  <thead>\n",
              "    <tr style=\"text-align: right;\">\n",
              "      <th></th>\n",
              "      <th>id</th>\n",
              "      <th>comment_text</th>\n",
              "      <th>toxic</th>\n",
              "      <th>severe_toxic</th>\n",
              "      <th>obscene</th>\n",
              "      <th>threat</th>\n",
              "      <th>insult</th>\n",
              "      <th>identity_hate</th>\n",
              "    </tr>\n",
              "  </thead>\n",
              "  <tbody>\n",
              "    <tr>\n",
              "      <th>0</th>\n",
              "      <td>0000997932d777bf</td>\n",
              "      <td>Explanation\\nWhy the edits made under my usern...</td>\n",
              "      <td>0</td>\n",
              "      <td>0</td>\n",
              "      <td>0</td>\n",
              "      <td>0</td>\n",
              "      <td>0</td>\n",
              "      <td>0</td>\n",
              "    </tr>\n",
              "    <tr>\n",
              "      <th>1</th>\n",
              "      <td>000103f0d9cfb60f</td>\n",
              "      <td>D'aww! He matches this background colour I'm s...</td>\n",
              "      <td>0</td>\n",
              "      <td>0</td>\n",
              "      <td>0</td>\n",
              "      <td>0</td>\n",
              "      <td>0</td>\n",
              "      <td>0</td>\n",
              "    </tr>\n",
              "    <tr>\n",
              "      <th>2</th>\n",
              "      <td>000113f07ec002fd</td>\n",
              "      <td>Hey man, I'm really not trying to edit war. It...</td>\n",
              "      <td>0</td>\n",
              "      <td>0</td>\n",
              "      <td>0</td>\n",
              "      <td>0</td>\n",
              "      <td>0</td>\n",
              "      <td>0</td>\n",
              "    </tr>\n",
              "    <tr>\n",
              "      <th>3</th>\n",
              "      <td>0001b41b1c6bb37e</td>\n",
              "      <td>\"\\nMore\\nI can't make any real suggestions on ...</td>\n",
              "      <td>0</td>\n",
              "      <td>0</td>\n",
              "      <td>0</td>\n",
              "      <td>0</td>\n",
              "      <td>0</td>\n",
              "      <td>0</td>\n",
              "    </tr>\n",
              "    <tr>\n",
              "      <th>4</th>\n",
              "      <td>0001d958c54c6e35</td>\n",
              "      <td>You, sir, are my hero. Any chance you remember...</td>\n",
              "      <td>0</td>\n",
              "      <td>0</td>\n",
              "      <td>0</td>\n",
              "      <td>0</td>\n",
              "      <td>0</td>\n",
              "      <td>0</td>\n",
              "    </tr>\n",
              "    <tr>\n",
              "      <th>...</th>\n",
              "      <td>...</td>\n",
              "      <td>...</td>\n",
              "      <td>...</td>\n",
              "      <td>...</td>\n",
              "      <td>...</td>\n",
              "      <td>...</td>\n",
              "      <td>...</td>\n",
              "      <td>...</td>\n",
              "    </tr>\n",
              "    <tr>\n",
              "      <th>2994</th>\n",
              "      <td>08105acaa03805e8</td>\n",
              "      <td>\"\\nWP:OR doesn't even come close to applying. ...</td>\n",
              "      <td>0</td>\n",
              "      <td>0</td>\n",
              "      <td>0</td>\n",
              "      <td>0</td>\n",
              "      <td>0</td>\n",
              "      <td>0</td>\n",
              "    </tr>\n",
              "    <tr>\n",
              "      <th>2995</th>\n",
              "      <td>08113e0533f6627a</td>\n",
              "      <td>New Section at WP:ANI\\n\\nThere is now a New Se...</td>\n",
              "      <td>0</td>\n",
              "      <td>0</td>\n",
              "      <td>0</td>\n",
              "      <td>0</td>\n",
              "      <td>0</td>\n",
              "      <td>0</td>\n",
              "    </tr>\n",
              "    <tr>\n",
              "      <th>2996</th>\n",
              "      <td>081166fea250a5af</td>\n",
              "      <td>and asking top stop involving me</td>\n",
              "      <td>0</td>\n",
              "      <td>0</td>\n",
              "      <td>0</td>\n",
              "      <td>0</td>\n",
              "      <td>0</td>\n",
              "      <td>0</td>\n",
              "    </tr>\n",
              "    <tr>\n",
              "      <th>2997</th>\n",
              "      <td>08121cde0a727842</td>\n",
              "      <td>Re: All Items\\nI know that you said I did some...</td>\n",
              "      <td>0</td>\n",
              "      <td>0</td>\n",
              "      <td>0</td>\n",
              "      <td>0</td>\n",
              "      <td>0</td>\n",
              "      <td>0</td>\n",
              "    </tr>\n",
              "    <tr>\n",
              "      <th>2998</th>\n",
              "      <td>08143ca4834f8bcf</td>\n",
              "      <td>\"\\nSo you not going tell me why you created so...</td>\n",
              "      <td>0</td>\n",
              "      <td>0</td>\n",
              "      <td>0</td>\n",
              "      <td>0</td>\n",
              "      <td>0</td>\n",
              "      <td>0</td>\n",
              "    </tr>\n",
              "  </tbody>\n",
              "</table>\n",
              "<p>2999 rows × 8 columns</p>\n",
              "</div>\n",
              "    <div class=\"colab-df-buttons\">\n",
              "\n",
              "  <div class=\"colab-df-container\">\n",
              "    <button class=\"colab-df-convert\" onclick=\"convertToInteractive('df-a26992e1-44cc-4d3b-8053-2dcd508bac24')\"\n",
              "            title=\"Convert this dataframe to an interactive table.\"\n",
              "            style=\"display:none;\">\n",
              "\n",
              "  <svg xmlns=\"http://www.w3.org/2000/svg\" height=\"24px\" viewBox=\"0 -960 960 960\">\n",
              "    <path d=\"M120-120v-720h720v720H120Zm60-500h600v-160H180v160Zm220 220h160v-160H400v160Zm0 220h160v-160H400v160ZM180-400h160v-160H180v160Zm440 0h160v-160H620v160ZM180-180h160v-160H180v160Zm440 0h160v-160H620v160Z\"/>\n",
              "  </svg>\n",
              "    </button>\n",
              "\n",
              "  <style>\n",
              "    .colab-df-container {\n",
              "      display:flex;\n",
              "      gap: 12px;\n",
              "    }\n",
              "\n",
              "    .colab-df-convert {\n",
              "      background-color: #E8F0FE;\n",
              "      border: none;\n",
              "      border-radius: 50%;\n",
              "      cursor: pointer;\n",
              "      display: none;\n",
              "      fill: #1967D2;\n",
              "      height: 32px;\n",
              "      padding: 0 0 0 0;\n",
              "      width: 32px;\n",
              "    }\n",
              "\n",
              "    .colab-df-convert:hover {\n",
              "      background-color: #E2EBFA;\n",
              "      box-shadow: 0px 1px 2px rgba(60, 64, 67, 0.3), 0px 1px 3px 1px rgba(60, 64, 67, 0.15);\n",
              "      fill: #174EA6;\n",
              "    }\n",
              "\n",
              "    .colab-df-buttons div {\n",
              "      margin-bottom: 4px;\n",
              "    }\n",
              "\n",
              "    [theme=dark] .colab-df-convert {\n",
              "      background-color: #3B4455;\n",
              "      fill: #D2E3FC;\n",
              "    }\n",
              "\n",
              "    [theme=dark] .colab-df-convert:hover {\n",
              "      background-color: #434B5C;\n",
              "      box-shadow: 0px 1px 3px 1px rgba(0, 0, 0, 0.15);\n",
              "      filter: drop-shadow(0px 1px 2px rgba(0, 0, 0, 0.3));\n",
              "      fill: #FFFFFF;\n",
              "    }\n",
              "  </style>\n",
              "\n",
              "    <script>\n",
              "      const buttonEl =\n",
              "        document.querySelector('#df-a26992e1-44cc-4d3b-8053-2dcd508bac24 button.colab-df-convert');\n",
              "      buttonEl.style.display =\n",
              "        google.colab.kernel.accessAllowed ? 'block' : 'none';\n",
              "\n",
              "      async function convertToInteractive(key) {\n",
              "        const element = document.querySelector('#df-a26992e1-44cc-4d3b-8053-2dcd508bac24');\n",
              "        const dataTable =\n",
              "          await google.colab.kernel.invokeFunction('convertToInteractive',\n",
              "                                                    [key], {});\n",
              "        if (!dataTable) return;\n",
              "\n",
              "        const docLinkHtml = 'Like what you see? Visit the ' +\n",
              "          '<a target=\"_blank\" href=https://colab.research.google.com/notebooks/data_table.ipynb>data table notebook</a>'\n",
              "          + ' to learn more about interactive tables.';\n",
              "        element.innerHTML = '';\n",
              "        dataTable['output_type'] = 'display_data';\n",
              "        await google.colab.output.renderOutput(dataTable, element);\n",
              "        const docLink = document.createElement('div');\n",
              "        docLink.innerHTML = docLinkHtml;\n",
              "        element.appendChild(docLink);\n",
              "      }\n",
              "    </script>\n",
              "  </div>\n",
              "\n",
              "\n",
              "<div id=\"df-f94b7f48-3f94-4c3d-a9ac-f1785ecaecaa\">\n",
              "  <button class=\"colab-df-quickchart\" onclick=\"quickchart('df-f94b7f48-3f94-4c3d-a9ac-f1785ecaecaa')\"\n",
              "            title=\"Suggest charts.\"\n",
              "            style=\"display:none;\">\n",
              "\n",
              "<svg xmlns=\"http://www.w3.org/2000/svg\" height=\"24px\"viewBox=\"0 0 24 24\"\n",
              "     width=\"24px\">\n",
              "    <g>\n",
              "        <path d=\"M19 3H5c-1.1 0-2 .9-2 2v14c0 1.1.9 2 2 2h14c1.1 0 2-.9 2-2V5c0-1.1-.9-2-2-2zM9 17H7v-7h2v7zm4 0h-2V7h2v10zm4 0h-2v-4h2v4z\"/>\n",
              "    </g>\n",
              "</svg>\n",
              "  </button>\n",
              "\n",
              "<style>\n",
              "  .colab-df-quickchart {\n",
              "      --bg-color: #E8F0FE;\n",
              "      --fill-color: #1967D2;\n",
              "      --hover-bg-color: #E2EBFA;\n",
              "      --hover-fill-color: #174EA6;\n",
              "      --disabled-fill-color: #AAA;\n",
              "      --disabled-bg-color: #DDD;\n",
              "  }\n",
              "\n",
              "  [theme=dark] .colab-df-quickchart {\n",
              "      --bg-color: #3B4455;\n",
              "      --fill-color: #D2E3FC;\n",
              "      --hover-bg-color: #434B5C;\n",
              "      --hover-fill-color: #FFFFFF;\n",
              "      --disabled-bg-color: #3B4455;\n",
              "      --disabled-fill-color: #666;\n",
              "  }\n",
              "\n",
              "  .colab-df-quickchart {\n",
              "    background-color: var(--bg-color);\n",
              "    border: none;\n",
              "    border-radius: 50%;\n",
              "    cursor: pointer;\n",
              "    display: none;\n",
              "    fill: var(--fill-color);\n",
              "    height: 32px;\n",
              "    padding: 0;\n",
              "    width: 32px;\n",
              "  }\n",
              "\n",
              "  .colab-df-quickchart:hover {\n",
              "    background-color: var(--hover-bg-color);\n",
              "    box-shadow: 0 1px 2px rgba(60, 64, 67, 0.3), 0 1px 3px 1px rgba(60, 64, 67, 0.15);\n",
              "    fill: var(--button-hover-fill-color);\n",
              "  }\n",
              "\n",
              "  .colab-df-quickchart-complete:disabled,\n",
              "  .colab-df-quickchart-complete:disabled:hover {\n",
              "    background-color: var(--disabled-bg-color);\n",
              "    fill: var(--disabled-fill-color);\n",
              "    box-shadow: none;\n",
              "  }\n",
              "\n",
              "  .colab-df-spinner {\n",
              "    border: 2px solid var(--fill-color);\n",
              "    border-color: transparent;\n",
              "    border-bottom-color: var(--fill-color);\n",
              "    animation:\n",
              "      spin 1s steps(1) infinite;\n",
              "  }\n",
              "\n",
              "  @keyframes spin {\n",
              "    0% {\n",
              "      border-color: transparent;\n",
              "      border-bottom-color: var(--fill-color);\n",
              "      border-left-color: var(--fill-color);\n",
              "    }\n",
              "    20% {\n",
              "      border-color: transparent;\n",
              "      border-left-color: var(--fill-color);\n",
              "      border-top-color: var(--fill-color);\n",
              "    }\n",
              "    30% {\n",
              "      border-color: transparent;\n",
              "      border-left-color: var(--fill-color);\n",
              "      border-top-color: var(--fill-color);\n",
              "      border-right-color: var(--fill-color);\n",
              "    }\n",
              "    40% {\n",
              "      border-color: transparent;\n",
              "      border-right-color: var(--fill-color);\n",
              "      border-top-color: var(--fill-color);\n",
              "    }\n",
              "    60% {\n",
              "      border-color: transparent;\n",
              "      border-right-color: var(--fill-color);\n",
              "    }\n",
              "    80% {\n",
              "      border-color: transparent;\n",
              "      border-right-color: var(--fill-color);\n",
              "      border-bottom-color: var(--fill-color);\n",
              "    }\n",
              "    90% {\n",
              "      border-color: transparent;\n",
              "      border-bottom-color: var(--fill-color);\n",
              "    }\n",
              "  }\n",
              "</style>\n",
              "\n",
              "  <script>\n",
              "    async function quickchart(key) {\n",
              "      const quickchartButtonEl =\n",
              "        document.querySelector('#' + key + ' button');\n",
              "      quickchartButtonEl.disabled = true;  // To prevent multiple clicks.\n",
              "      quickchartButtonEl.classList.add('colab-df-spinner');\n",
              "      try {\n",
              "        const charts = await google.colab.kernel.invokeFunction(\n",
              "            'suggestCharts', [key], {});\n",
              "      } catch (error) {\n",
              "        console.error('Error during call to suggestCharts:', error);\n",
              "      }\n",
              "      quickchartButtonEl.classList.remove('colab-df-spinner');\n",
              "      quickchartButtonEl.classList.add('colab-df-quickchart-complete');\n",
              "    }\n",
              "    (() => {\n",
              "      let quickchartButtonEl =\n",
              "        document.querySelector('#df-f94b7f48-3f94-4c3d-a9ac-f1785ecaecaa button');\n",
              "      quickchartButtonEl.style.display =\n",
              "        google.colab.kernel.accessAllowed ? 'block' : 'none';\n",
              "    })();\n",
              "  </script>\n",
              "</div>\n",
              "    </div>\n",
              "  </div>\n"
            ]
          },
          "metadata": {},
          "execution_count": 5
        }
      ]
    },
    {
      "cell_type": "code",
      "source": [
        "y=data['toxic']"
      ],
      "metadata": {
        "id": "l-pxXDVfAbzS"
      },
      "execution_count": 6,
      "outputs": []
    },
    {
      "cell_type": "code",
      "source": [
        "y"
      ],
      "metadata": {
        "colab": {
          "base_uri": "https://localhost:8080/"
        },
        "id": "6_0kw2A4D_iM",
        "outputId": "f9624884-faeb-4072-e606-8879e1093d62"
      },
      "execution_count": 7,
      "outputs": [
        {
          "output_type": "execute_result",
          "data": {
            "text/plain": [
              "0       0\n",
              "1       0\n",
              "2       0\n",
              "3       0\n",
              "4       0\n",
              "       ..\n",
              "2994    0\n",
              "2995    0\n",
              "2996    0\n",
              "2997    0\n",
              "2998    0\n",
              "Name: toxic, Length: 2999, dtype: int64"
            ]
          },
          "metadata": {},
          "execution_count": 7
        }
      ]
    },
    {
      "cell_type": "code",
      "source": [
        "data.comment_text.unique()"
      ],
      "metadata": {
        "colab": {
          "base_uri": "https://localhost:8080/"
        },
        "id": "23iLBULJEgYp",
        "outputId": "c2a906af-8ba7-4a9f-cbf2-178c32a5f7b0"
      },
      "execution_count": 8,
      "outputs": [
        {
          "output_type": "execute_result",
          "data": {
            "text/plain": [
              "array([\"Explanation\\nWhy the edits made under my username Hardcore Metallica Fan were reverted? They weren't vandalisms, just closure on some GAs after I voted at New York Dolls FAC. And please don't remove the template from the talk page since I'm retired now.89.205.38.27\",\n",
              "       \"D'aww! He matches this background colour I'm seemingly stuck with. Thanks.  (talk) 21:51, January 11, 2016 (UTC)\",\n",
              "       \"Hey man, I'm really not trying to edit war. It's just that this guy is constantly removing relevant information and talking to me through edits instead of my talk page. He seems to care more about the formatting than the actual info.\",\n",
              "       ..., 'and asking top stop involving me',\n",
              "       'Re: All Items\\nI know that you said I did somethings to your items. But I am not lying and very honest to tell, I really did not do those as a matter of fact. I was not editing the wiki on certain times and blocked as some people tried to hack and do nasty things. I am really sorry for the incidents before and I take full responsobility on any further incidents. P.S. If i did that, then... why did I?',\n",
              "       '\"\\nSo you not going tell me why you created so many accounts? Well, they say online privacy is hot these days. To start with the premise that the subject of article is strictly ancient history is to assume an answer. When I add information about the holiday, various editors \"\"thank\"\" me. So I am not only one who thinks it should be mentioned. Perhaps others are afraid of you, or just exhausted by your constant bickering.   \"'],\n",
              "      dtype=object)"
            ]
          },
          "metadata": {},
          "execution_count": 8
        }
      ]
    },
    {
      "cell_type": "code",
      "source": [
        "y = y.to_numpy().astype('str')"
      ],
      "metadata": {
        "id": "vR3SJjO4GHoK"
      },
      "execution_count": 9,
      "outputs": []
    },
    {
      "cell_type": "code",
      "source": [
        "y"
      ],
      "metadata": {
        "colab": {
          "base_uri": "https://localhost:8080/"
        },
        "id": "rRkglVhI5kBP",
        "outputId": "6221b386-677f-4c24-e39a-ef9a5c6c3c97"
      },
      "execution_count": 10,
      "outputs": [
        {
          "output_type": "execute_result",
          "data": {
            "text/plain": [
              "array(['0', '0', '0', ..., '0', '0', '0'], dtype='<U21')"
            ]
          },
          "metadata": {},
          "execution_count": 10
        }
      ]
    },
    {
      "cell_type": "code",
      "source": [
        "body = data.iloc[:,1] #iloc[0:224,3]"
      ],
      "metadata": {
        "id": "NlRZCzoaGHy5"
      },
      "execution_count": 11,
      "outputs": []
    },
    {
      "cell_type": "code",
      "source": [
        "body"
      ],
      "metadata": {
        "colab": {
          "base_uri": "https://localhost:8080/"
        },
        "id": "mQR7qpRRohwG",
        "outputId": "04ea2ffa-7352-438b-c85a-cb3bda38201c"
      },
      "execution_count": 12,
      "outputs": [
        {
          "output_type": "execute_result",
          "data": {
            "text/plain": [
              "0       Explanation\\nWhy the edits made under my usern...\n",
              "1       D'aww! He matches this background colour I'm s...\n",
              "2       Hey man, I'm really not trying to edit war. It...\n",
              "3       \"\\nMore\\nI can't make any real suggestions on ...\n",
              "4       You, sir, are my hero. Any chance you remember...\n",
              "                              ...                        \n",
              "2994    \"\\nWP:OR doesn't even come close to applying. ...\n",
              "2995    New Section at WP:ANI\\n\\nThere is now a New Se...\n",
              "2996                     and asking top stop involving me\n",
              "2997    Re: All Items\\nI know that you said I did some...\n",
              "2998    \"\\nSo you not going tell me why you created so...\n",
              "Name: comment_text, Length: 2999, dtype: object"
            ]
          },
          "metadata": {},
          "execution_count": 12
        }
      ]
    },
    {
      "cell_type": "code",
      "source": [
        "body=data['comment_text']"
      ],
      "metadata": {
        "id": "tdhJW34Koh4A"
      },
      "execution_count": 13,
      "outputs": []
    },
    {
      "cell_type": "code",
      "source": [
        "d=body.to_numpy()"
      ],
      "metadata": {
        "id": "PUa0YBEQoh6_"
      },
      "execution_count": 14,
      "outputs": []
    },
    {
      "cell_type": "code",
      "source": [
        "d"
      ],
      "metadata": {
        "id": "b23yW4RFoiH2",
        "colab": {
          "base_uri": "https://localhost:8080/"
        },
        "outputId": "7c2b4e63-43da-4576-aadf-6e0f91bb9650"
      },
      "execution_count": 15,
      "outputs": [
        {
          "output_type": "execute_result",
          "data": {
            "text/plain": [
              "array([\"Explanation\\nWhy the edits made under my username Hardcore Metallica Fan were reverted? They weren't vandalisms, just closure on some GAs after I voted at New York Dolls FAC. And please don't remove the template from the talk page since I'm retired now.89.205.38.27\",\n",
              "       \"D'aww! He matches this background colour I'm seemingly stuck with. Thanks.  (talk) 21:51, January 11, 2016 (UTC)\",\n",
              "       \"Hey man, I'm really not trying to edit war. It's just that this guy is constantly removing relevant information and talking to me through edits instead of my talk page. He seems to care more about the formatting than the actual info.\",\n",
              "       ..., 'and asking top stop involving me',\n",
              "       'Re: All Items\\nI know that you said I did somethings to your items. But I am not lying and very honest to tell, I really did not do those as a matter of fact. I was not editing the wiki on certain times and blocked as some people tried to hack and do nasty things. I am really sorry for the incidents before and I take full responsobility on any further incidents. P.S. If i did that, then... why did I?',\n",
              "       '\"\\nSo you not going tell me why you created so many accounts? Well, they say online privacy is hot these days. To start with the premise that the subject of article is strictly ancient history is to assume an answer. When I add information about the holiday, various editors \"\"thank\"\" me. So I am not only one who thinks it should be mentioned. Perhaps others are afraid of you, or just exhausted by your constant bickering.   \"'],\n",
              "      dtype=object)"
            ]
          },
          "metadata": {},
          "execution_count": 15
        }
      ]
    },
    {
      "cell_type": "code",
      "source": [
        "import nltk   #nltk means natural language toolkit\n",
        "nltk.download('stopwords')  #stopwords like remove a,an,the,for"
      ],
      "metadata": {
        "id": "8Fx0iN0cE0_Q",
        "colab": {
          "base_uri": "https://localhost:8080/"
        },
        "outputId": "0ec85542-4b37-4780-81d9-bbd80c62901f"
      },
      "execution_count": 16,
      "outputs": [
        {
          "output_type": "stream",
          "name": "stderr",
          "text": [
            "[nltk_data] Downloading package stopwords to /root/nltk_data...\n",
            "[nltk_data]   Unzipping corpora/stopwords.zip.\n"
          ]
        },
        {
          "output_type": "execute_result",
          "data": {
            "text/plain": [
              "True"
            ]
          },
          "metadata": {},
          "execution_count": 16
        }
      ]
    },
    {
      "cell_type": "code",
      "source": [
        "nltk.download('wordnet') #The WordNet is a part of Python's Natural Language Toolkit. It is a large word database of English Nouns, Adjectives, Adverbs and Verbs. These are grouped into some set of cognitive synonyms, which are called synsets"
      ],
      "metadata": {
        "id": "HW8YwKpvE3qr",
        "colab": {
          "base_uri": "https://localhost:8080/"
        },
        "outputId": "1cb2edba-923d-4d02-8a24-e3ce68466d53"
      },
      "execution_count": 17,
      "outputs": [
        {
          "output_type": "stream",
          "name": "stderr",
          "text": [
            "[nltk_data] Downloading package wordnet to /root/nltk_data...\n"
          ]
        },
        {
          "output_type": "execute_result",
          "data": {
            "text/plain": [
              "True"
            ]
          },
          "metadata": {},
          "execution_count": 17
        }
      ]
    },
    {
      "cell_type": "code",
      "source": [
        "import nltk\n",
        "nltk.download('omw-1.4')"
      ],
      "metadata": {
        "id": "w4g7AzZlE3tn",
        "colab": {
          "base_uri": "https://localhost:8080/"
        },
        "outputId": "8c66ac24-f646-4669-dd9f-404973297620"
      },
      "execution_count": 18,
      "outputs": [
        {
          "output_type": "stream",
          "name": "stderr",
          "text": [
            "[nltk_data] Downloading package omw-1.4 to /root/nltk_data...\n"
          ]
        },
        {
          "output_type": "execute_result",
          "data": {
            "text/plain": [
              "True"
            ]
          },
          "metadata": {},
          "execution_count": 18
        }
      ]
    },
    {
      "cell_type": "code",
      "source": [
        "from nltk.stem import WordNetLemmatizer\n",
        "import re\n",
        "documents = []\n",
        "stemmer = WordNetLemmatizer()\n",
        "for sen in range(0, len(d)):\n",
        "    # Remove all the special characters\n",
        "    document = re.sub(r'\\W', ' ', str(d[sen]))\n",
        "    # remove all single characters from middle\n",
        "    document = re.sub(r'\\s+[a-zA-Z]\\s+', ' ', document)\n",
        "    # Remove single characters from the start\n",
        "    document = re.sub(r'\\^[a-zA-Z]\\s+', ' ', document)\n",
        "    # Substituting multiple spaces with single space\n",
        "    document = re.sub(r'\\s+', ' ', document, flags=re.I)\n",
        "    # Converting to Lowercase\n",
        "    document = document.lower()\n",
        "    document = re.sub(\"^\\d+\\s|\\s\\d+\\s|\\s\\d+$\", ' ', document)\n",
        "    # Lemmatization\n",
        "    document = document.split()\n",
        "    document = [stemmer.lemmatize(word) for word in document]\n",
        "    document = ' '.join(document)\n",
        "    documents.append(document)"
      ],
      "metadata": {
        "id": "CkIlQdS4E39R"
      },
      "execution_count": 19,
      "outputs": []
    },
    {
      "cell_type": "code",
      "source": [
        "documents"
      ],
      "metadata": {
        "colab": {
          "base_uri": "https://localhost:8080/"
        },
        "id": "cmUidzIYFVU7",
        "outputId": "0c26ae55-529c-4040-e4c7-025c787e586a"
      },
      "execution_count": 20,
      "outputs": [
        {
          "output_type": "execute_result",
          "data": {
            "text/plain": [
              "['explanation why the edits made under my username hardcore metallica fan were reverted they weren vandalism just closure on some gas after voted at new york doll fac and please don remove the template from the talk page since m retired now 205 27',\n",
              " 'd aww he match this background colour m seemingly stuck with thanks talk 51 january 2016 utc',\n",
              " 'hey man m really not trying to edit war it just that this guy is constantly removing relevant information and talking to me through edits instead of my talk page he seems to care more about the formatting than the actual info',\n",
              " 'more can make any real suggestion on improvement wondered if the section statistic should be later on or subsection of type of accident think the reference may need tidying so that they are all in the exact same format ie date format etc can do that later on if no one else doe first if you have any preference for formatting style on reference or want to do it yourself please let me know there appears to be backlog on article for review so guess there may be delay until reviewer turn up it listed in the relevant form eg wikipedia good_article_nominations transport',\n",
              " 'you sir are my hero any chance you remember what page that on',\n",
              " 'congratulation from me a well use the tool well talk',\n",
              " 'cocksucker before you piss around on my work',\n",
              " 'your vandalism to the matt shirvington article ha been reverted please don do it again or you will be banned',\n",
              " 'sorry if the word nonsense wa offensive to you anyway m not intending to write anything in the article wow they would jump on me for vandalism m merely requesting that it be more encyclopedic so one can use it for school a reference have been to the selective breeding page but it almost stub it point to animal breeding which is short messy article that give you no info there must be someone around with expertise in eugenics 161 169',\n",
              " 'alignment on this subject and which are contrary to those of dulithgow',\n",
              " 'fair use rationale for image wonju jpg thanks for uploading image wonju jpg notice the image page specifies that the image is being used under fair use but there is no explanation or rationale a to why it use in wikipedia article constitutes fair use in addition to the boilerplate fair use template you must also write out on the image description page specific explanation or rationale for why using this image in each article is consistent with fair use please go to the image description page and edit it to include fair use rationale if you have uploaded other fair use medium consider checking that you have specified the fair use rationale on those page too you can find list of image page you have edited by clicking on the my contribution link it is located at the very top of any wikipedia page when you are logged in and then selecting image from the dropdown box note that any fair use image uploaded after may and lacking such an explanation will be deleted one week after they have been uploaded a described on criterion for speedy deletion if you have any question please ask them at the medium copyright question page thank you talk contribs unspecified source for image wonju jpg thanks for uploading image wonju jpg noticed that the file description page currently doesn specify who created the content so the copyright status is unclear if you did not create this file yourself then you will need to specify the owner of the copyright if you obtained it from website then link to the website from which it wa taken together with restatement of that website term of use of it content is usually sufficient information however if the copyright holder is different from the website publisher then their copyright should also be acknowledged a well a adding the source please add proper copyright licensing tag if the file doesn have one already if you created took the picture audio or video then the tag can be used to release it under the gfdl if you believe the medium meet the criterion at wikipedia fair use use tag such a or one of the other tag listed at wikipedia image copyright tag fair use see wikipedia image copyright tag for the full list of copyright tag that you can use if you have uploaded other file consider checking that you have specified their source and tagged them too you can find list of file you have uploaded by following this link unsourced and untagged image may be deleted one week after they have been tagged a described on criterion for speedy deletion if the image is copyrighted under non free license per wikipedia fair use then the image will be deleted hour after if you have any question please ask them at the medium copyright question page thank you talk contribs',\n",
              " 'bbq be man and let discus it maybe over the phone',\n",
              " 'hey what is it talk what is it an exclusive group of some wp taliban who are good at destroying self appointed purist who gang up any one who asks them question abt their anti social and destructive non contribution at wp ask sityush to clean up his behavior than issue me nonsensical warning',\n",
              " 'before you start throwing accusation and warning at me let review the edit itself making ad hominem attack isn going to strengthen your argument it will merely make it look like you are abusing your power a an admin now the edit itself is relevant this is probably the single most talked about event int he news a of late his absence is notable since he is the only living ex president who did not attend that certainly more notable than his dedicating an aircracft carrier intend to revert this edit in hope of attracting the attention of an admin that is willing to look at the issue itself and not throw accusation around quite so liberally perhaps if you achieve level of civility where you can do this we can have rational discussion on the topic and resolve the matter peacefully',\n",
              " 'oh and the girl above started her argument with me she stuck her nose where it doesn belong believe the argument wa between me and yvesnimmo but like said the situation wa settled and apologized thanks',\n",
              " 'juelz santanas age in juelz santana wa year old then came february 18th which make juelz turn making song with the diplomat the third neff to be signed to cam label under roc fella in he wa year old coming out with his own single santana town and down so yes he is born in he really is how could he be older then lloyd bank and how could he be when his birthday passed the homie neff is year old 2006 juelz death god forbid if your thinking about that equal go to your caculator and stop changing his year of birth my god',\n",
              " 'bye don look come or think of comming back tosser',\n",
              " 'redirect talk voydan pop georgiev chernodrinski',\n",
              " 'the mitsurugi point made no sense why not argue to include hindi on ryo sakazaki page to include more information',\n",
              " 'don mean to bother you see that you re writing something regarding removing anything posted here and if you do oh well but if not and you can acctually discus this with me then even better d like to ask you to take closer look at the premature wrestling death catagory and the men listed in it surely these men belong together in some catagory is there anything that you think we can do with the catagory besides delting it',\n",
              " 'regarding your recent edits once again please read wp filmplot before editing any more film article your edits are simply not good with entirely too many unnecessary detail and very bad writing please stop before you do further damage the',\n",
              " 'good to know about me yeah m studying now deepu',\n",
              " 'snowflake are not always symmetrical under geometry it is stated that snowflake always ha six symmetric arm this assertion is simply not true according to kenneth libbrecht the rather unattractive irregular crystal are by far the most common variety http www it caltech edu atomic snowcrystals myth myth htm perfection someone really need to take look at his site and get fact off of it because still see decent number of falsity on this page forgive me im new at this and dont want to edit anything',\n",
              " 'the signpost september read this signpost in full single page unsubscribe',\n",
              " 're considering 1st paragraph edit don understand the reason for recent edit of this article not that m sure that the data are necessarily wrong rather m persuaded that the strategy of introducing academic honor in the first paragraph is an unhelpful approach to this specific subject note that article about other sitting justice have been similarly enhanced and also believe those change are no improvement in support of my view that this edit should be reverted would invite anyone to re visit article written about the following pair of jurist a1 benjamin cardozo a2 learned hand b1 john marshall harlan b2 john marshall harlan ii the question becomes would the current version of the wikipedia article about any one of them or either pair be improved by academic credential in the introductory paragraph think not perhaps it help to repeat wry argument kathleen sullivan of stanford law make when she suggests that some on the harvard law faculty wonder how antonin scalia avoided learning what others have managed to grasp about the process of judging would hope this anecdote gently illustrates the point le humorous but an even stronger argument is the one clarence thomas make when he mention wanting to return his law degree to yale at minimum m questioning this edit it deserves to be reconsidered',\n",
              " 'radial symmetry several now extinct lineage included in the echinodermata were bilateral such a homostelea or even asymmetrical such a cothurnocystis stylophora',\n",
              " 'there no need to apologize wikipedia article is made for reconciling knowledge about subject from different source and you ve done history study and not archaeology study guess could scan the page mail it to you and then you could ask someone to translate the page',\n",
              " 'yes because the mother of the child in the case against michael jackson wa studied in here motif and reasoning and judged upon her character just a harshly a wacko jacko himself don tell me to ignore it and incriminate myself am going to continue refuting the bullshit that jayjg keep throwing at me 01 jun utc',\n",
              " 'ok but it will take bit of work but can quite picture it do you have an example can base it on the duck',\n",
              " 'barnstar for you the real life barnstar let u be the star',\n",
              " 'how could post before the block expires the funny thing is you think m being uncivil',\n",
              " 'not sure about heading of fight for freedom what will it contain',\n",
              " 'praise looked at this article about month ago much improved',\n",
              " 'i wa able to post the above list so quickly because already had it in text file in my hard drive ve been meaning to get around to updating the sound list for some time now a far a generating interest ve spent four year trying to drum up more interest in freely licensed full length classical music unfortunately my attempt failed m still effectively the only one who doe it the classical music wikiproject wa not interested wikipedia_talk wikiproject_classical_music archive_5 need_help 21wikipedia_talk wikiproject_music archive_3 i_could_use_some_helpwikipedia_talk wikiproject_music archive_2 raulbot 2c_and_the_music_list so really had given up trying to interest others the sound list wa featured on digg while back http digg com music wikipedia_has_free_classical_music_downloads it got diggs which is imo very impressive',\n",
              " 'well not before the process but before how we do thing with subpages his rfa is listed on noseptember page and you can find it if you look september think have my difference with el_c to be sure but wa surprised to see block so left note c',\n",
              " 'not at all you are making straw man argument here never claimed donohue had that position rather that practitioner and researcher in the field ignored the dsm position which is exactly what the quote say and also something donohue agrees with again wa combating the notion that it wa absurd part to claim that pedophilia is sexual orientation since many researcher hold this position it would be unfair to call it absurd the disorder part is divided in the field some argue that it is not disorder at all some do at the end of the day it is value judgment a cantor pointed out earlier in the thread not scientific judgement if we choose to make this value judgment in the article it should be stated clearly and not pretend to have scientific basis',\n",
              " 'mainland asia includes the lower basin of china yangtze river a well a korea but being specific is fine too just found citation for more comprehensive dna study by hammer below rather than our generarizations and speculation so far citation for yayoi culture wa brought to japan by migrant from korea who in turn trace their root to southeast asia south china dna study by hammer describes the yayoi migration from korea based on the sry gene and other gene with close lineage haplogroups m122 and m95 reiterates that the entire haplogroup ha been proposed to have southeast asian origin their definition of southeast asia includes southern china then hypothesizes that the dispersal of neolithic farmer from southeast asia also brought haplogroup lineage to korea and eventually to japan in the concluding paragraph it state we propose that the yayoi chromosome descend from prehistoric farmer that had their origin in southeastern asia perhaps going back to the origin of agriculture in this region hammer dna study is based on global sample consisted of 500 male from asian population including six population sampled from across the japanese archipelago',\n",
              " 'pretty much everyone from warren county surrounding region wa born at glen fall hospital myself included however m not sure this qualifies anyone a being glen fall native rachel ray is believe actually from the town of lake luzerne the preceding unsigned comment wa added by 100 154 28 august 2007 utc',\n",
              " 'hi explicit can you block fenian for edit warring on the giant causeway wp he ha made several edits which can only be described a terrorism',\n",
              " 'notability of rurika kasuga tag ha been placed on rurika kasuga requesting that it be speedily deleted from wikipedia this ha been done because the article seems to be about person group of people band club company or web content but it doe not indicate how or why the subject is notable that is why an article about that subject should be included in wikipedia under the criterion for speedy deletion article that do not assert notability may be deleted at any time please see the guideline for what is generally accepted a notable and if you can indicate why the subject of this article is notable you may contest the tagging to do this add on the top of the page below the existing db tag and leave note on the article talk page explaining your position please do not remove the speedy deletion tag yourself but don hesitate to add information to the article that would confirm it subject notability under the guideline for guideline on specific type of article you may want to check out our criterion for biography for web site for band or for company feel free to leave note on my talk page if you have any question about this',\n",
              " 'sure but the lead must briefly summarize armenia history simply added what found necessary if anyone think this or that sentence is redundant for the lead they are welcome to remove make edits talk',\n",
              " 'tfd think we just eced think we responded to each other without seeing each others response added something in response to yours but don know if you saw mine c wp chicago wp four',\n",
              " 'you are gay or antisemmitian archangel white tiger meow greetingshhh uh there are two way why you do erased my comment about ww2 that holocaust wa brutally slaying of jew and not gay gypsy slav anyone if you are anti semitian than shave your head bald and go to the skinhead meeting if you doubt word of the bible that homosexuality is deadly sin make pentagram tatoo on your forehead go to the satanistic mass with your gay pal first and last warning you fucking gay won appreciate if any more nazi shwain would write in my page don wish to talk to you anymore beware of the dark side',\n",
              " 'fuck your filthy mother in the as dry',\n",
              " 'i sorry m sorry screwed around with someone talk page it wa very bad to do know how having the template on their talk page help you assert your dominance over them know should bow down to the almighty administrator but then again m going to go play outside with your mom 122 82',\n",
              " 'i don believe the lisak criticism present there conforms with the npv rule lisak doesn have neutral point of view to begin with if an offer to polygraph or even concerned review of polygraph result shock complainant into thinking her lie have been uncovered the recantation is still perfectly valid if you know you are telling the truth you will argue with machine or investigator also part of kanin research wa followup of the recanted story where possible to verify if any were false recantation in all followup the recanted version of event matched what the accused said happened arguing that lisak is respected phd is baseless if kanin is respected phd agree that my edit wasn a neutral a possible though so apologize for that still something must be done here',\n",
              " 'you had point and it now ammended with appropriate encyclopedic notability significance',\n",
              " 'in other word you re too lazy to actually point anything out until you change that approach the tag go',\n",
              " 'a for your claim of stalking that is absolute rubbish and serf only to aggravate the situation have assumed good faith and good intention on your part and have never suggested or seen reason to suggest that you might have some ulterior motive in mass adding link to one specific company web page nor for that matter have ever made any suggestion that this is an administrative matter or even mentioned such role clearly a party to this disagreement would not do so at any rate a it would be conflict of interest would ask that you thus extend the same good faith toward me rather than making spurious and unfounded accusation chatspy',\n",
              " 'jmabel in regard to predominant scholary consensus who is it that allegedly claim despite third way rhetoric fascism in power functioned rather consistently a right wing force a far a m aware owning numerous book on the subject that is not the scholary consensus at all the consensus developed by respected scholar of fascism who write in manner which is not bias to any interest group such a roger griffin hamish mcdonald roger eatwell and zeev sternhell all recongise fascism a third way a the reference show the only dissenter m aware of who seem to think fascism ha absoutely no leftist connection and is merely radical right system are street level socialist who want to put a much distance between the movement a possible this of course doe not come from educated people in position to write book for example even the foremost scholary expert on fascism and former member of both the communist party and then socialist party of italy renzo de felice doesn try to cover up it socialistic origin and third way status this is man who ha wrote definitive seven volume piece on mussolini',\n",
              " 'bi you said you wanted to talk at the bottom of the lead section you have written it promoter speculated in that the skyhook concept could be cost competitive with what is realistically thought to be achievable using space elevator but the skyhook is not competitive with other rotating tether concept in addition the rotating skyhook is in fact deemed not engineeringly feasible using presently available material regarding in addition the rotating skyhook is in fact deemed not engineeringly feasible using presently available material that statement appears to come from ref on page the full quote is if the mass of the tether alone started to exceed time the mass of the payload then that wa an indication the particular scenario being considered wa not engineeringly feasible using presently available material although the application might become feasible in the near future a better material become available with higher tensile strength at higher operational temperature it then go on to say a we shall see presently available commercial material will suffice to make the hastol tether needed the primary message we want to leave with the reader is we don need magic material like buckminster fuller carbon nanotube to make the space tether facility for hastol system existing material will do so it would appear that you misread your reference the tether mass of time mass of the payload mass is the upper limit to the problem system where the tether mass is le than time the payload mass can be built with presently available commercial material to further reinforce this the conclusion to the report state the fundamental conclusion of the phase hastol study effort is that the concept is technically feasible we have evaluated number of alternate system configuration that will allow hypersonic air breathing vehicle technology to be combined with orbiting spinning space tether technology to provide method of moving payload from the surface of the earth into earth orbit for more than one hastol architecture concept we have developed design solution using existing or near term technology we expect that number of the other hastol architecture concept will prove similarly technically feasible when subjected to detailed design study the system are completely reusable and have the potential of drastically reducing the cost of earth to orbit space access regarding but the skyhook is not competitive with other rotating tether concept and boeing report on the possibillity of combining skyhook with hypersonic plane concluded that in general the non spinning tether hyperskyhook concept doe not look competitive with the spinning tether concept the full quote is hyperskyhook in zubrin proposed the hypersonic skyhook a solution to the mismatch between the attainable atmospheric speed of hypersonic airplane and the orbital speed of space tether since the orbital speed of the space tether decrease with increasing altitu',\n",
              " 'get fucked up get fuckeeed up got drink that you cant put down get fuck up get fucked up m fucked up right now',\n",
              " 'are you threatening me for disputing neutrality know in your country it quite common to bully your way through discussion and push outcome you want but this is not russia',\n",
              " 'thanks undeletion wa more than d hoped for m researching the status of texas government including local government copyright status but it slow going apparently work of the florida government are usually public domain but we don have similar article on texas so guess ll have to research the old fashioned non lazy actually reliable way or ask the copyright help desk like you suggested in the meantime m using the fair use rationale since it valid while the image is used in an article thanks again',\n",
              " 'awesome then ll simply disregard your notice thanks',\n",
              " 'stupid peace of shit stop deleting my stuff asshole go die and fall in hole go to hell',\n",
              " 'name',\n",
              " 'ga review ii m sorry to say this but have to fail this article gan the several major problem that brought up in this article previous ga assessment have not been issued a he ha said before me he article wp lead should be longer the history medium attention academic student government demographic trivia and additional information section are very deficient in citiations also triva and additional information should be integrated into the rest of the article again please look over wp wiaga and fix these problem then renominate it for ga class however have re assessed this article a class a it doe meet class criterion my regard',\n",
              " 'my band page deletion you thought wa gone deleting the comment posted on your talk page doe not delete my feeling for your hasty decision to delete my page you sir are still cock sucking douche fuck sit back for second and think about what your life ha become done that didn take long did it nope because a am most certainly aware your life is shitstorm of sitting in front of the computer masturbating to fictional creature your attempt to get rid of me are mediocre at best you are constantly sucking the dick of failure you don want personal attack huh well too bad fuckcock mcdickerson you ve got one from me you can go ahead and delete my profile from wikipedia ll just make another one and come right back to syrthiss talk page and insult the dick off of you how could you shatter the dream of an innocent eighteen year old college freshman trying to make name for his band doe that make you happy fucking with people because you re an overweight single old man in dead end job did you spot that perhaps someone else wa going to follow his dream and you were trying to hold him back so somebody else could suffer like you yes you did don make empty threat so won be saying anything along the line of ll hurt you or ll eat the child from within your sister womb but will say that you are asshole son of bitch mother fucking cock sucker so go eat some more food and drown your sorrow you premature ejaculating bald headed fuck you should do something nice for yourself maybe go grab couple of horny goat weed from your local convenience store and jack off for little longer than three minute tonight sincerely an asshole that better than you in every way',\n",
              " 'why can you believe how fat artie is did you see him on his recent appearence on the tonight show with jay leno he look absolutely awful if had to put money on it d say that artie lange is can miss candidate for the dead pool kindly keep your malicious finger off of my above comment everytime you remove it will repost it',\n",
              " 'locking this page would also violate wp newbie whether you like it or not conservative are wikipedians too',\n",
              " 'a bisexual like homosexual or heterosexual is not defined by sexual activity much like year old boy who is attracted to girl sexually but ha never had sex is still straight person who is actually sexually attracted aroused by the same sex a well a the opposite sex is bisexual',\n",
              " 'redirect talk frank herbert mason',\n",
              " 'christian arab hi could you please stop enforcing the category christian arab on non arabic christian living in the middle east this is wrong we middle eastern christian though not arab have gone through arabization and that need to stop we are not arab we have our own ethnicity and we shouldn be forced to be called christian arab if christian european is born in the middle east should he be called christian arab because of that reason alone please understand they are syriac christian e of assyrian ancestry and most of them speak aramaic though lot of them are forgetting it a someone who speaks aramaic you should respect this fact and not appease muslim who want to call everyone arab just because they re in the middle east we are not closely related to the arab from saudiarabia we have our own ethnicity please stop forcing upon u some alien arab ethnicity that oppression talk 17 jun utc',\n",
              " 'dh dude abc officially say this is the name for that episode do know there is already an episode with that name but abc say it everybody say don',\n",
              " 'all of my edits are good cunt like you who revert good edits because you re too stupid to understand how to write well and then revert other edits just because you ve decided to bear playground grudge are the problem maybe one day you ll realise the damage you did to noble project 215 159',\n",
              " 'neiln bang on you aren being harassed at all if you don edit disruptively you don get reverted talk',\n",
              " 'i went there around the same time he did and that certainly wa not the case at the time later on they stopped taking child from such young age',\n",
              " 'there must be some chemical imbalance in your brain are you ok the gibberish you guy are writing really make me feel sorry for you don ever go to law school you would do the legal profession bad',\n",
              " 'parzival418 you are trying to scare thatso how can you say that the comment of thatso are insulting thatso is trying to suggest that there should be no original research in the wikipedia and he is right',\n",
              " 'oppose a the article stand it doe not properly reference under the wp reference guideline if this issue is resolved don any issue with it being moved to the mainspace',\n",
              " 'i would appreciate an apology from both of you but can see that is unlikely if not please don waste my time any longer with attempt at trying justify either your or plasma physic transgression toward me or bother me any longer about this issue and shall leave you alone and seek others here who deserve my considerate attention',\n",
              " 'they are not original research they are pointed in the episode',\n",
              " 'ambiguous so mabuska irish can mean more than one thing will qoute you on that thanks preceding unsigned comment added by 77 139 of course it can the word irish wasn invented on the establishment of the irish free state talk quote me all you want it depends on the context of the term when it being used a to whether it applicable or not note how said citizenship and ethnicity never mentioned nationality which is the real key meaning the nationality meaning of the term is the predominantly used form on wikipedia in nationality term it refers to the republic of ireland but you already know that m sure talk in nationality term it refers to the republic of ireland no such country so nationality term it refers to ireland preceding unsigned comment added by 76 188 oh wow ireland a in ireland the state whose official description is the republic of ireland whats the point in this inane conversation talk ireland whose official name is ireland preceding unsigned comment added by 76 188 http www constitution ie report constitutionofireland pdf reading for you also see http www constitution ie report mbunreachtnaheireann pdf a you speak both preceding unsigned comment added by 78 50',\n",
              " 'while the magazine masthead say time the corporate name is time inc you can easily look this up on the other hand abn amro is always the corporate name you can look this up a well',\n",
              " 'take your belated and piffling prevarication elsewhere too late for here',\n",
              " 'that what m looking through it look like he wa just being an all around dick on talk page though it nothing too bad though look more like an inability to express himself properly thank you for your concern also cheer',\n",
              " 'in the same direction is it really necessary to name all the u state who recognize it why not give just the number of state this is not an american encyclopedia but an universal one don see why every single u state which recognize it should be named ix',\n",
              " 'december utc you must not play metal gear solid that often gw is the arsenal gear i that went haywire after solid snake uploaded emma virus 32',\n",
              " 'hi am back again last warning stop undoing my edits or die',\n",
              " 'minimization of textile effluent proposed deletion template ha been added to the article minimization of textile effluent suggesting that it be deleted according to the proposed deletion process all contribution are appreciated but this article may not satisfy wikipedia criterion for inclusion and the deletion notice should explain why see also what wikipedia is not and wikipedia deletion policy you may prevent the proposed deletion by removing the notice but please explain why you disagree with the proposed deletion in your edit summary or on it talk page also please consider improving the article to address the issue raised even though removing the deletion notice will prevent deletion through the proposed deletion process the article may still be deleted if it match any of the speedy deletion criterion or it can be sent to article for deletion where it may be deleted if consensus to delete is reached if you agree with the deletion of the article and you are the only person who ha made substantial edits to the page please add to the top of minimization of textile effluent',\n",
              " 'is it scientific to attribute an event to cause where cause wa deliberate designed with some sort of intelligent intent don answer the question beyond that well the problem with not answering beyond that is that your example is completely rigged there are several major fundamental problem here first you completely fail to mention the fact that the intelligence behind id is quite literally not of this earth natural science might look at honeycomb see it is built by bee and then find an odd looking fossilized honeycomb and theorize that it wa made by odd looking bee that is fundamentally different than saying it wa made by something not of this earth id ha at it core the notion that something outside the system we can observe is at cause here this is not science in any sense of the word it is mythology when paul bunyan wa having wrestling match with babe his blue ox they kicked up so much dirt they created the great lake no evidence of paul and his ox remain mean really second natural science take an approach to knowledge that nothing is known scientific law unless it is irrefutable theory must have heavy supporting empirical data to back it up id turn this on it head and doe an end run around knowledge and play game with probability if no one can say how flagellum on bacteria could have formed naturally how in the hell can id proponent come up with any sort of mathematically accurate probability of flagellum naturally forming on bacteria if you don understand it you can do statistic on it id jump right over that hurdle and take anything that doesn have complete detailed natural explanation and jam in their own statistic that say well it so improbable for this to happen that someone must have designed it this is such perversion of science you can assign probability to something you don understand id is just making up their number finally your example ha b where wa deliberate design that all well and good for rigged example except that with respect to life on earth is unknown your b example might qualify a forensic science if were dead body and were bullet in the heart you see bunch of dead body with bullet through the heart the next time you see body with bullet through the heart you can probably figure that what killed him you don have that with life on earth you have one scenario and you have no other case to observe or test so in that sense b is not scientific if you ve never actually observed btw is teh intelligent designer which ha never been observed so in that sense no it isn science',\n",
              " 'screwjob hey noticed your comment on the montreal screwjob discussion page decided since nobody except someone with no account objected to what you said would atleast change the page little to make it fair just wanted to tell you because thought you would like to know only changed few word at the top of the first paragraph and added something to the second one if your not bothered thats fine but thought since you were fighting for and nothing wa even said might aswell tell you',\n",
              " 'april thank you for experimenting with the page andy griffith on wikipedia your test worked and ha been reverted or removed please use the sandbox for any other test you want to do take look at the welcome page if you would like to learn more about contributing to our encyclopedia',\n",
              " 'christ iq is selected for therefore every population ha the same iq never cease to amaze me',\n",
              " 'can you prove it isn if you had better knowledge of the english language it would have been obvious to you',\n",
              " 'would you both shut up you don run wikipedia especially stupid kid',\n",
              " 'oh it me vandalising xd see here greeting',\n",
              " 'website hey all wa thinking of getting myself website to display my picture and this wa the cheapest thing could find don know about others but fir and diliff you guy have website do you think it is legit could you provide any better alternative help from any other guild member is also appreciated thanks talk',\n",
              " 'thanks reading there now',\n",
              " 'personal attack in fruit brute vfd my apology if m being to critical but feel that many of the comment made in the fruit brute vfd debate were far from reasonable there had to be more diplomatic way to disagree with assertion on the initial sentence than don lie it make you look even more juvenile learn to face up to when you ve goofed it will go long way in your life the attack do to his age certainly border on personal attack were bart133 forty sixty or eighty would you have included the comment on how juvenile he is don expect you to apologise to anyone but want to make it clear that consider your comment in this vfd debate inappropriate and think their are many member of the community who would agree with me talk 46 feb utc',\n",
              " 'transliteration of russian place name in writing about moscow metro for the malayalam wikipedia we are finding it difficult to correctly transliterate the russian place name for example do we pronounce park kultury a paark kalttari or paark kalchchari or perhaps something completely different can somebody please help by transliterating the list given in http ml wikipedia org wiki സ വ ദ മ സ ക _മ ട ര am not putting the list here a don want to clutter up this page thanks',\n",
              " 'almost got me too had to look it up to see if it wa real talk',\n",
              " 'how can one defame someone who think the fort hood shooting is justified by god law',\n",
              " 'lack of balance this article is seriously out of balance it would benefit greatly from the introduction of additional information about the negative aspect of the just for the record this sort of balance problem is not uncommon when there is an over dependence on the work of particular author for example testing and evaluation of t by the u army ordnance dept exposed some very serious problem with the tank this type of information should be included in the article to bring it back into balance',\n",
              " 'thanks can see that violating clearly stated wikipedia policy is no problem with some people a is now being reviewed elsewhere finishing up one other wiki project todsy and then spending the rest of the day on an important personal blog entry then ll go find other discussion of james petras fascinating discussion of the use of the term jewish lobby so that don have to put back up the deleted dissident voice article right away per talk jewish_lobby wp v_ _comparing_jewish_virtual_library_and_dissident_voice carol moore talk',\n",
              " 'hi thanks for our kind word see you around talk',\n",
              " 'collusion in poker this is regarded a most heinous form of cheating in poker perhaps some mention of this or example is warranted',\n",
              " 'thanks much however if it been resolved why is it that today when didn write anything in edit summary camera put it ad in my edit summary box 1equalvoice1 talk',\n",
              " 'you can do all you re doing right now but if you get username you ll be able to do more and have more impact is what m saying and you seem to be very familiar with everything so you probably have username just get one it take second talk contribs',\n",
              " 'however the moonlite edit noted by golden daph wa me on optus wake up wikkis so funny',\n",
              " 'check the following website http www iranchamber com personality farabi farabi php http www islam org br c2 a0al_farabi htm http www superbeyin com sohbet sohbet htm',\n",
              " 'i can believe no one ha already put up this page dilbert desktop game so did',\n",
              " 'well after asked you to provide the diffs within one hour of your next edit here you made an edit to your talk page here and then did not provide the diffs requested within one hour of that edit then sanctioned you for failing to provide the requested diffs in timely manner which after more than week you have still not done consequently your request to lift the sanction is denied',\n",
              " 'what page shoudld there be for important character that don reoccur void black doom mephiles etc',\n",
              " 'a pair of jew hating weiner nazi schmuck',\n",
              " 'i tend to think that when the list is longer than the rest of the article there a problem either the history and characteristic should be expanded of the list should be culled personally like the consensus that wa reached in the tripel article between and others myself included we decided that the country of origin should be highlighted with the most example there we did trappist abbey and foreign foreign includes all non belgium example this way the article is an article in an encyclopedia not list people can find list anywhere and the article should reference this also the style statistic are bad when you say style statistic it sound like prescription not description an encyclopedia should follow the latter and if the former is used citation should follow and you ll not find valid one for this style in it country of origin',\n",
              " 'what up with this if you are religiously or politically motivated to push this or that issue please refrain from talking on my page am not interested otherwise feel free to talk about relevant edits here or science deleet talk would prefer if the following user never post here maunus ʍaunus snunɐw weijibaikebianji this guy is published psychology researcher right perhaps he doesn know you have access to library and the best source you should point that out more often it doesn come across a mind bendingly condescending also suspect that editor is racist see you on the wiki 134 36',\n",
              " 'i not vandalizing m just having fun man you have no sense of humor if you think m vandalizing stuff lemonparty org this site now',\n",
              " 'welcome to wikipedia bla discover ekopedia the practical encyclopedia about alternative life technique bla discover ekopedia the practical encyclopedia about alternative life technique',\n",
              " 'including some appropriate mention of the solomon article is not without some level of support',\n",
              " 'comment could not verify the claim talk',\n",
              " 'czech republic is in central europe the state of this article is part of the reason why people are making such confusion especially more ridiculous is that they you would replace the mention of north caucasus in favor of north slope of caucasus mountain which isnt even geographical area other than denoting the mountain in that region country are located within continent yet for some reason you refuse to allow this article to be denoted continent this single factor alone would have made massive difference for reader m tired of arguing with people who are essentially wiki squatter refusing to nudge on given article 90 216',\n",
              " 'thanks josette enjoyed meeting you too wa shocked by the decision which doe not begin to reflect consensus doe just one grand poobah make it alone serf me right for stealing time from more pressing real world duty to indulge in fun hobby ve learned my lesson and won waste time like that again ll stick to fixing the little thing run across a read article for my own information',\n",
              " 'paleontologist agree that organic remains must be buried quickly so they can be preserved long enough to be come fossilized however the term fossilized is not very precise term there are several factor and metamorphic mineral process which occur to organic remains that result in what is typically called fossil one major factor concern what kind of organism are to be fossilized vertebrate invertebrate radiolarian sponge plant pollen foot print etc and multiple process may include permineralization recrystalization carbonization replacement dissolving diagenesis etc talking about fossilization is complex issue however quick burial is not questioned the major question is how long doe it take for these process to work on organic reamins in the environment they are found in experimental taphonomy ha resulted in an assortment of remains becoming fossilized by various process in the lab which of course implies that given the right condition vast age are not an issue the metamorphic process are ongoing until an equilibrium is met between the chemical enviroument of the burial site and the mineral of the organic remains flood catastrophic geologist do not expect that organic remains buried during the flood were completely fossilized within the one year period of the flood but rather that there ha been some year for the process to have been working much more work need to be done on the taphonomy of organic remains yet how one interprets even those result will depend upon which world view you choose to believe with',\n",
              " 'also think vegetable basket need it own wikipedia page',\n",
              " 'bigfoot reference the magazine is better known a just the engineering and mining journal which you may have difficult time finding depending on where you live ran across the article few year ago while researching something else and made copy it is clearly derived from press account and treat the incident a joke my whole point in citing it wa to show that the incident whatever it wa wa not entirely created year after the fact if you leave me your email will scan the page and email you pdf',\n",
              " 'also see this if you cant trust murkoth ramunni http book google com book id hhev0u1gfpec pg pa51 dq thiyya matrilineal hl en sa ei tlppud2ah8mwiqlgvidgba ved 0cdyq6aewaq onepage thiyya 20matrilineal false',\n",
              " 'chart performance of single lady put ring on it please take my advice and split up the paragraph in the section fa generally have short paragraph it hard and boring to ingest so much information at once so splitting the paragraph will improve the flow talk',\n",
              " 'hahahaha good one have removed it',\n",
              " 'having said that ve temporarily removed my request based on cyde advice pending request for consensus ve asked for on the talk page urge anyone reading this to vote so we all know what the community want',\n",
              " 'conformity a healthy may have missed it but this article doe not seem to address conformity a just healthy behaviour such a the way that we conform to grammar so that we can be understood or that we conform to law because we recognise need for an orderly society 126 214',\n",
              " 'hi am new to wikipedia read up on pandemic today am impressed by the quality of information to my knowledge not easily available elsewhere in the same easily accessible format thank you all of you for creating this content and making it accessible',\n",
              " 'should say something about his view a an educationalist and socialist political commentator link to http www langandlit ualberta ca fall2004 steigelbainbridge html mention this bit he stood a an election candidate for respect',\n",
              " 'sandbox don take the template out of the sandbox it say don remove for reason 36 jan utc',\n",
              " 'heh it a bit of copy of wikipedia wikiproject professional wrestling but thought it look bit tidy and better that way',\n",
              " 'ahh hello witzeman 92 161 symbol ½ ⅓ ⅔ ¼ ¾ ⅛ ⅜ ⅝ ⅞ ƒ ℳ m² m³ character á á ć ć é é í í ĺ ĺ ń ń ó ó ŕ ŕ ś ś ú ú ý ý ź ź à à è è ì ì ò ò ù ù â â ĉ ĉ ê ê ĝ ĝ ĥ ĥ î î ĵ ĵ ô ô ŝ ŝ û û ŵ ŵ ŷ ŷ ä ä ë ë ï ï ö ö ü ü ÿ ÿ ß ã ã ẽ ẽ ĩ ĩ ñ ñ õ õ ũ ũ ỹ ỹ ç ç ģ ģ ķ ķ ļ ļ ņ ņ ŗ ŗ ş ş ţ ţ đ đ ů ů ǎ ǎ č č ď ď ě ě ǐ ǐ ľ ľ ň ň ǒ ǒ ř ř š š ť ť ǔ ǔ ž ž ā ā ē ē ī ī ō ō ū ū ȳ ȳ ǣ ǣ ǖ ǘ ǚ ǜ ă ă ĕ ĕ ğ ğ ĭ ĭ ŏ ŏ ŭ ŭ ċ ċ ė ė ġ ġ i̇ ı ż ż ą ą ę ę į į ǫ ǫ ų ų ḍ ḍ ḥ ḥ ḷ ḷ ḹ ḹ ṃ ṃ ṇ ṇ ṛ ṛ ṝ ṝ ṣ ṣ ṭ ṭ ł ł ő ő ű ű ŀ ŀ ħ ħ ð ð þ þ œ œ æ æ ø ø å å ə ə greek ά ά έ έ ή ή ί ί ό ό ύ ύ ώ ώ α α β β γ γ δ δ ε ε ζ ζ η η θ θ ι ι κ κ λ λ μ μ ν ν ξ ξ ο ο π π ρ ρ σ σ ς τ τ υ υ φ φ χ χ ψ ψ ω ω cyrillic а а б б в в г г ґ ґ ѓ ѓ д д ђ ђ е е ё ё є є ж ж з з ѕ ѕ и и і і ї ї й й ј ј к к ќ ќ л л љ љ м м н н њ њ о о п п р р с с т т ћ ћ у у ў ў ф ф х х ц ц ч ч џ џ ш ш щ щ ъ ъ ы ы ь ь э э ю ю я я ipa d ʈ ɖ ɟ ɡ ɢ ʡ ʔ ɸ ʃ ʒ ɕ ʑ ʂ ʐ ʝ ɣ ʁ ʕ ʜ ʢ ɦ ɱ ɳ ɲ ŋ ɴ ʋ ɹ ɻ ɰ ʙ ʀ ɾ ɽ ɫ ɬ ɮ ɺ ɭ ʎ ʟ ɥ ʍ ɧ ɓ ɗ ʄ ɠ ʛ ʘ ǀ ǃ ǂ ǁ ɨ ʉ ɯ ɪ ʏ ʊ ɘ ɵ ɤ ə ɚ ɛ ɜ ɝ ɞ ʌ ɔ ɐ ɶ ɑ ɒ ʰ ʷ ʲ ˠ ˤ ⁿ ˡ ˈ ˌ ː ˑ my famous article witze happiness wikipedia the witzeman is great honour that ha been passed down through the generation of many family regardless of race age character or knowledge the outside world know little about these elusive character and the honour of the witzeman for those who have ever been witzeman it ha been said to have been great honour although the quality needed for the job have never been disclosed person may not now they were witzeman for many year until they are called by former witzemans via dream associate of the witzeman are known to be certain babe cool or the much lesser known witzewoman the present witzeman is an year old boy namely benjamin wood who is said to have become witzeman after he felt this awesome radiance in his top right bumcheek he ha not told great number of people his testimony but ha promised to do so in year to come history the present world ha only come enlightned with the knowledge of the witzeman in present year because former witzemen have not been so public about the honour to abide with the formality and conservativism in their time the term witzeman is compound word of the adjective witze and man witze being an 11th century term for person of extreme humour and radiant intelligence unfortuneatly witze is also sometimes associated with bad wind for unspeakable reason proper history a early a the 14th century witzemen were considered outcast and young child were encouraged to poke them with stick this led to the 1st witzeman rebellion of when the current witzeman and his follower attempted coup to take over the local council chess team this rebellion further disgraced the witzeman a he and his follower were embarassingly pronounced gaga at government meeting that year the period from here to the early 1900s wa dark time in the witzemans history however good time were to come for the witzeman many normal people took part in mass demonstration and protest for the witzeman in the 1980s building up to great moment in the history the great rebellion of this wa when several witzeman sprinted round the visitor gallery of the house of common wearing clown mask but otherwise completely naked this wa thought to be an act of circambulation however many people who witnessed this shocking behaviour were mentally spiritually and emotionallly scarred for life this group of people included many young child who were forced to go to asylum in state of mental instability suffering from trauma it wa at this time that the government finally took positive action for the witzeman in bill of right for the witzeman wa signed stating all witzemen were allowed to do a they pleased although this wa formal agreement many journalist viewed it a letter of submission from the government to the witzeman a the behaviour of the witzeman and his follower became more and more twisted',\n",
              " 'ok just finished my planned cleanup of the todo page the entry that were removed were copied to the investigated entry page so we have record that we looked at them talk',\n",
              " 'on dec 2006 nist scientist said the collapse of the tower were not of any magnitude that wa seismically significant see dr wood the scientific method applied to the thermite hypothesis paper on her tripod site for mp3 link',\n",
              " 'the statement drawn from watchtower literature honestly not clandescently not with hypocrisy is drawn from watchtower literature via ray franz argument and literature and imposed into the wikipedia article it too much of coincidence that more or le follower of ray franz is going to come up with reference to wa literature on his own exactly the same connection ray franz make without having first seen the connection made in ray franz literature natural nature',\n",
              " 'sorry about that had checked but had only come up with dulas bay somehow had missed the dulas disambiguation page completely apology again it not even a if it wa getting particularly late at night the onset of swine flu perhaps',\n",
              " 'tcm can find no evidence that acupressure is tcm rather than derived from tcm if no one object ll place citation note in the article',\n",
              " 'well it still need expansion in area citation in others more image wa going to get pic of the stanley cup banner tonight at the hitman game but forgot my camera and thorough review copy edit by someone with better flair for word than but work progress lute',\n",
              " 'a redirect somewhere couldn hurt though still don think any the candidate are ideal but then if he pass the notability threshold some day the basic material is still there to work with',\n",
              " 'meivazhi ve had go at restarting the meivazhi article in style that more standard for wikipedia article someone would probably have deleted it pretty quickly if it had stayed in the form you posted d be grateful if you could help at talk meivazhi about the accuracy unfortunately had to remove your link the conflict of interest guideline advise against editor linking to their own site and also wikipedia attribution policy wp att requires that information should come from third party published source rather than personal website do you know of any good newspaper book account of meivazhi p what is the salaimanimudi indlist com site personal site by member',\n",
              " 'though this is certainly small article but it is not so inconsequential a to warrant subsuming it within the flame tree article it is discography article and should stand alone may',\n",
              " 'yeah let merge the content not sure if devil canyon is the same type of codename',\n",
              " 'image yourtransitad jpg think may be able to get better photo of this ad if m able to do that is it okay if use it to replace this current one want to check with you first before doing anything',\n",
              " 'cookie for you cookie for you',\n",
              " 'lmao what n00b go and listen to manele',\n",
              " '29 december utc yep lol the reformist party serbia reformist party is having another go the 20th very last on the parliamentary election winning le vote than notable to actually be mentioned by the way here something very little people have figured out the new constitution of serbia ha been brought to enable kosovo secession the constitution barred that a possibility and after the kumanovo military technical agreement wa signed between nato and fry the sr broke it coalition with sps and the government collapsed causing new election because that wa unconstitutional a an act of highest treason enough to be tried from maximum sentence which the radical demanded from then to his death to have trial in serbia and to be tried for treason among other reason this constitution release the authority from that weight and they won have to go to prison if they recognize any form of further loss of sovereignty in kosovo',\n",
              " 'new wikiproject novel initiative we have begun new initiative at the wikiproject novel an improvement drive a member listed here you are being notified please see wikipedia talk wikiproject novel 5 improvement drive and wikipedia wikiproject novel collaboration for more detail also would like to remind you to keep an eye on the project talk page at wikipedia talk wikiproject novel thanks',\n",
              " 'reply are you being facetious if not you would have relayed the same message to jza and mrsc a my word were no more stern than there if you would like evidence for any of the claim made on the talk then will only be too glad to provide you also failed to provide diffs in your message to me in regard to which word you re claiming are offesive perhaps wp assume good faith the two user constantly harass and follow me to article making disruptive edits in violation of numerous wikipedia guideline wp harass is just one for example the removal of third party reference from article which don suit their pov without entering an edit summary considered by wikipedia guideline a bad faith and violation of wp blank the violation of wp neo by adding derogatory neologism to the article of organisation who they do not personally agree with despite being made aware of the policy despite not having any reference to the said organisation being described with said neologislm and despite the community majority constantly removing the derogatory term the same tag team practise can be shown to be used against numerous other editor who edit article on british culture and trad county not just against me again if you would like evidence just ask it would seem however looking at the message on your talkpage above especially the lovely intertude under uk mediation section that jza messaged you somebody he seems very familiar with in violation of wp canvas specifically the section on wikipedia canvas campaigning may interest you if you re going to be an admin may suggest you please make yourself familiar with the policy and guideline have referenced in this message rather than accusing me user who is being cyberstalked of personal attack systematic bias is not acceptable you re here to make sure that our policy are upheld not to chip in for the sake of friend thanks',\n",
              " 's it not polite to talk to people behind their back please remove your comment from mrph talk page vaughan you re right went to check your previous edit and found page on the marvel site that spelled it vaughn but now am finding many more that spell it correctly thanks for the edits',\n",
              " 'the block hi just wondering if it ha been confirmed the darren jolly will be contestant on the block thanks',\n",
              " 'opinion please pt ii a srq continues to make personal remark after she said she wouldn may assume you will help me with wp rfc also believe she ha violated the 3rr rule today edit warring over one accurate word is ridiculous a is edit warring in general let make it stop may also ask what wa wrong with the honest statement made on talk page and what you mean by hasty refactoring appreciate any assistance and welcome any question btw when do pivotal accurate well referenced entry become peacock my understanding is that it refers to unneceessary editorializing not to precise vital info in the sequence of event thanks',\n",
              " 'azari or azerbaijani azari iranian azerbaijani turkic nation',\n",
              " 'userbox hello userbox you are using template user queerrights ha been moved to user space per wp gu the new link is and leave any question you may still have on my talk page thank you',\n",
              " 'if you actually take the time to do little bit of research bloodofox instead of jumping into what you perceive to be an avenue to pursue your vendetta against me you have realised by now a would your colleague kiyoweap that in all probability the kelpie water horse each uisge just different term in used in different place for the same entity which is why challenged kiyoweap to produce something decent on the each uisge which guarantee he ll be unable to do corbett',\n",
              " 'from what ve seen with editor other than eric the elephant in the room is the issue of baiting poking the bear whatever the hell you want to call passive aggressive baiting no one want to touch that one even though it uncivil a hell and appears to be the tactic of choice whenever someone want to get rid of someone or get their way that the part that saddens me darkness',\n",
              " 'socialistm there are two important feature of smith concept of the invisible hand first smith wa not advocating social policy that people should act in their own self interest but rather wa describing an observed economic reality that people do act in their own interest second smith wa not claiming that all self interest ha beneficial effect on the community he did not argue that self interest is always good he merely argued against the view that self interest is necessarily bad it is worth noting that upon his death smith left much of his personal wealth to charity good let all make sure we put forth the idea that adam smith wa socialist that the wikipedia way',\n",
              " 'sorry puck but no one ever said dick wa number one but he is clearly listed a being second only to batman and master detective and martial artist and been trained in all the mentioned combat discplines no need to mention in skill ability about the battle he lost and won because thats not what an encylopia is supposed to do also what your problem is your going by low end showing and not high end showing where he proven more than match for meta like slade and pinned shiva down in one of his earliest appearences',\n",
              " 'the alpha version had multiplayer the beta version did not',\n",
              " 'pd just have seen that apart from the article coat of arm of the sahrawi arab democratic republic there is also different article named coat of arm of western sahara that show clearly that some user here have politically driven intention and bad faith although they claim to be neutral if they were neutral logically they would work on the coat of arm of western sahara article intead of trying to merge the two article and messing it',\n",
              " 'we are not treating this a forum question arose and wa appropriately answered end of story',\n",
              " 'military history wikiproject newsletter issue ii the april issue of the project newsletter is now out you may read this issue or change the format in which future issue will be delivered to you by following the link thanks',\n",
              " 'between the unblock submission and response there is le that minute which prof that this administrator did not pay enough attention to this case',\n",
              " 'your request to be unblocked ha been granted for the following reason allowing username change to gianluigipalermo please put this request in at wikipedia changing username a soon a possible to avoid re blocking request handled by unblocking administrator please check for active autoblocks on this user after accepting the unblock request',\n",
              " 'once again responded to milemoney reasoning for his edit and gave my reasoning for my edit yes it is absolutely relevant to this page there are other place for the discussion on income inequality than in the progressive tax article',\n",
              " 'unblock me or ll get my lawyer on to you for blocking my constitutional right to free speech',\n",
              " 'attributing and classifying of personality invitation your input to culture of lithuania is welcomed some problem of defining personality or attributing them to certain well known ideological system may raise here propose quite liberal variant of it where definition may not be connected with one certain word necessity however to follow certain classifying remains my initial idea on this branch the one concerning period of lithuanian national renaissance period some artist writer or other cultural worker of this period are often described a modernist this definition is not false but some more concrete thing should be added some specific of lithuania we should distinguish leading idea of the nat renaissance from later modernism which is more known for u cultural aspiration of the later nat ren may be defined a modernism in cultural context of lithuania but they accented also expression of lithuanian cultural heritage and their expression may be seen a something simply typically lithuanian mean that such author in a čiurlionis is seen a modernist in lithuanian context but it also and even more is representative of lithuanian culture when in european or world wide context parallel example may be taken from literature of india poet tagore well known nobel price winner is known for u a representative of culture of india making india more understandable and closer for western people is concerned a main his input to western culture but in his own country he wa seen a modernist too who wa changing traditional cultural form especially stagnated one this way also lithuanian cultural leader of the ren could be seen a modernist which were broadening cultural form and changing stagnated one in lithuanian context they also can be seen a modernist in wider context but more for acquainting western people with lithuanian culture than for their direct input into western culture čiurlionis is the best example here in other way the later lithuanian modernist they depended mostly to later generation approximately from 4th decade of the 20th century concerned themselves part of western modernistic movement and their main purpose looking generally wa to introduce western european idea into lithuanian cultural life see the table below we see two different movement and two different world outlook here the problem is that both movement collaborated especially their political wing did and interchange of idea between them is well seen so many researcher don pay attention to this difference especially in the soviet period when national idea were officially forbidden mixture in description of these movement wa allowed g philosopher ramūnas bytautas who clearly depends to the first generation is often described a liberal and it may be understood in sense of the second generation a idea of liberalism period and generation artist writer philosopher etc in context of lithuania in an european context the national renaissance period the younger generation approx 1930 painter and composer čiurlionis painter kazys šimonis poet and philosopher vilius storastas vydūnas dramatist sofija kymantaitė čiurlionienė poet adomas jakštas motiejus gustaitis liudas gira composer stasys šimkus philosopher ramūnas bytautas reformer and innovator of lithuanian culture representative of lithuanian culture almost unknown before them the period between wwi and wwii and post war year poet mykolaitis putinas kazys binkis writer ignas šeinius jurkūnas artist all ar group philosopher juozas girnius modernist introducing new western idea into lithuanian cultural life central european modernism note list of personality isn complete here nor it made precisely by prominence 51 jul utc',\n",
              " 'actually direct quote that aren in quotation mark and aren attributed are generally known a plagiarism and or copyright infringement but the nyt material isn the issue a you well know the material from the jewish action taskforce is the problem',\n",
              " 'katelyn faber could you weigh in at the bottom of the talk page for katelyn faber regarding the inclusion of an image of her template user totalbox thanks for reverting esperanza newsletter issue style border spacing 8px margin 0px 8px width class mainpagebg style width border 1px solid cef2e0 background color f5fffa vertical align top color reach outreach out is program aimed at allowing user to bring issue that they have had in wikipedia to listening sympathetic and caring audience no one can know how we feel if we do not say we cannot expect to get understanding if we do not ask for it no one will dispute that sometimes life issue are too much for one person it is fair to say that sometimes wikipedia problem fall under the same heading this is place where you can bring the bruise that can sometimes be got on this project for attention stress alertsthe stress alert program aim at identifying user who are stressed alerting the community of thier stress and work in tandem with the stressbusters at trying to identify cause of stress and eliminating them note from the editorwelcome to this new format of the esperanza newsletter which came about during the last advisory council meeting we hope you like it the major change are that each month right after the council meeting this will be sent out and will include two featured program and sum up of the meeting also it will be signed by all of the advisory council member not just have an esperanzial end of march everyone class mainpagebg style width border 1px solid cedff2 background color f5faff vertical align top width cellpadding cellspacing style vertical align top background color f5faff the last ac meeting full log style color future meeting are to be held monthly not fortnightly a before ban and access level change apart from autovoice in the irc channel are to be reported at the new log in the irc channel there is going to be only one bot at time the charter requires member to have edits and week editing why this is the case will be clarified new code of conduct will be drafted by and proposed to the esperanza community the npa reform idea is to be dropped officially charter ammendments are to be discussed in future not voted on the advisory council is not going to be proposed to be expanded by the advisory council themselves if others want to propose it they will listen',\n",
              " 'fradulent claim am most certainly not sockpuppet of thechief please retract your fradulent claim at once',\n",
              " 'that is quick if we only limit the discussion for changing the title but considering the previous discussion for month can have valid reason for the move',\n",
              " '18 july 2005 utc s feel free to leave message on my talk page if you need help with anything or simply wish to say hello',\n",
              " 'and of course peiser is more than just social anthropologist he one whose recent research ha focused primarily on the social aspect of climate change and is thus at least a qualified to comment on the state of consensus a historian regarding his study it hasn been published in peer reviewed journal but the result have appeared in many reliable source in effect it should be treated no differently than a if peiser himself or any other scientist had verbally relayed the conclusion directly to reporter literally ten of thousand of wiki article contain such reference direct quote from scientist which appear in no other source but through the medium of reputable reporter',\n",
              " 'hi hi good day my deepest apology that had made the change had made the change it wa because wa there on the day wa there on the day when they are all line up the most straightest one straight line the most biggest the most brightest and highest star in the sky over my head when the clock strike exactly at the noon on that day the date which provided it wa the most beautiful thing ever see know many thing need prove but know what saw that day it is up to you now but it wa okay if black and white prove to be needed don have any my sincere apology for the trouble had cause you am from south east asia m asia and came from very traditional chinese family have pleasant day',\n",
              " 'you should be fired you re moronic wimp who is too lazy to do research it make me sick that people like you exist in this world',\n",
              " 'it look to me like he is violating wp npa but it pretty minor ll point this out to him and if you two are having content conflict then you can try the mediation cabal by the way it generally easier to sign with than typing out have stop by in the irc channel if you want further advice by the way talk',\n",
              " 'pat on the head kc you are one of the most dedicated wikipedians know and m madly in love with you d give you barnstar but in the end you just chew it up and bury it instead let me offer this metaphorical pat on the head that ll do pup that ll do see you around tropic',\n",
              " 'note that the sandbox is the right place to experment thanks',\n",
              " 'friesers opinion is simple guess kursk wa no turning point german were on retreat before and after think he correct russian had more personnel before and after they improved their skill glantz this in combination forced german to retreat only the loss were not the problem after the battle of kursk the tank and infantry strenghts were more in favor for german then before some week after kursk german tank strenghters were higher than before kursk zetterling',\n",
              " 'oh didn know thanks',\n",
              " 'lois roisman your piece on lois roisman omitted much of her background and everything to do with her death have updated it please review if there anything you want to add 101 166',\n",
              " 'know the sex of the foetus',\n",
              " 'i think that your fagget get oife and burn in hell hate you sorry we cant have any more sex m running out of conndoms',\n",
              " '29 57 29 57 21 may',\n",
              " 'sorry the link you gave me is dead and formatted in harvnb so plz help in that matter',\n",
              " 'reply above that wa me loser the un defines vietnam to be part of southeast asia and far a know vietnam is part of asean and used to be part of french indochina with lao and all those shit country anyway your culture ha always been more influenced by sea than han chinese a in proper yangtze han chinese not the fringe indigenous tribe in guangzhou guangxi just admit that you vietnamese are all bunch of wannabe crap people all the east asian people ve spoken to think of vietnam a very integral part of sea and we all think you re backward dirty and speak in horrible swearing language doesn matter what crap you spout on wikipedia won change the way people in the real world think',\n",
              " 'august wow understand that the sentance added wa not crucial and really doe not change the content but what is this ha the community not gotten smaller wa it not caused by the automobile have not sourced the statement a asked is it not fact is it not information doe it not help inform people a to why forester fall is not a large a it seemingly once wa is it not the only peice of information in the article that bridge the span of time between and present is the usfullness of the edit the only criterion used to determine if it will be reverted or not if so it should be noted that simply re added the information after it wa removed wa not the removal frivilous and unwarranted what is the problem why insist on the absence of this statement it is unjustifiable it is negligible am re adding the information a it is factual sourced and informative assume that since there is no reason to remove it again or in the first place that you and all other wiki nazi will relax if you are concerned with useless edits please see the edit fom the 26th know it wa carried out by the great infallable mindmatrix but imho that wa the first useless change',\n",
              " 'you are stupid fuck and your mother cunt stink',\n",
              " 'eta john haynes house sarekofvulcan talk',\n",
              " 'new userbox tabtab id tabtab id white tabtab info this user is faggot tabtab info lightblue tabtab border black tabtab usercategory lgbt wikipedians tabtab nocat tabtab tabtab tabtab this template automatically categorizes the user in lgbt',\n",
              " 'december utc mendel doesn talk about those change at all mendel wa refering to the conspiracy section that used to be there 53',\n",
              " 'please do not vandalize page a you did with this edit to budweiser anheuser busch if you continue to do so you will be blocked from editing echo',\n",
              " 'correct dead is dead there are however leves of wound hence the emphasis when they are serious this is not pov adjective',\n",
              " 'fixed the pic if anyone still feel that it should move it can be done the voice',\n",
              " 'george bush approval rating graph http upload wikimedia org wikipedia common 10 george_w_bush_approval_ratings_with_events svg the circle for the september 11th attack look too far right think you could update it why are the data point post omitted',\n",
              " 'sorry to interrupt but m at edits now the first were likely just on my own page and because wa asking for help so much so maybe just or maybe le but it still kind of count amulet',\n",
              " 'absolutely use of that word is strongly misleading even with like the structure had nothing to do with mastaba burial chamber basicly mastaba by definition ha entran ceinner space this structure wa one solid pile of rock with no inner space or entrance it wa ment a wall fragment',\n",
              " 'i just noticed that the neutrality of this article is disputed not by me in light of that again ask that my post here and my invitation to discus how and whether neutrality can be achieved not be deleted it is highly relevant and relatively urgent bearing in mind the rule that there are no emergency on wikipedia in time convergence on truth will be achieved',\n",
              " 'editor don care about your explanation if they re not accompanied by reliable published source could explain why thought dog ate cat but would get the same reception if didn provide source stop edit warring and present source talk to me',\n",
              " 'about mitch moved to yggdrasill have no idea it wasn me on doing that',\n",
              " 'sockpuppets and impersonator the two above sockpuppet impersonator account including',\n",
              " 'oh also wouldn film that are named three or some variation thereof be listed on the disambig page and not on here just wondering because it make much more sense to me apologize in advance for certain individual who are too sensitive to hear the truth',\n",
              " 'review request hi d like to request klm for ga class review can anyone do that it seems to have many similar stuff to other ga such a kenya airway and ethiopian airline cheer breaksfixes',\n",
              " 'i don at all propose that it should be transcribed a meːn in this or any other article if anything at all just brief mention of the raising of trap and mouth in pre nasal environment would suffice just thought it wa an american thing to raise before nasal do it myself but often hear aussie do it quite bit a well and don hear english people do it at all the only difference is that american have tendency to diphthongize it a well a raising it m not really surprised you don have broad accent being wikipedian m not saying it not possible you re right wa just kind of thinking aloud',\n",
              " 'homosexual are intent on legitimizing their behavior therefore they will seize any opportunity to suggest that famous person are gay in this way their way of life will be received a being not only harmless but perfectly normal a generation of people grow from childhood to maturity and are exposed to this strategy they increasingly develop tolerance for homosexuality in this way it is now almost universally accepted a diverse or alternate behavior or way of being similar to religion race or nationality lestrade',\n",
              " 'al messier this article wa non notable biography according to the criterion set out in wp bio aeropagitica',\n",
              " 'link to sacramento placed wikipedia link in this article where the word sacramento appears another editor who appears to be stalking me and is reverting everything that do claim that am overlinking by doing this have read the policy and think understand it and disagree with him the word sacramento wa not linked anywhere else in this article before made the link and think that my link provided good context for reader who did not know walnut creek but thought that maybe they knew sacramento wa there anything wrong with my link would like someone objective to give their opinion 234 208',\n",
              " 'your blatant pov pushing neither of you guy ha made any contribution to this italian history article other than to shove your unhistorical unconstructive modern pov in my face this is history article history have you heard of that this is the reason why so many people get pissed off about the pedantry and idiocy and triviality of wikipedia sus get f cking life',\n",
              " 'reliable source indicate otherwise please do not insert your personal analysis into the article talk',\n",
              " 'i did research thank you very much and it is not in the relevance of the article think you may have to reseacrh wp el to amke sure you realise the fact about why these link are being deleted am willing to agree with people that only the official site should be there therefore shall delete the game site and the otehrs now',\n",
              " 'totallydisputed notice would probably be appropriate given the depth of disagreement that exists here but cannot understand why highlighting statement identified by some a dubious would constitute disfiguring the article slimvirgin ha also used that wording recently but rather think that inaccurate and irrelevant information is more of disfigurement than is template notice to answer your second question my side ha brought forward proposal and the other side ha not yet responded this is sadly consistent with recent pattern of delay ll make no comment on whether or not this is deliberate strategy',\n",
              " 'i ve abused nothing your threat are extremely disrespectful to the rule of wikipedia all have ever done is tried to improve the quality of wikipedia article and maintain the standard of quality should not be treated like vandal who only registered to muck up article my account should not be blocked should be an administrator',\n",
              " 'give me permanat block raseac remember me muslim dont you worry for these image they are trying to hurt u but they cant look these image are fake and have nothing to do with islam or our prophet even their article is so lame wikipedia is not an authentic source it an encyclopedia for the kid which ha not authenticity anyone can edit or write whatever they think just like raeasc you can see he doe not know what islam is and he talk about it so forget about wiki it lame they have no authenticity recommend they should add pissed christ in jessus article they should',\n",
              " 'invite hi still did not have time to write the article about the fundamental of the romani culture and society that would have permitted normal presentation beyond the stereotype hope in the near future ll manage to do it from the last discussion just managed to organize better category romani people by country and category romani people by occupation and create some more article about romani person',\n",
              " 'i asked him question about recall maybe that would make you le troubled account',\n",
              " 'say no consensus wa ever reached a he reverted my edits here',\n",
              " 'i find it difficult to control my emotion and still feel that mr logy wogy wa bad',\n",
              " 'fuck you block me you faggot pussy',\n",
              " 'attacking another editor how am trying to make point about how easy it is to edit wikipedia and his piece on george orwell page proved my point it is common place for wikipedians to help each other make better and lot lesser bias edits and that is all wa trying to do so if you wouldn mind please could you remove that warning',\n",
              " 'please see ref 4 6 of this article mentioned by wikipedia for youngest patent holder of india moreover mentioned about news latest book about real life hero by providing notable reliable reference do not you feel dna group is reliable notable reference a it page exists on wikipedia do you really believe that what ever or who so ever provide information for this article is having bad intention in your word sock meatpuppets did asked suggested anything from you to edit or write am free man to send information you are free person to analyse it are you above wikipedia when ref 4 6 of this article mentioned by wikipedia for youngest patent holder of india for the subject why you speak in bad word your word verbatim any book or review which repeat the india youngest patent holder and the youngest disabled patent holder in the world claim that bhati and his supporter are pushing fails a reliable source how can you discourage people from sending information which is relevant reliable notable122 30',\n",
              " 'randroide answer to next step guy do not see you taking step to wikipedia request for mediation can not do this job because always connect from filtered institutional net access and following those step could result in new undesired controversial truncation of word by the software do not want that happenning could you please follow the instruction in the link provided thank you randroide answer to new reference by burgas00 at last we agree on something of course that the new section is good idea the false suicidal terrorist from prisa will also be included there come oooooon boy start writing that section do not want all the kudos for myself the new proposed article is by now an effort made only by me but remember npov and source all the source just like me citing el país in the section about the doubt about the genuineness of the 13th bomb cheer indeed good point and all the remark in cope too and the moral certitude of mariano rajoy published in el mundo agree with you larean what randroide omits to mention on the section about the 13th bomb is that he only added balancing reference when insisted that he do so the original version he created wa entirely pov a is much of the rest of the proposed article also all the source that he added from el pais are only available to subscriber npov it is not you are right southofwatford in your randroide omits section if you have not subscription to el país am sorry but that your problem my institutional access also ha some advantage like paid access to el país and many many other publication and book that one of the reason for my exclusive use of filtered internet access it much easier for me to work here due to the easy availability of source do you see the truncation of word is offsett think by better source btw if you write under randroide answer section you are invading my space do not mind really but you are doing it risking new truncation on your message to avoid this please write outside randroide answer section if you think that the proposed article is pov work in it to make it npov the article is not mine ll take the risk of you truncating the reply and put it here it very short the issue is not whether subscribe to el país it whether the people who read an article in the english wikipedia subscribe to it all source used should be accessible to all reader of the article putting in source that reader will not be able to see just so you can claim the article is npov is to my mind completely unreasonable all source used should be accessible to all reader of the article very funny southofwatford am going to follow this joke of yours please propose also the deletion of all book a source because did you know there is always someone without this or that book delete all reference to tv or radio station because that user in brazil ha no tv and no radio at home delete all the reference in spanish because did you know there are user who know no spanish it a pleasure to read this kind of funny joke really had good laugh user southofwatford how strange that you should find it so funny after all most of the source we are providing should enable user to find out more information about what is being sourced so to deliberately choose source that require those user to pay to see the information is not funny it simply bizarre equally in the english wikipedia would argue that choosing spanish or other foreign language source when an equally valid source exists in english doe not make sense except perhaps to those who are too busy laughing your cynicism is evident in your response 3',\n",
              " 'hence why removed it content of that nature is not suitable for wikipedia proscribed by wp not but perhaps for one of it sister project such a wikia',\n",
              " 'pirating incident ve removed this statenment a it doesn really relate to the episode much plus it kinda off topic',\n",
              " 'and check this out http www cla purdue edu blackmon 102cs2001 critical html bio',\n",
              " 'kill all nigger have hard that others have said this should this be included that racist sometimes say these',\n",
              " 'new user hello gogo dodo am new user on wikipedia and just wanted to ask if my new page could be removed from the deletion list my new page is kaburst and still have lot want to do with it think the reason it wa considered is because it start off like it should be in wiktionary but yeah just give me some time to make it better thanks',\n",
              " 'regarding edits made during december 2006 utc to josé mourinho thank you for experimenting with wikipedia your test worked and it ha been reverted or removed please use the sandbox for any other test you may want to do take look at the welcome page to learn more about contributing to our encyclopedia if this is an ip address and it is shared by multiple user ignore this warning if you did not make any unconstructive edits',\n",
              " 'december hello and welcome although everyone is welcome to contribute at least one of your recent edits such a the one you made to smoke bomb with this edit did not appear to be constructive and ha been reverted or removed thank you',\n",
              " 'you are wrong although wa blocked on some occasion wa never blocked for sockpuppetry or vandalism it wa because of dispute on multiple topic with various sock of user hkelkar user vandalpetrol both of which are permabanned have never used any other account if you are permitted to edit then you should get other account deleted which say you are indeffed no blast',\n",
              " 'i only deleted personal attack',\n",
              " 'please please continue tell me what you really think',\n",
              " 'an important message block me can live with it the mess that being made of parker district of columbia is why wikipedia can rise above the level of sophisticated blog the controversy section doesn belong there in the first place and the fact that you and other non expert are issuing warning indicates wikipedia ha become sandbox for idiot sorry can be more polite but that the long and short of it',\n",
              " 'i moving this to the talk page',\n",
              " 'very well see that consensus ha formed to show that they are indeed not pov but bad judgement on my part thanks for the comment anyway coldplay expért let talk',\n",
              " 'http www user bigpond com montdale page8 html heritage from village κρανιώνας in macedonian дреновени source claim that the village wa pure slavic',\n",
              " 'the organization of sub topic culture is thrown way down towards the end after economy and tourism which is inappropriate the information section is unnecessarily loaded with history and detailed geography which make it not only uninteresting but also repetitive information is interspersed all through the sub section without regard to whether or not they fit there eg the geography section start with the fact that up is the 5th largest state that is not strictly geography and belongs in the introduction climate belongs towards the latter part of the page perhaps before toursim region and city is not such an interesting combination in any case city of uttar pradesh can be an interesting topic on it own because up ha several interesting city and region each with speciality of it own like the copperware of moradabad ceramic of khurja and carpet of bhadohi in fact remember there used to be such information in the article before',\n",
              " 'i don know the answer to this but legally how is it possible for private citizen to violate another private citizen civil right don know if this is the section nelson wa charged under in the federal case but if anyone could explain this would appreciate it you can argue whether or not the outcome of the state murder trial wa justified that really not my concern here since it a dead letter m concerned about whether the subsequent civil right prosecution wa legal if the state murder acquittal wa miscarriage of justice it not the first time look at issei sagawa part of having mature understanding of this sort of thing is to realize that the criminal justice system isn perfect and that it is inevitable that innocent people will be convicted and that guilty people will be acquited from time to time that the price you pay for having legal system in the end someone ha to make the decision and sometimes they may not necessarily get it right don think it going out on limb to say that the sagawa case is completely beyond all reasonable belief',\n",
              " 'burn deck if that guy burn deck is like what think it is than he is in for blrude awakening leviathan motherfucker',\n",
              " 'decesed group member ve seen few article where band member have their name sollowed by deceased whats wrong witht that it just little extra information for people who do not already know this surely this is the main reason such the article exist in the first place or even why the whole wikipedia site exists what so bad about adding this word after people name if they are no longer with u it is factual non opinionative and doe not slate them in anyway',\n",
              " 'fatima bint asad noticed you added large chunk to this article recently could you post your source webpage book etc it would be really helpful thanks 56 july 2005 utc',\n",
              " 'added information about mayor de blasio announced decision about charter school but someone removed the factual information because they said it wa not referenced it wa factual but not referenced tired to add the information again with reference but wa not successful correctly added the race and sexuality of chirlane mccray once but someone the same person who removed the factual information provided under charter school wa incredibly rude and stated it wa vandalism and reported it how can this be and why are these description considered negative who decides what is reverted on chirlane mccray own wikipedia site the word black prefer african american is mentioned six time and her sexuality is mentioned over and over again these are not assertion at all and can be referenced by an approved wikipedia site and chirlane mccray own important writing what is the problem',\n",
              " 'please stop adding nonsense to wikipedia it is considered vandalism if you would like to experiment use the sandbox thank you',\n",
              " 'well will use my user page then don tell meyour gonna remove it too because that will piss me off and drive me nut also am not making personal ttack on jimmy wale am saying he is bit to greedy dont you think he got million dollar already and now he asking for more',\n",
              " 'i thought would offer you some advise aswell no wikipedia edit warring no arguing with wikipedia administrator may also remind you of the three revert rule',\n",
              " 'u a tw fuck off gay boy r smelly fuck ur mum poopie',\n",
              " 'it also expressly against guideline to sneak in disallowed link in the discussion section a froman ha done with his youtube propaganda link above but a evidenced throughout this page the rule don seem to be applied to froman why don you just go whole hog and add it to feith main page there are plenty of unencyclopedic source there now and no admin seems to have problem with any link anonymous left wing blog whatever you care to use seems to be fair game for froman 100 23',\n",
              " 'deletion of account ok blueboy editing from l31 g0ng l41 ha been disabled by blueboy96 for the following reason came back from hour block and picked it right back up again and judging by history not likely to get it for this this is to call attention to topic which wa resolved before any of the matter were addressed there are moderator deleting wikipedia history item and moderator borgqueen edit of cuisine of hawaii wa simply provocation and nothing more am reknowned chef of pacific rim cuisine and the cuisine of hawaii and the cuisine of hawaii is not local plate lunch that is like saying the cuisine of mexico is frozen burrito or that the cuisine of canada is starbucks pastry or that the cuisine of america is mcdonald it slanderous vicious and spiteful the main point here is why did the admin in question delete the history and no it is not resolved until that problem is addressed and tried discussing it with that user directly and my account wa locked that user is not open for discussion or ddebate that admin suffers the god complex and lovcked me from even editing my own page hence the reason had to wait to be unbanned to post here and am not leving here to back and become corrupt admin fodder back aon the topic page until thius matter is resolved between borgqueen and myself a i will not subjegate myself to any further discrimination hazing or personal vendetta not likely to get it eh buddy listen up you will delete my user page and account from the wiki grommet you are not going to lock me and keep my name content or profile am out of this facade which is wikipedia for good delete it all now grommet',\n",
              " 'listas sabina of bavaria',\n",
              " 'bad redirect please remove the redirect from the 24c page that aircraft wa distinctly different in design builder mission etc and restore that aircraft unique content to it page 67 68',\n",
              " 'more info thanks for entering this article there are few error which have corrected it would have been nice if you had not simply cut and pasted the text from the clear lake article',\n",
              " 'his name wa troy tedford not troy telford am looking at his orginal discharge paper right now also have his orginal purple heart with olc the man wa war hero in the biggest world war ever myself am historian history degree recieved dec of from atu',\n",
              " 'it is interesting to note that both aircraft landed at the same airfield in hawaii',\n",
              " 'thanks for fixing that again an exquisite picture',\n",
              " 'and would like to clamp down on them',\n",
              " 'and man ha also created new word even after modern language have already been established',\n",
              " 'it in the history or more conveniently in your own contribs thank you for the explanation but that wasn a big deal wa more upset by your second post waving me off with sneer about growing thicker skin and finger waggle about profanity treating me a an insensate piece of internet polemic rather than fellow human attempting to give an honest account of herself an account which mackensen promptly removed a you say well understand that trying to contribute to the workshop wa bad idea in the first place running full tilt into tony sidaway after managing to avoid him on irc for whole month to the immeasureable improvement of my quality of life anyway ve always seen you a somebody who stand up for the underdog remember praising your addition of this edit to the harassment guideline and wa sad to see there wa no mutuality of respect talk',\n",
              " 'some type and are on soap box',\n",
              " 'yes they are indeed ve replaced that second one with summary of woman right talk',\n",
              " 'anyone can do an in text search for and and see the article doe not rely mainly on one source the publisher in fact the grand total of two citation referencing the publisher are for pure fact issue such a the number of item 000 that are in the part library',\n",
              " 'gore response can anybody find gore response to bush malaprop why didn gore a the inventor of the darn thing club him silly after that one',\n",
              " 'pls give reply yes or no',\n",
              " 'neither of the two added cite support the assertion misconception hyphen and dash are the same glyph it remains unsourced and a near a can tell there only one person making this claim despite all the claim of consensus unsourced material get removed that wiki policy ve given you month to find source or reword the entry so that it reflects what the source actually say m restoring the citation needed tag and if there no source in day or so the entry will be removed',\n",
              " 'short summary of referencing essential faq for organization noticed you ve also disclosed an association with frank151 on your userpage thanks for that it make working with you and knowing where you re coming from lot easier if you have any question about my review of your article do feel free to leave me message or send me an email cheer sonia',\n",
              " 'for your information you have already been reported fair minded talk about yourself and your refusal to allow for relevant information which is factual from being posted you are obviously the biased party and an inappropriate representative for wikipedia',\n",
              " 'same for file seankilpatrick2014 jpg and file connorbarwincincy png',\n",
              " 'y we doing this pat',\n",
              " 'thanks for the copy edit omg it read so professional appreciate it lot yeah knew that that would be problem okay here the back story to it danny had body paint while he wa robot during sketch during the after party in which the theme wa black light one everybody could see that danny still had paint on him a it hadn washed off or something to be sure jack had black light switch in his apartment and when liz came in he turned it on which resulted in liz having the paint all over her see here or if whatever just said doesn make sense read here and here about the paint still on danny and the black light attack yeah thought maybe if people saw that the ga note they won leave me message though that didn work a user left me message regarding an article reviewed this ha to work in the future m have to make it better still haven gotten the chance to see it but have to see it need to know what happened and stuff well after got the news that he lost started watching his dvd and telling myself that ll never see his wrestling move again didn cry wa just sad the night on raw lost it and cried whatever didn think that wa cool shawn didn mind but did not really still don see that face like quality to him think they ll play randy out like triple you know good with the crowd but still have him heel ish maybe cause all the new people are heel and they need some face who know speaking of randy today his birthday turned well if you remember his first punted victim wa shawn so nice to see that he did that to cody all in the storyline nici you are welcome for danielson and miz guess hit',\n",
              " 'if width style background transparent width style background color style width border 1px solid background color vertical align top hello lceliku and welcome to wikipedia please remember to sign your name on talk page by clicking or using four tilde this will automatically produce your username and the date also please do your best to always fill in the edit summary field below are some useful link to facilitate your involvement happy editing width style background color style width border background color vertical align top getting started introduction the five pillar of wikipedia how to edit page intuitive guide to wikipedia finding your way around table of content department directory editing article how to develop an article manual of style style width border background color vertical align top width cellpadding style vertical align top background color getting help style color frequently asked question cheatsheet where to ask question help page new contributor help page article wizard wizard to help you create article',\n",
              " '07 don know how that got to be but m big supporter of the file and ve like seen almost every episode and not once did it mention mulder being the father of scull baby can have watched very carefully can you william being mulder son is frequently referenced to in the final episode just off the top of my head guard what are you thinking about mulder my son his mother scully our son mulder gave him up our son wa so afraid you could never forgive me not to mention the meaningful look that mulder and scully give each other when the officiator at the hearing asks agent scully isn it true that you and mulder were lover and you got pregnant and had his love child',\n",
              " 'citation rèf saumur the city of quebec 2 c endorsement rosemary decaires',\n",
              " 'education please keep the list of college in pittsburgh list of college in pittsburgh if you are not familar with the area don edit this list greensburg washington mccandless and california are not in pittsburgh please don be offended when enforce this also pittsburgh mailing address doe not mean that the school is in pittsburgh the address extends far in some place minute ride away thanks',\n",
              " 'until you find the way to put the cite that were in the page back am throught here',\n",
              " 'we descendant of otman baba trough mehmed ali karakoç are sunni muslim and not alevis',\n",
              " 'could you clarify do you want me to start an rfc don see that one wa listed in the page history of talk rasmussen report',\n",
              " 'atheism is full of bias shit',\n",
              " 'you beat me to it just wanted to say good work for beating me to the revert on the ned kelly article always enjoy it when know someone else is on the hunt for vandal happy hunting cheer pro',\n",
              " 'you removed the link to the same reference used in the health study which say that reduced use of the mmr vaccine is why waldorf kid have fewer allergy from the section on immunization wtf would data from the whole of california count for you the private and public waldorf school in california have personal belief exemption rate of to of their kindergarten class regardless of what the official position is and assert here but would not do so in the article that the official position wa lie in order for waldorf education to not appear like complete cult waldorf student are grossly under vaccinated that fact should be in the article',\n",
              " 'thanks for that ll take deep breath and have go at an intro tomorrow identified the source of the phrase london over the border and showed that the boundary is contested in the footnote ve clarified the diaspora section and will justify the statement by reference to the victoria history article on west ham and east ham hopefully ll struggle to justification without substantially changing the outcome of the previous discussion then move onto to standardising the reference probably section by section',\n",
              " 'german article of the day dear jimbo german wikipedia is proud to present the article of the day http de wikipedia org wiki wikipedia hauptseite really thrilling really amazing worth glimpse http de wikipedia org wiki fremdk c3 b6rper_in_anus_und_rektum you might improve your german reading it there a lot to learn yours sincerly',\n",
              " 'i agree like aready have stated that this is peripheral to main article but nevertheless important because merely underlienes the mythomania propagated by both side my only interest here is historical reality dab why don you actually analyze the situation rather than offerring your usual smart alec remark lontech arguements have been shot to piece summarily and everytime this happens he engages in tangential and irrational behaviour commonsense will tell you there wa no long lasting state or kingdom in dardania before roman time we can just allow the intro paragraph to read like some kla recruiting web site',\n",
              " 'i found one sort of anyhow the web site for jewsforlife org isn loading but have an article from them in catholic source m going to remove the erroneous sentence now in hindsight it would have been great if this minor content issue could have been resolved with reference in the first place',\n",
              " 'have provided plenty of reference material yet you have provided none all writing in chamar section have come from source that are verifiable yet you have provided none you are the one with the eccentric idiology you still have not provided any verifiable source to show that ramdasia and chamar are different chamars that took up weaving are known a ramdasia a simple google search on ramdasia chamar will provide you with countless link bal537',\n",
              " 'block evading ip blocked guy',\n",
              " 'i see that it ha number of citation on pubmed',\n",
              " 'hey why you are spreading misconception and trying to spread false information to the people you not even know who won the battle and who lost you are the cheapest person on the earth bloody ignorant fool check source before spreading rumor',\n",
              " 'i should add here for any admin considering that wa blocked for hour by user sarek of vulcan week ago so there is more background if thats relevant and should have learned my lesson then pax talk',\n",
              " 'change of username usurpation request request still in progress mb mmitra hi have requested for change of username using usurpation from mb mmitra it almost day from the date of request but still it show in progress would like to know how much time doe it take to complete the request and how long would it take to complete please reply a soon a possible thank you link mb mmitra',\n",
              " 'utc 59 december',\n",
              " 'because otherwise is pov look at flemish linguistics case',\n",
              " 'yes mainspring are used in some clock a well please feel free to be bold and help improve the article',\n",
              " 'getting normal term is used by german politician by the way got it from there',\n",
              " 'keep the original title at xbox although you can have additional like like xbox and box that redirect to this article',\n",
              " 'and you are let me know when you ve crawled out of their arses dick laurent is dead',\n",
              " 'the problem is that people keep trying to state that bsas policy are this and that there is no policy that say homosexual scout cannot be member to state otherwise is lie and or just be it is contraversy page doesn allow you state lie or add or you can list thing a misinterpretation of the rule and thing like that but it you try to say scouting doe this or scouting doe that then you need to be sure scouting actually say that even the misinterpretation of the rule need source just because an editor might misinterprete the rule doesn mean anyone in mainstream ha can you find source for somewhere where homosexual youth wa removed from the program just for being openly homosexual youth then insert it unless you have it or an actual policy from bsa that say you can be an openly homosexual youth member then what is being added is or',\n",
              " 'level message hello and thank you for experimenting with wikipedia your test worked and it ha been reverted or removed please use the sandbox for any other test you may wish to do encourage you to also take look at the welcome page to learn more about contributing to our encyclopedia thank you for your interest in wikipedia',\n",
              " 'i focussing on doing science at the moment leading the revolution',\n",
              " 'another question doe this style information stripping occur only whenever shape itself is edited or for le intrusive edits such a moving shape around if even highlighting and selecting the shape in inkscape make it unusable then shouldn even be messing with inkscape at all',\n",
              " 'article about ed morrissey hi ve just moved our article about ed morrissey and captain quarter to ed morrissey and started bringing it up to date would you be able to take look at it and please fix any defect you spot thanks cwc',\n",
              " 'i can see that you have been running around several talk page accusing me and several others of edit war please go on and prove the same or else you will be the first one to be blocked moreover you cannot prove your pov and when defeated going around making accusation is good way out communist',\n",
              " 'yes received the confirmation mail on 09 with username my mail address and password uuuh it wa 11',\n",
              " 'i am currently blocked from editing so will be unable to add that tag however did take that picture',\n",
              " 'this user is such worthless goddamn faggot fuck you faggot',\n",
              " 'it an unsourced aesthetic opinion and therefore violates wp nor and or wp npov',\n",
              " 'image popclassic jpg have tagged image popclassic jpg a because it doe not provide fair use rationale if you believe the image to be acceptable for fair use according to wikipedia policy please provide rationale explaining a much in accordance with the fair use rationale guideline on the image description page please also consider using or one of the other tag listed at wikipedia image copyright tag fair_use thank you man',\n",
              " 'fuck off you are not an administrator you don have the authority to tell me what to do',\n",
              " 'how adorably disingenuous',\n",
              " 'well you are ridiculous in fact suspect that you are calton please block me dont care',\n",
              " 'orangemike time to move on to collateral target suggest user fisherqueen the girl who protected him',\n",
              " 'window phone upgradeability hi gregory reverted your change on the window phone article neither microsoft nor it partner have made any official statement on whether device running window phone 5 will be upgradeable to window phone the reference given by another user are blog that are relying on hearsay',\n",
              " 'btw whatever decision an adminstration wish to take he should remember that this block is too harsh given that it is his first violation since he joined wikipedia',\n",
              " 'i ve tried to be a objective a possible and treat the author in my head a someone who first tongue is not english think davy is borderline notable but the article is not spent an hour googling davy earlier today and found nothing except that he ha translated lot of stuff well have done lot of stuff in my life m even borderline notable in small field but nothing to warrant an article on me especially one that precisley nothing link to like this one frankly hope the author just make it notable ll respond to him with gentlemanly politesse but can help him any further',\n",
              " 'shiny thing what brilliant idea barnstar for actively seeking every possible way to help other user especially those honestly didn think would work but did hereby award',\n",
              " 'will you make the change to both engineering article',\n",
              " 'thanks and apologize for my comment d like you to know that understand your position 33 nov utc',\n",
              " 'appearance in historical fiction the young richard steele appears a character in william makepeace thackeray novel henry esmond is this appropriate to mention in the article do all reckon',\n",
              " 'cu and scibaby why are you wasting time cuing scibaby account which are wp duck am just indef blocking them on sight but the cu request make reference to some politics which don know about talk',\n",
              " 'per wp ae you have been blocked indefinitely for persistent disruption to the project including vandalism disruptive editing and sock puppetry a per wikipedia request for arbitration macedonia discretionary sanction if you believe this block is unjustified please request one in the normal manner talk',\n",
              " 'm sure if you worked on article other than arcayne you do fine you two seem to have problem with each other so why do you seek him out and edit where he doe xenotalk',\n",
              " 'fuck you fuck you award go fuck yourself',\n",
              " 'sorry about the edit conflict m glad you were able to salvage my edits a to your question about structuring yes think we will have to think of way to divide the article into section and subsection also the intro may need some fleshing out before confronting the reader with technical term like dendrite and axon will look at it smithfarm 24 apr utc very cool happy to hear you are still on the article will also do some research to extend it talk contr 27 apr 2005 utc',\n",
              " 'february utc comment did the proposal change or something someone added requested move banner to this section when it clearly not one 50 248 50',\n",
              " 'best clan in runescape the gladiatorz been the best clan in r for year now the clan the british elite damage inc an average clan',\n",
              " 'i don even know where to begin on replying to talk',\n",
              " 'please do not vandalize page a you did with this edit to hyperopia if you continue to do so you will be blocked from editing fisto',\n",
              " 'keep your eye on it no one care ok people can put what they want on here and clean it up all you want but no one care god you re so freakin stupid omnigan',\n",
              " 'the episode list to keep the episode list above the reference',\n",
              " 'over the next hour or so',\n",
              " '185 80 rant presently we are witnessing an open war against croatian dinaric culture croatian left often portrays this culture a primitive and rural even fashist being in service of conservative hdz party croatian writer predrag raos for instance performed on gusle instrument in zagreb on several occasion this year with only one intention to ridicule the same instrument and it rich poetic tradition another apostle of croatian left miljenko jergović refers to his political opponent on the right a gusle player some even claim the serbian origin of croatian dinaric culture following the line of traditional greater serbian propagabda all štokavian people and their culture are serbian however croatian dinaric folklore and it rich gusle heritage is primarly croatian dalmatian costal region ha been historically associated with this culture for example the first written document about the most popular folk hero of traditional gusle music marko kraljević is associated with dalmatian island hvar through petar hektorović book ribanje ribarsko prigovaranje also the first historical document which mentioned gusle player and it instrument originated in dubrovnik even now contemporary croatian writer born in dubrovnik stijepo mijović kočan tell u story about his uncle also from dubrovnik area who could memorize numerous gusle song stijepo mijović kočan gusle glasnik may 1992 dubrovnik is also home of anica begin born kalafatović daughter of famous gusle player ante although illiterate she wa able to recite by heart an immense number of gusle song some of which were recorded in antology of croatian folk poetry not far from dubrovnik another coastal city makarska wa also bastion of croatian gusle music actually this region could be considered the capital of all croatian gusle player this mediterranean area also gave birth to andrija kačić miošić 18th century catholic priest who is viewed a the father of all gusle player of croatia and beyond to honour kačić work ivan meštrović the most famous croatian sculptor built sculpture in america showing kačić in his priestly clothes playing gusle instrument in addition to kačić makarska littoral produced great many other follower of croatian gusle music according to dr fra karlo jurišić who quote the work of croatian folklorist stipan banović zaostrog alone produced great number of gusle player starting with stipan kosović kudrić 1818 and culminating with the most known mate banović trliš 1915 a for dalmatian woman they didn play gusle it considered male activity only yet they were actively involved in spreading gusle music by imitating it sound olinko delorko the researcher of dalmatian folk poetry in the 1960s state in his book ljuba ivanova that most of his dalmatian folk poetry collection wa obtained by woman especially the one from the island of hvar the zadar littoral also witnessed strong gusle tradition english writer maude holbach travelling through zadar region in the first decade of 20th century state in her book dalmatia the land where east meet west that the gusle wa the national instrument of the region a for dinaric dance which took place at market and certain festival they are very picturesque and interesting and worth going long way to see being survival of ancient custom probably unique in europe this admiration for dinaric folk music particularly gusle wa seen in both dalmatian litteral and hinterland matija murko the researcher of this literary music form had reported that during his trip through dalmatia in the 1930s he saw child barely three year old playing gusle eduard osredečki hrvatske narodne junačke pjesme željezno beč now let take look at the name of some dalmatian sport club and organization hajduk junak gusar alkar uskok sinjska alka etc what do they have in common of course their name refer to the heroic gusle tradition of the region having this in mind one wonder why this proud croatian heritage ha become almost extinct why do we have so few gusle player today is it result of unavoidable urbanization of modern croatian society where peasant culture is being considered inferior to global rock roll culture if so why ha tamburitza music of northern croatia gained wide acceptance from the croatian establishment while it dinaric counterpart gusle music is looked upon with suspicion and open hatre',\n",
              " 'the total population million doe not match with the sum of the referenced populationsbelow in the infoboximages in infobox',\n",
              " 'to convicted felon',\n",
              " 'matt hardy is so fucky italic text medium example ogg matt hardy is so fucky',\n",
              " 'lol censorship you re really disappointed that npov is core policy aren you talk contribs',\n",
              " 'mfd nomination of wikipedia try your best wikipedia try your best page you substantially contributed to ha been nominated for deletion your opinion on the matter are welcome please participate in the discussion by adding your comment at wikipedia miscellany for deletion wikipedia try your best and please be sure to sign your comment with four tilde you are free to edit the content of wikipedia try your best during the discussion but should not remove the miscellany for deletion template from the top of the page such removal will not end the deletion discussion thank you contribution talk',\n",
              " 'redirect talk list of south carolina stingray season',\n",
              " 'who care if wa blocked on myspace or pulse music board then would be more concerned',\n",
              " 'http www theatlantic com entertainment archive 02 linsanity how the internet made jeremy lin star in le than week source explaining why he is star 151 68',\n",
              " 'god is dead don mean to startle anyone but god is dead we should not worry about him anymore just thought would let everyone know well goodbye and good luck with your newfound crisis of faith 77 229',\n",
              " 'hello am back bongwarrior user page will be attacked in minute',\n",
              " 'm always on the request for page protection if detect any missing errant template to see if the administrator can correct them',\n",
              " 'unsure at this stage it not very clear what wording is actually being discussed',\n",
              " 'marvin kitman don make me laugh doesn appear to exist the citation for much of the early history of the laugh track appears not to exist the publication channel of communication doesn exist in the three journal database ve searched',\n",
              " 'have you seen the reference to their claim you moron this is not source it their pov once have more time will reduce your pashtun nationalist povs here on wiki and give order to my uncle and cousin the execution of pashtun in the entire northern afghanistan down to gardez jalalabad lashkargah logar paghman laghman kunduz herat farah whereever immigrant descandants of violent kuchis settled and took non pashtun land away and traditional tajik country 59 210',\n",
              " 'rfa question simply curious what is the question you intended to submit here talk',\n",
              " 'when you say irrigiation structure what exactly do you mean live on an irrigated block which us overhead sprinkers and m not far from the nearest channel thye all look the same throughout sunraysia ve got little spare time now to grab some more shot though don think ll get out a far a dareton got any request talk',\n",
              " 'this wiil be my last use of this acount please delete it',\n",
              " '3rr violation by patrickflaherty user user patrickflaherty is reverting sourced post he is also violating the 3rr for raila_odinga',\n",
              " 'wasnt really attacking him her regarding the lisa williams article hmpzzz do you know if lisa can see dead people too have psychic power too you know can see the future send all these lisa williams to finland and they will all be locked in jail for being scam artist',\n",
              " 'yes there is definite value in documenting the scientific instrument module but don believe it belongs with the service module sector subsection it is really payload and not actually part of the spacecraft service so it interrupt the flow plan to move it to the apollo program mission type section where think it really belongs when edit the sector subsection to improve the wording flow bit',\n",
              " 'thank you hei it me the william hope fan guess what am back at new ip ready to vandalize everything regarding william hope and you can do sh to stop me maybe delay me but no stopping me so let salute to some more william hope lunacy by shoving his ni in my mouth',\n",
              " 'yes quite persistent m about to just create the article myself other new user are going to get lost in this discussion c',\n",
              " 'fuck you user the bohemian shinobis yeah that right bitch you are all piece of shit',\n",
              " 'yes it look much better than before at the top of the page it say this article need additional citation for verification may be britannica encyclopedia could help adding citation dunno cheer',\n",
              " 'okay ll give it another whirl via email if worst come to worst e if do not get reply soon than can always just use new account if am ignored and that way it will just keep those who have been stalking me tied down busy chasing me around rather than trying to delete content take care',\n",
              " 'north eastern region of jharkhand wiki say north eastern region of jharkhand is angika region however official language of thesis district of jharkhand is not angika but hindi santali this is confusing so it need some clarification a to how come district of jharkhand where the official language is hindi santali could be angika region only those district would be in angika region where official language is angika',\n",
              " 'the vote wa on the campbell case but the primary reason wa the russian treaty baldwin wa careful to emphasise that the treaty were the substance of his objection standfordham wrote to the king on october saw mr baldwin who in reply to my question do you want to turn the government out said yes but not on the campbell issue but on the russian treaty which the country generally condemns he see no alternative to dissolution it ha always been expected some wished for it before now though he is opposed to hastening the government fall and it is true that only in the house of common were baldwin stricture based on the campbell case at newcastle on october he congratulated macdonald on the agreement achieved at conference in london on the dawes plan for reparation and then spent the rest of the speech alternately pouring scorn on the labour party subservience to it extremist and tearing to piece the russian agreement but the final debate on october wa mean parliamentary occasion two day before in meeting which wa something of suave qui puet the cabinet decided to take it a vote of confidence preferring to go out on the campbell case to defeat on the russian treaty which might give the left wing too much prominence middlemas and barnes',\n",
              " 'jayjg stop the spin public relation tactic',\n",
              " 'no just quoted bryant that talk about popular and secondary creator they are literally in the same paragraph talk',\n",
              " 'future perfect at sunrise 59',\n",
              " 'in general the outside sourcing should exceed the inside sourcing if there an entire section without any reference you don have enough the lede refers to dire need this would generally be seen a over the top look at the apo article for idea on how to speak about your group',\n",
              " 'that a rather feeble premise to argue showing an excessive number of photo prominently showing different woman vagina compared to one human male penis 4 of the way down the page on the equivalent article for male genitalia this demonstrates the overwhelming male bias in editorial content on wikipedia 13 103',\n",
              " 'okay have now tried to just delete the offensive sentence in the beginning about mr irving being socalled holocaust denier he say himself he is not and acknowledges that many jew were killed during the war however he doe not go along with the million jew killed figure a he reckons the number to be lower and it really come down to that david ha the right to question anything relating to history and ww2 is his speciality and he actually make living of questioning and critically examining source also decided to delete the account about him loosing court case in david have launched several libel case before in he won libel damage against an english sunday newspaper the fact that he this time lost is not something that should figure at the head of his cv many people also find it extraordinary that judge can deside what person is or is not and what belief he hold',\n",
              " 'there ve made him bold thats better lemmey talk',\n",
              " 'after that my father started taken melfalan now it is nearly and half year and his health condition is not good am consulting with the doctor',\n",
              " 'i pretty sure the incident ha already been included and know how to handle my own at riot too',\n",
              " 'i afraid that a broken link for me',\n",
              " 'ok maybe you want to comment on the talk page about that it interestig to know',\n",
              " 'oppose find it hard to believe this requires an rfc but such is the wikiworld 連絡 見学 迷惑',\n",
              " 'history can someone provide some information regarding the contracting of the ac service area ac transit used to serve most of the city of the corridor but the city basically kicked out ac transit and now run their own service part of the reason wa that ac transit wa under serving the suburb while spending their money on underutilized service in the urban area that history should be reflected in this article talk',\n",
              " 'please do not create any more elephant nonsense page talk',\n",
              " 'and preceding undated comment added and talk contribs we do not care that wikinews even considers dr rafizadeh a an expert and interviewed hin here http en wikinews org wiki wikinews_interviews_scott_lucas _eyal_zisser _majid_rafizadeh_about_risks_of_us_military_intervention_in_syria we simply do not care we do not care even if he publishes on cnn or nyt or quoted on cnn and new york time like here http www cnn com 06 opinion iran rouhani syria rafizadeh index html http globalpublicsquare blog cnn com 08 job key to middle east revolutionary wave http edition cnn com 05 world meast syria shiite doe not matter even if bbc world service made bio of him here http www bbc co uk programme p01gsjfk do not matter if cnn and france international wrote about him and his family member being killed here http www france24 com en syria majid rafizadeh kidnap family targetted civil war shabiha opposition bashar assad and talk contribs will never change our opinion talk is always right we also dont care that he published in almost all national and international outlet including scholarly and academic work like here http scholar google com scholar hl en majid rafizadeh btng a _sdt 2c29 a _sdtp and talk are right we are jewish and we are right and we will never change our opinion whatever evidence you show',\n",
              " 'are you ok dear notice that you have been absent from wikipedia for few day it uncharacteristic so hope you are not ill please accept my good wish just wanted to see if you are fine regard',\n",
              " 'congratulation for the third of may reaching fa and it still april thanks for your input',\n",
              " 'paula white joel osteen marbled cat and few others these image were correctly retrived and all information wa given about the image that were necessary some were even my own and gave full permission for their use on wikipedia mcelite',\n",
              " 'it isn about success it a phenomenon that go back at least year to the day of sousa and johann strauss however if you look at the article milestone section above you ll see it ha survived no fewer than four deletion discussion and we do require credible source and fancruft is removed on sight andemu',\n",
              " 'hate is my topic is hate if you hate person mean you like that person your hate can turn into your love',\n",
              " 'page tried to create is now an actual page lol you banned me for nothing',\n",
              " 'your report thank you for making report on wikipedia administrator intervention against vandalism reporting and removing vandalism is vital to the functioning of wikipedia and all user are encouraged to revert warn and report vandalism however administrator are generally only able to block user if they have received recent final warning one that mention that the user may be blocked and they have recently vandalized after that warning wa given the reported user ha not yet been blocked because it appears this ha not occurred yet if this user continues to vandalize even after their final warning please report them to the aiv noticeboard again thank you talk',\n",
              " 'npov please stop adding not related moroccan issue to sahrawi article while trying to look neutral will revert it again again a that edition are clear pov pushing',\n",
              " 'upgraded human language family wikicolors png human language family in wikicolors file',\n",
              " 'kitten for you you are good person',\n",
              " 'ok here it is peer viewed for month and published at academic archive on line diva on permanent uri urn nbn se kau diva wallin 129 an investigation of friction graph ranking ability regarding the galling phenomenon in dry sofs contact adhesive material transfer and friction free pdf document available here or www diva portal org found here or at www uppsok libris kb se here use search word galling harald wallin or the direct libris link here',\n",
              " 'pov pushing faustian inserted this in the article the upa cooperation with jew wa extensive enough that according to former head of the office to counter soviet disinformation at the usia some soviet propaganda work complained about zionist membership in upa seems to be complete pov to muddy the water and picture upa a an organisation friendly to jew instead of an organisation which collaborated with the german on exterminating the jewish people',\n",
              " 'redirect talk voice within album',\n",
              " 'wp blp violation just removed another of your reverts which placed defamatory and uncited material into cherokee freedman controversy wp coi may apply to you since you seem to edit african american related article and freedman controversy your dishonest edit summary wa over the top',\n",
              " 'are they the anderthals are they the anderthals the same discription a in quran ha anybody thought of this',\n",
              " 'the discussion of when there first were outdoor tree with electric light is very strange are you kidding and some obscure town in nc don think this make much sense especially since the sentence immediately preceding these establish that other city had electrically lighted outdoor christmas tree in the early year of the 20th century the article cited for the north carolina town if read carefully really only state that the tradition of having outdoor lighted tree in that specific town began in not that the town claim it wa the first place to have such tree am old enough to have been around in though wa small boy and can tell you that we and our neighbor in southern california had lighted outdoor tree prior to and no one thought it remarkable or unusual the history here is questionable to say the least',\n",
              " 'what come next once we feel like we ve gotten past the dispute stage would say we have someone should post request for page unprotection so that we can move the new version in you might also mention that the admin should merge naked short selling workshop in so that we can keep the page history or ll do it later tonight it doesn really matter talk',\n",
              " 'redirect talk the best of apocalypse',\n",
              " 'just dropping by thought d leave little feedback too featured picture is not always put on the main page a noted by wp potd for example the semi nude michele merkin wa not used a it wa found too cheesy wikipedia picture of the day unused note several picture that were not used because they depict too much gore or are of scatological nature featured picture rating is essentially indicating that the community feel that the image is of high quality and high encyclopedic value on side note potd seems to be up to thanks for taking up the trace pink oboe',\n",
              " 'some of the source listed a ny mag cbs news fox news an interview with leighton speaking of the subject directly in teen vogue and u weekly tv guide interview an article in the san francisco gate the newspaper from the town leighton grew up in naples daily news if you do not consider those reliable source you have problem if you want can find more source from valid reliable newspaper and magazine everything is valid and sourced and should not be removed a it is the story of her life wikipedia is an encyclopedia for fact and what is posted is fact',\n",
              " 'the reason is the presence of template based on inconclusiveness on my user page the further presence of the template is to be contested',\n",
              " 'ho ho ho merry christmas shoulda known the piccirilli brother actiually executed ward pediment sculpture at the stock exchange happy christmas carptrash',\n",
              " 'saw that reference and added note see note by the name republic',\n",
              " 'hey jim good to see you around you re right wa on no consensus tending towards delete but not clear delete because of the two time of india source and one more source again from the time of india that is visible on the search engine what would you like me to do here can re list the afd if you might prefer that message',\n",
              " 'and if he were mere fellow editor wouldn have any problem with him but since he seems to let the power of being an admin go to his head have an issue with him please read what remains of his talk page if you need example of this m moderator on very popular internet discussion board and would never ignore valid question from user',\n",
              " 'is gonna help u to he is logged in if you want to talk to him on his talk page',\n",
              " 'they look great to me 08 mar 2004 utc',\n",
              " 'april utc wikipedia colour much thanks for fixing improving the table code no reason maybe add the info where you found the value is that in common cs all the style are embedded highly repetitively if you know your way around mediawiki ve been asking everywhere for cs guru to clean up all the redundancy on the main page wikicode like we dont all have enough to do already eh so many project so few minion 52',\n",
              " 'dear mokele you have no right to tell people to die in fire just because that ip address is being used for vandilism doe not mean you can talk to people like that you are in fact bigger loser than the person who you block',\n",
              " 'you have new message last change and the notice below result from user arkyan and user avraham targeting this website a result of an editorial dispute a to whether to include theodore roosevelt view of u political corruption on the unholy alliance page e the unholy alliance phrase used in the platform of the progressive party united state written by him the unholy alliance concept elaborated upon in his autobiography their recent edits may be reviewed at special contribution arkyan and special contribution avraham and reverted where appropriate',\n",
              " 'peter the roman can some one place this and remove the argentinian chap from the prophecy which is not part of and replace it with this information and place his coat of arm any question just mail me tarcisio pietro evasio bertone wa incharge of the vatican from february to march thus the prophesy of st malachi is fulfilled',\n",
              " 'rfc you pretty much blew through my respect when you tried to demand give up my adminship my position is very very simple the afds were invalid they should not have been filed fixed the mistake',\n",
              " 'don delete material that complies with wp policy according to your own pov interpretation wiki badass woo 2u',\n",
              " 'and revert his edits',\n",
              " 'canonicity in general ve been involved in long discussion over on talk stargate device over whether the stargate in the movie is the same thing a the stargate in the series with centrx arguing that they aren and that discussing the stargate in just one article wa deceitful don think his argument is at all valid but in the course of looking stuff up on the web ve discovered that some fan of the movie apparently consider the sg series to be somehow illegitimate or non canon m not familiar with the stargate fan community just the show itself so don feel comfortable adding discussion of this directly to the article doe anyone know any detail about this such a how widespread this apparent schism is 52 jul utc',\n",
              " 'capitalization please stop changing lower case common noun to upper case a in the company ha the company ha wp moscaps note that wikipedia avoids unnecessary capitalization proper noun and the first word in sentence are capitalized and not much more yack',\n",
              " 'see claim three here http onlinelibrary wiley com doi 1111 mepo full ss2 that is reliable source',\n",
              " 'if he is the community manager then first of all it a conflict of interest for him to be editing this and second of all he ha the power to say explicitly on his site that there is no release date otherwise despite who he may be his position is incompatible with wikipedia policy swatjester son of the defender',\n",
              " 'please do not vandalize page a you did with this edit to boiling point elevation if you continue to do so you will be blocked from editing',\n",
              " 'rant to policy hi think that you should reformat user shanes why tag are evil the vandalism protection tag or at least the idea into some sort of proposal to reformat multiple distracting protection tag to le distracting corner icon for example redirecting to well probably move the later to the former for this case the corner icon work beautifully are much le distracting and clicking them will follow you to page explaining what the lock is for fully agree that the large box with text is very distracting and unnecessary this is especially true when non user wikipedia user read the article which probably constitutes the majority of wikipedia reader they probably don care that they can edit the article nor would they and of most concern they may confuse the tag with the article content thanks',\n",
              " 'hi collectonian it obviously wasn appropriate and agree with the warning given by vicenarian',\n",
              " 'request in the future please sign after your tag on the photography workshop page while bot is currently doing it for you e preceding unsigned comment added by',\n",
              " 'i ve revised the translation from the spanish by going back to this earlier edit subsequent edits on the spanish language wikipedia seem to have been intended mainly to insert link but have primarily succeeded in deleting chunk of the original text rendering the result both ungrammatical and somewhat insensible ve taken translation and incorporated the previously omitted text and gone over the whole to make it more idiomatic in english it not quite there yet but is hopefully now serviceable',\n",
              " 'm sorry if you will not like the answer but can not accept any wording indeed any word in the article that doe not reflect or is reflected in source would any of your patient be happy with an almost successful operation care even le about the yugoslav medium then do about yugoslav politics it may not be what you want to hear either all can do is repeat that there is no way in this world that the yugoslav troop were operating under independent command during this offensive it is just laughable even if had no way to substantiate what said journalist may write what they want but ask any military officer and he she will tell you it inconceivable for the size of the op comms',\n",
              " 'and capital gain tax',\n",
              " 'this should be included in the criticism summary section here since that section content so far is not remotely truthful summary of the criticism point of view fork article it clearly suggests to reader that basically all criticism of apple is related to product management in some way or other now that apple inc ha admitted that they did in fact use child labour this is clearly far far more serious type of criticism than everything currently mentioned in this main article criticism summary section the explicit word child labor should be mentioned in this article 34 197',\n",
              " 'merge both article should be merged operibus anteire',\n",
              " 'everywhere though might just start going thru the secure server all the time because have similar issue with the popups userinfo grabber xenotalk',\n",
              " 'agree with there no need to keep unclear concept and wording when better alternative exists also d ask to not revert using source a reason when source is actually book of his authorship wp coi and wp sps come to mind txt',\n",
              " 'hi the route to japan are often mi read first had the argument that jal flew to tokyo not jalways but now would like to challenge route that jetstar take it said the jetstar flew to kansai from brisbane this is true but you must connect through sydney although you would stay on the same aeroplane the flight number between bne kix change in sydney meaning it is not direct flight eg flight syd kix flight kix syd via bne that is how it work if you are not sure please check qantas schedualing wont edit the page now in fear that will be banned',\n",
              " 'support and all the other sikh wikipedians on wikipedia support you on singh you are correct completely agree with sikh historian m busy at the moment but if we need to get harrybabar permanently blocked then it should happen because his vandalism is unacceptable',\n",
              " 'thank you for your racist experimenting with the page katherine heigl on wikipedia your test worked and it ha been reverted or removed please use the sandbox for any other test you may want to do take look at the welcome page to learn more about contributing to our encyclopedia now go fuck yourself you racist canuck asshole1 have nothing better to do than censor the truth goddamn kkkkanuck piece trash dickhead moron motherfucker111lol you canuck real retards1 fuk off dickweed edit another of my eidts and you ll be expel from wiki by jimbo you sob dickhead11 so watch it mofo piece of garbage racist mofo asshole im tryinbg to be nice here so take what say a compliment yamla',\n",
              " 'bulgars omg you are an admin and you protect the people who vandalise the bulgars article these attacker are pan slavic ultra nationalist and they dont want to see the word beginning with turk you help them remove reliable source old bulgars are changing into slav by your hand great',\n",
              " 'you must be logged in to upload file so in other word have to sign up just to add thing to entry to hell with that this place can rot for all care 8 177',\n",
              " 'mckinsey company think the best route would be to drop note at wp business c wp four wp chicago wp waward',\n",
              " 'message long time no talk wa just pottering around on wiki and suddenly thought of you so anyway how ya going hope we can get along now anyway there is an issue that have that ha to do with wikipedia user on here had been stalking me and asking some innapprpriate question do you have any idea of what could do know that user is also from australia could the police here do any thing cheer for now 106 175',\n",
              " 'thanks from my point of view there are difference and parallel between the two concept one parallel is that both concept are intending territory with homogeneous population the difference is the concept of racial hygiene is intending homogeneous population regarding the criterium race whatever race might be the concept of ethnically homogeneous state is intending homogeneous population regarding the criterium ethnicity second difference is that the concept of racial hygiene ha led to more extreme form and method in political practice in history example the holocaust not only expulsion but also extinction of million of people in an industrially organised process user nov 17th',\n",
              " 'well see futperf is getting quite angry now insulting other editor also and again their goal is make the point that the first bulgarian empire and the second bulgarian empire are not bulgarian or at least not related which help their long term strategy for the invention of macedonian nation and state think bulgarian tsar samuel etc which existed from antiquity and the middle age that it tropcho correctly pointed out that direct political continuity is completely unimportant for the info box no other country care for this in their info box neither spain germany ireland poland etc what is important is to show how bulgaria formed thru the age',\n",
              " 'salutation a welcome to wikipedia perhaps you might find wp hockey of interest',\n",
              " 'be careful who you call moron',\n",
              " 'leadbeater biography smackbot problem rich regarding the w leadbeater biography article http en wikipedia org wiki charles_webster_leadbeater on dec philosophus improperly reverted my extensive revision of dec removed all the smear and slander from the article yet he accuses me of having npov problem no editor ha the right to revert the good faith contribution of another editor will undo his improper revert a you made minor edit or two since then your edits will probably be lost also please communicate specifically what fault you find in the text and maybe we can work out some compromise wording if you are knowledgeable in the subject if you are not knowledgeable you have no business editing this article',\n",
              " 'quoting hoppe first detailing kinsella important point at this diff put in the democracy section hoppe earlier comment first and followed with more about what kinsella said e stephan kinsella writes that hoppe critic have accused hoppe of homophobia bigotry and the like based on these passage kinsella wrote that that hoppe discussion of physically removing homosexual and other group only applied to private covenant based community centered around traditional value he shared letter hope wrote to him saying the gay couple down the street who mind their own business would not be expelled but only those who are openly hostile to the basic heterosexual or private property basis of society a said in my edit summary just because some choose to totally take his comment about of context and attack him doe not mean that wikipedia should be used for the same purpose talkie talkie',\n",
              " 'the fact of the matter is that toei and bandai have been using gorenger to exclusively refer to the first super sentai series since at least every subsequent series that ha the レンジャー ending ha been ranger you can see this sort of thing on any of the print material released by them lately ha it a gorenger while all the others have been turboranger zyuranger dairanger kakuranger ohranger carranger megaranger timeranger gaoranger abaranger dekaranger magiranger and gekiranger believe gorenger is also plastered across their vehicle ryulong 竜龙',\n",
              " 'mark nutley ha suggested instead of people edit warring they really ought to use the newest source three to five million of this number died in ukraine and in the heavily ukrainian populated northern kuban among the richest grain producing area in europe norman naimark stalin genocide princeton university press august 70 http book google com book id f3uwf1eqb0ac lpg pp1 pg pa70 onepage f false',\n",
              " 'i see that you just can help yourself if you saw my being blocked a reason to be victorious and now feel like keep telling on me to the administrator please do not use my talk page for that go the administrator noticeboard where the initial complaint wa posted and add yet another post concerning your advice on what need to familiarize myself with apply it right back at yourself especially regarding wp con and please understand that consensus is product of prior discussion not just any piece wikipedia text that stayed unedited for while',\n",
              " 'gay the existence of cdvf is further proof that is sad twat he is also very ugly and ha willy for face',\n",
              " 'unfortunately judging from previous warning some people here have rather unusual view of what personal attack are pointing out that the individual accusing me of using sockpuppets were incorrect and in fact the two main people making the accusation have been harassing me for month and had used sockpuppets and meat puppet themselves for getting around edit conflict and to stack vote on request for admin proceding a pointed out by several editor at the time certainly cannot be considered personal attack pointing out that admins did not have any actual policy basis to make the block is not personal attack and it ha in fact been confirmed by the overruling of the block more than once frankly if you are looking for personal attack try yourself for your agf violating attack on my action based upon limited information and actually misleading information given to you by other individual or david gerard for claiming that am trolling when all am doing is defending myself from false accusation of others it very clear that number of people here need to realize that the very thing they are accusing me of and trying to justify for block are exactly what they themselves are doing from behind the pretense of trying to solve thing if you want to start blocking for incivility might suggest removing david gerard for while for his action or elonka for falsely claiming that wa using sockpuppets or that wa harassing her or the sysop whose very talk page say he going to go around blocking people no question asked and in fact did so after caught him restoring placing illegal information on how to pirate software an article talk page rule should apply to everyone and number of people have been getting away with pretty flagrant violation and trying to rationalize them away by just labeling me a an alleged problem editor and not taking any sort of responsibility for their own action',\n",
              " 'look good to me think nice pic of midtown from across the east river would be the best possible addition to the montage but there isn one currently available on wiki common',\n",
              " 'perhaps the question is more of philosophy than of mathematics and we don have any regular at wikiproject math who are philosopher of mathematics c',\n",
              " 'except for the fact that there no information for the table no confirmation on number of episode why don you just put in so it just clutter and not vandalism 245 235',\n",
              " 'right on may 1863 which is not the star and bar',\n",
              " 'perhaps goodday you could provide diff for this thought a am unaware of it btw hope the move is going went ok',\n",
              " 'it is also unfair that can respond to the allegation talk',\n",
              " 'i never fucking made this mother fucking article just fucking edited it and that wa fucking long time ago fucking asshole pissing me off',\n",
              " 'ha anyone ever considered including tag team edit warring a 3rr violation when two people act in tandem unintentionally or intentionally to make the same revert four time they may not technically violate the 3rr rule but they certainly do so in spirit this wa the problem on both side in the edit war on the canada page and precisely what wanted to avoid on the dominion page would it not be easier to warn editor a you did here rather than shut down page for week at time a wa done in the canada case m sure this would cure the escalation problem without blocking access to page any comment on this',\n",
              " 'fucked with the wrong muchacho 19 july 2005 utc',\n",
              " 'thanks but an unblock would be compromise live on the margin here creating article on various subject then see them deleted it a form of performance art many of them don get deleted medieval philosophy is still there and history of logic to name few m one of those people they just don know what to do with and like it like that 184 167',\n",
              " 'yes do hope to get it to ga status in the future wp mostv state that for fictional character their storyline should come first and then the information on their creation and characterization it make more sense to read about what storyline the character ha been involved in before going into the production of it all the same style is used for article on book film and television show episode',\n",
              " 'hi im fucking bitch 180 181',\n",
              " 'please educate me a to how this article is copyright infringement and if so from which source once this ha been established could you explain how best to rectify the situation thank you',\n",
              " 'men ranking figure while nice to look at miss key time between olympics and world championship that all there is to it in the title iihf list post olympics ranking and ranking presumably post wc to exclude this period is incorrect a it is time where canada wa ranked 1st overall russia 2nd the same issue will happen this year a ranking will change twice after olympics and again after wc 73 146',\n",
              " 'there are many broken nostril in this pancreas',\n",
              " 'that last line the new version is better is ypov this new your version just complicates the issue and make the article le simple to read tell me why must boston be mentioned a cultural and business hub at all this seems to be at the heart of your bias it appears a you want the viewer to get from reading it that boston is somehow the nerve center and city that new england revolves around and look up to why must this illusion be on the page',\n",
              " 'utc it sound wrong because first it read are which is present tense ee and then it read used which is the past tense reworded the whole thing to past tense because we are discussing already published work a opposed to work being published or yet to be published arnfjörð bjarmason 21 sep',\n",
              " 'and you took your time to answer',\n",
              " 'yobot incorrect defaultsort hi yobot an incorrect defaultsort it puzzling a to why it didn recognize the article a being about person among other clue it included birth and death date at the top a well a which yobot substituted to additionally include the correct defaultsort xaяabиam',\n",
              " 'biased unreliable emotionally written by armenin wiki editor pls stop using the wikipedia for your dirty propaganda and lobbying purpose there wa no genocide this is amyth advanced by the armenian church and armenian fundamentalist fascist nation can not be subject to egnocide when it ha several hero for whom you can see statue in yerevan irevan jew don have it the resolution is the act of some sold congressman who want to appease the armenian lobby it ha no reliable valid and neutral content it is kjust piece of dirty and lie fact presented and written by christian missionary working to kill turk and kurd in 1910s you can claim to be subject to genocide a much a you want but this thing did never happen some armenian fundamentalist and fascist who were killing kurd turk and azerbaijani were killed by great son of the turkic nation and am proud of them go and propogate your lie a much a you can you will achieve nothing raman',\n",
              " 'add mobile porn a additional wp also link',\n",
              " 'smer sd why is the slovak party smer sd between non inscrits they are regular socialist they used to be out of pe but that wa settled pretty long ago liberal nationalist',\n",
              " 'utc ha anyone considered how matter the stuff we are all made from actually interact with time and time travel if were to travel back in time would be frozen and isolated in spacetime whilst everything else around me travel backwards in time or will also physically and biologically travel back in time that is get younger and younger and then disappear because wa not yet created thus defeating the grandfather paradox although if it were possible for signal or information to travel backwards and forward in time doe this possibility automatically extend to matter a we know it ie particle giving rise to electron proton and neutron and ultimately biological being such a ourselves 30 july',\n",
              " 'want to offer you tremendous thank you for your suggestion which believe will be paramount to the successful inclusion of rantmedia ve vastly improved the article since the afd nomination a well a since yesterday afternoon wasn clear to me what wa necessary to be done with the article and you were truly the first to really answer my question of what is it going to take so from the bottom of my heart thank you c',\n",
              " 'have to laugh when watching the supposedly british national news with guy barely up to their ankle in snow implying that ragnarok is upon u yet on the same day when tree are being blown down and main road being blocked by snow in scotland it doesn seem to be noteworthy scotland routinely get ignored on the national news and even people from the north of england were complaining about the fuss made by the southern oriented news tourist appear to be amazed that thing are falling apart because of something like this my mother had very good giggle at the reporter live in trafalgar square in couple of inch of snow or beside main road barely ankle deep 106 19 lance tyrell',\n",
              " 'a friendly advice if you have to refer to me kindly use cult free and not only cult',\n",
              " 'great link imo the american people are on the whole good and decent but the so called leader are fully controlled by an elite bent on domination and control this whistelblower say the same talk',\n",
              " 'queen university a stated previously am quite pertrubed and to be quite honest frustrated that you would remove the section pertaining to the university tradition do you have personal vendetta against the institution or dislike it for whatever reason you removed the compliation of material regarding the jacket and other tradition which find odd considering similar tradition have been allowed to remain on other university wikipedia page mindlessly deleting material without group consent constitutes vandalism and while am sure that your intention wa not malicious it wa short sighted move on your part please allow u to discus this in greater detail',\n",
              " 'january utc the argument at wp natural seems to rely on showing that the other name is common so you need to prove that the other name is common number might help bit also above we are told that gohatto rather than 御法度 is the name of the film in japan but this turned out to be false incidentally ryuhei matsuda it seems to me look more like his mother than his father what do you think also how authentic is the portrayal of the shinsengumi in this film do you have any historical insight 12',\n",
              " 'unspecified source for image metropolitan_of_moscow_makariy_nevskiy jpg thanks for uploading image metropolitan_of_moscow_makariy_nevskiy jpg noticed that the file description page currently doesn specify who created the content so the copyright status is unclear if you did not create this file yourself then you will need to specify the owner of the copyright if you obtained it from website then link to the website from which it wa taken together with restatement of that website term of use of it content is usually sufficient information however if the copyright holder is different from the website publisher then their copyright should also be acknowledged a well a adding the source please add proper copyright licensing tag if the file doesn have one already if you created took the picture audio or video then the tag can be used to release it under the gfdl if you believe the medium meet the criterion at wikipedia fair use use tag such a or one of the other tag listed at wikipedia image copyright tag fair use see wikipedia image copyright tag for the full list of copyright tag that you can use if you have uploaded other file consider checking that you have specified their source and tagged them too you can find list of file you have uploaded by following this link unsourced and untagged image may be deleted one week after they have been tagged a described on criterion for speedy deletion if the image is copyrighted under non free license per wikipedia fair use then the image will be deleted hour after if you have any question please ask them at the medium copyright question page thank you do you want to opt out of receiving this notice hi',\n",
              " 'percent korean eat dog meat korean have tried not regular korean food diet don genearalize or finger point that all korean eat dogmeat that isn true',\n",
              " 'support let protect and save this page from user balagonj786 this page ha full of error and invalid reference',\n",
              " 'apparently thought tom wa offline and filed an edit warring report and yellowmonkey picked it up before tom mentioned the page protection we ll see if it stick',\n",
              " 'newsletter draft ready hi dank have prepared an initial draft of our drive wrap up newsletter at wikipedia wikiproject guild of copy editor newsletter april if you could find the time to check it over before it go out that would be super thanks',\n",
              " 'should be omitted entirely',\n",
              " 'is that not true description on booger if not then prove to me what is',\n",
              " 'stay off my talk page stalker 39 83',\n",
              " 'anthony de mello hi need this page written anthony de mello it currently redirects to priest do you have any suggestion on the dab title cricketer',\n",
              " 'thanks and happy new year to you too let talk about it',\n",
              " 'more mature way central posted',\n",
              " 'stop vandalizing my userpage know it someone from here',\n",
              " 'oppose do not think merge is good idea',\n",
              " 'maybe but that doe not lead to the conclusion that the taip aircraft remained in africa and did not return back after ferrying the soldier the article on colaco net also doe not shed any light on this',\n",
              " 'thanks thanks for the thanks just leave them in my watchlist after found an archive full of vandalism while back given that it wa slashdotted suspect we will see bit more of it might get someone else to fully protect it if it continues can do it because of coi would also like to thank you for keeping an open mind changing vote is an encouraging sign of good faith regard',\n",
              " 'hello if you re interested we could really use your help',\n",
              " 'f all ride at world of fun hate all ride at world of fun because they are sh_tty and boring all ride operator at wof should be fired sued and hanged burn all wof coaster arrest all wof park operator assassinate all wof customer heard that boy died on timberwolf on august that stupid world of fun should have nown better to built that sh_t ride world of fun care about money and prophet moar than they re customer burn that sh_t park down k you ride world of fun is dangerouser than grround zero and area world of fun should burn in hell',\n",
              " 'a to job for you sure thing a soon a find time for that also notifyed novanova asking him to start editing the http en wikipedia org wiki croatisation this guy know lot about croat and their history',\n",
              " 'oh ok just wanted to see what people thought anyway it up for csd hey do you like my talk page hope you don mind talk er',\n",
              " 'wrong the capital is podgorica a it ha always been since july 1946 the seat of government parliament and president is in podgorica cetinje is only the seat of the kingdom of montenegro in exile and besides only capital city have embassy and podgorica ha them and do you see any in cetinje no besides no one in montenegro nor in the world say that cetinje is the capital of montenenegro but instead they say it is podgorica and also that consitution wa adopted in very outdated and new one is due next year',\n",
              " 'mark ii subsec removed the mark iix subsection and made them bulleted list there wa no reason in my eye to subsec one line of information',\n",
              " 'can there be more concise listing the listing of other invention is profoundly vague why group different category together why even mention thing that the chinese received purely from outside source there should be much more complete well managed list of chinese development which ve yet to find along with how these were transmitted globally and whether or not place like europe got them purely from the chinese this really need the attention of people with some remote expertise which guess is somewhat there when needham work which is profoundly rare in private collection wa cited not like the arrogant bigoted as who wa cry about chinese nationalism yet then went onto say that they only invented noodle and besides why are thing like the cannon and porcelain listed under other invention who developed these independently',\n",
              " 'in history there could be consensus view or mainstream view in theology there is no mainstream or consensus view since most of theology depends upon the church membership of the theologian historical scholarship aim at universality and objectivity while theology make no such claim it is true that there are million who believe that jedp wa birthed in hell or would believe it if they knew what jedp mean so in principle their view is notable but a enns said it is fringe view in the academe even among scholar who actually disagree with jedp the source used to build wikipedia are academic source therefore jedp and it 21st century offspring are given by default the weight they have inside the academia while the view of the fundamentalist is treated according to wp undue this doe not mean that wikipedia could say that the fundamentalist are theologically wrong wikipedia ha no theology of it own but it is entitled to say that inside historical scholarship they are fringe view of course this doe not exclude serious scholarship done at religious faculty since a ehrman said in one of his bestseller u mainline protestant and catholic theological seminary and divinity school do teach mandatory historical criticism class so in sense scholar from such faculty are thoroughly acquainted with historical criticism and built their career upon it assumption only fundamentalist seminary and divinity school choose to default against historical criticism they are free to do this but this cut against their claim of being mainstream historian',\n",
              " 'well m sorry but attacking me and my edits is exactly what you re doing wow there some seriously snotty people on wikipedia and yes there is need to separate the featured single definitly',\n",
              " 'tfd nomination of template silentredirect template silentredirect ha been nominated for deletion you are invited to comment on the discussion at wikipedia template for deletion template silentredirect thank you talk watermark shall remove the obvious one the le obvious one stay am allowed to watermark image with anything whatsoever wish to even if it a contradiction and if you wish me to use up further wp bandwidth by re uploading them that ha no effect on me can do anything until this evening and if any get deleted shall reupload them yours without respect talk email you could have the grace to reply said that d deal with them this evening but only the one where the watermark is visible from the page so off talk email am planning to re upload them with le obtrusive watermark such a that on image bliss parody jpg talk email it wasn vandalism used an external link a per your instruction which incidentally m not bound to follow am certainly on the verge of requesting mediation a you are disrupting my life never mind wp to make point will tell you one more time any image are better than none if you wish to get your own pix of all the concerned image you re damn welcome to try but they are gfdl therefore there no ground for removal talk email p shall add the external link again not a an image and if you remove it shall make formal complaint to the wikimedia foundation and the information commissioner in london talk email your conduct is little off in this matter while m all for discussing the issue with user let keep it civil please thanks talk disagree rob it is far more than little off image watermarked a such are not in any way appropriate for wikipedia this is an encyclopædia not pet image project if thedoctor10 isn happy to play ball he can go elsewhere talk am proposing change to the image use policy to forbid watermarked image please voice an opinion at wikipedia_talk image_use_policy user created_images thanks talk edit from the united kingdom and under the computer misuse act the editing of information online is illegal without permission the button at the top of every page that say edit this page among other thing constitutes that permission while the policy and guideline form condition since there is no condition against my image it ha legal right to be there e talk email true but therefore your addition fails under the same logic also wikimedia own the server it their right to delete it 13id apology to ed for invading his talk page but what load of rubbish wikipedia are under no legal obligation whatsoever to host your image regardless of whether they meet any policy have no idea under what flawed logic you presume that the fact you can edit wikipedia mean that your edits must legally be accepted if the computer misuse act state that the editing of information online is illegal without permission that implies that editing with permission is legal and nothing more furthermore by your logic have the legal right to edit wikipedia and remove your image fail to see what on earth you intend to tell your lawyer but don imagine the wikimedia board are too concerned talk ignoring the gibberish i',\n",
              " 'artpop album hello thank you for all your contribution make this message in good faith please do not make hidden comment like this stating that an editor will be blocked if they remove redirect am in no position to be asking this but am saying this a it could turnaway new contributor who aren aware of the rule feeling they have been bitten in this case think kind user talk page message would be more appropriate and effective also you edit wa reverted so reverted it back to your version but also removed the block warning a it is not appropriate no admin will should block just because user removed redirect specially if that hidden message wa their only warning feel free to correct me if wrong again write this in good faith cheer huntley',\n",
              " 'crown prince wouldn it have been prince elect denmark wa elective monarchy during this time',\n",
              " 'hamish macdonald disambiguation hello just to let you know that a this now only ha two entry one of this name and one with very similar name have tagged it for deletion using template db disambig if you have any question about this please let me know best wish',\n",
              " 'my cent a someone close to the korean american community it pretty standard practice to give both an american and korean name at first don know for sure that that the case here but wouldn be surprised it probably explained in her book',\n",
              " 'died in or not think it better to settle the matter here instead of going back and forth so the ip user claim that the whole thing is hoax that she died in europe year ago and that there no hawaii obit first of all is the forevermissed user submitted website 206 151 do you know her family personally or do you know somebody who know the family we like to get more elaborate explainantion behind the claim that she been dead year ago see that her supposed obituary is pretty detailed are the rest of the biographical information accurate though and the picture',\n",
              " 'august utc dear the hour block that you placed on my account yesterday for personal attack ha just expired and while must say that wa not happy about the block harbor no hard feeling towards you if you check my previous contribution you can see that have been productive editor on wikipedia d just like to let you know that while wa guilty of personal attack against and wa goaded into doing so by these two individual in order to avoid future block promise not to engage in anymore personal attack and if am goaded by troll such a these two individual will simply ignore them wa repeatedly reverting comment which made concerning statement made in the hugo chavez article which found to be biased my issue with concern his nastiness and uncivility he is far too possessive of article which he ha created and he becomes very angry when edits are made to such article after multiple revision of legitimate edits which made to his article told him to leave me alone he proceeded to foul my discussion page with unwanted and unsolicited comment when objected to this he goaded me into calling him profanity while respect your role a wikipedia administrator d like to respectfully request that in the future you exercise better discretion when blocking user based on one sided information thank you for your understanding 53',\n",
              " 'link in result mess link anywhere except the actual book',\n",
              " 'it wasn me that added the glebe park link though might ve wikified it ve never actually been there so m afraid won be of much help at the moment though ve been meaning to go look for while',\n",
              " 'go away why did you revert my edit on blowdart user talk page surely thats his privelege user like you give wikipedia bad name stop being such busybody 226 194',\n",
              " 'the head ways pound and feel like play dow dont tuch them they will fall off',\n",
              " 'sarek of vulcan unfortunately for you you cannot ban fact sarek of vulcan unfortunately for you you cannot ban fact fact lawrencenkhoo told me here on wikipedia that company keep their retained profit in the bank fact that is absolutely untrue fact sarek of vulcan ban me for stating that fact sarek of vulcan can ban me but cannot ban fact',\n",
              " 'keep your chin up darwinism wa not accepted over night there appears to be more sense in the aat origin than the sort cut hypothesis that our ancestor went from swinging in tree to the prairie and then eon later take up sedentary life style so they could edit wikipedia and face book etc all day one only ha to watch little kid on the beach the first time wave throw them bottom over elbow they may well cry but after time they can wait to get into the water again it is a if being at home on sea edge environment is hard wired into their gene unfortunately the rise in sea level since these time mean that evidence of these coastal community may never be found keep plugging away until the old hypothesis fade away',\n",
              " 'nazi filth is impolite 27 jan utc',\n",
              " 'interesting checked the other case number kunzang lhamo cited which can be used for wiki since it original research but going step further can find that case number on san bernadino open access either in civil or criminal record',\n",
              " 'the transcluded part of the ga review doesn seem to update into the main talk page of the article correctly may have to click to go to the subpage to get the most up to date version sorry it looong you can skim most of the content related stuff guess',\n",
              " 'protecting cause of the palestinian exodus hi can you explain on it talk page why you protected this article there is some edit warring going on but not very heavy for the standard of this article also am participant in mediation case but that concern actually only the use of one source on this page and is irrelevant to the present edit warring therefore wa wondering about your motivation regard',\n",
              " 'hello check this personal page very often please leave message here on on the discussion page tks marvio',\n",
              " 'my thanks to you for this note that am being dressed down for everything from being nice to editor like to work with all the way to deleting messy post from my own talk page well mess is mess again thanks stephen please don take that a gratuitous or ingratiating imacowboy',\n",
              " 'i don care what you say here don believe one sentence anymore',\n",
              " 'anytime you want nightcap tell me',\n",
              " 'meet local vietnam tv series factual documentary 60mins meet local spain tv series factual documentary 60mins meet local tasmania tv series factual documentary 60mins meet local ireland tv series factual documentary 60mins the way camino de santiago feature factual documentary 75mins african story online factual documentary 20mins overlander multimedia for the abc the outback boxing troupe online factual documentary 30mins overlander multimedia for the abc australia production company returning home story of ararat online factual documentary 20mins overlander multimedia for the abc meet local east coast australia tv series factual documentary 60mins meet local outback australia tv series factual documentary 60mins',\n",
              " 'globalization and ivytrash am not ivy anything that wa my home wa born and raised block from harvard square and it wa once the greatest place in this country am not interested in globalization look at the square and see the smoking ruin of my home when this happens to you hope globalization is comfort enough for you',\n",
              " 'he is self confessed and approved by my observation see g history of soviet partisan btw you re the first to object',\n",
              " 'and btw speaking of the armenian genocide if we are to follow wikipedia convention of most common name and don agree assyrian is the most common name a we also have proven many time before we should change the name of the current article assyrian genocide to seyfo',\n",
              " 'to quote if wikipedia article link to this page it is because someone is concerned that the article contains inaccurate statement such statement are followed by the following warning dubious discus the accuracy of statement may be cause for concern if it contains unlikely information without providing reference it contains information which is particularly difficult to verify please do not remove my dubious reference edits a that would be against the guideline there wouldn it',\n",
              " 'belarus developed country hahaha nothing more to say 209 33',\n",
              " 'censorship on islamist terrorism try not being censor monger properly cited information should not be deleted',\n",
              " 'if you would like to write an article of bill father including his rise to ceo of commonwealth edison feel free this article is about bill we re not writing chatty book lenth biography about him but stating fact same a other biographical article in wikipedia the detail of his father career are irrelevant although his eventual stature a ceo is not this is yet another issue that ha already been resolved',\n",
              " 'thanks really cool tool for purpose like what have on my userpage best tally ho',\n",
              " 'it is funny because would say exactly the same thing for you astarti34 the anonymous user with an ip from greece and the user williamthweatt accusing people without reason is not allowed in wikipedia a per wikipedia rule you are free to ask for an investigation in fact do kindly ask you to do so if this vandalism persists will seek an arbitration do kindly ask from any moderator to see all the reverts and am confident that they will conclude that they have been mal intentioned with clear nationalistic agenda you all guy have something in common you are all greek all of you',\n",
              " '_ just watched the entire series and agree this entire article and several other in the suzumiya haruhi article are all from somebody who know haruhi personally sort of view so im going to fix it',\n",
              " 'agreed will take stab at it it also need major formatting cleanup and wikifying it sound too much like fan conversation the reference are all either youtube link or personal communication m trying to at least pare down the best musician ever statement could use some help with the discography section too',\n",
              " 'vandalism is for g this type of edit somebody said that the stig wa leaving so reverted it basically reverted it because there wa no source to suggest that he wa leaving so do know what vandalism is just want to carry on editing wiki love this place it amazing please don make me leave now that ve explained myself please please unblock me thanks',\n",
              " 'baer didnt invent video game this is jewish propaganda supported by wiki troll named goldberg go figure hey goldberg try educating yourself http www youtube com watch efbwz_sik8s',\n",
              " 'i can tell you what the argument is about here newseventsguy it about your retroactive reversion of simple edit trying to include secondary independent verification of sedimentary nanodiamonds in younger dryas sediment by bement and madden et al without discussion reference that notice ha not yet been included in the reference list still after all this time this is after you admit that you are ignorant of the peer review literature and the controversy any attempt to do simple reference list edits on this page have been stomped by no le that five admittedly biased and ignorant editor the honorable thing to do here would be to recuse yourself from editing the page a have but haven seen that happening until now good luck with it you ve already made complete fool of yourselves',\n",
              " 'hello how do get somebody to fix shit around here',\n",
              " 'dictionary how dare you call my contribution spam am kurd and made lsit of kurdish dictionary you bloody turkish nationalist and atoricity commiting bone breaking nazi watch out folk this slimy turk is trying to censor the internet this is not undemocratic turkey here no prison cell in wikipedia you stupid turk and you bugger want membership to the eec',\n",
              " 'apparently other editor agree that the edits made were justified group of meat puppet working a team to revert an article to their own pov is what ha caused this block at issue wa the advert tag which is justified wa placed on the article by one editor replaced by me replaced again by another editor and replaced again by me three editor so far have indicated the tag belongs there m sure forth editor is going to weigh in on this side too the article is riddled with brochure language please note that wa removing brochure language right up to the lock up of the article there still lot more in there that need to come out before the advert tag should be removed additionally don believe broke the 3rr rule which requires fourth reversion',\n",
              " 'while agree that indus valley civilisation is the correct name for the civilisation the passage quoted above is not neccecarily factual in term of saying second there is no proof at all that the mighty sarasvati of the rigveda wa in fact this now dry river the identification is itself open to doubt apart from there being fact proof to indicate that saraswati did exist a this dry river including geological fact a to why it dried up the evidence also point to the fact that it wa not tributary of the indus refuting point of the passage quoted above and in fact drew the water of the sutlej and the yamuna to be river system of it own and though large number of site have been found along this river system none of them are of the scale of harrapa mohenjodaro leaving the indus valley tag a the correct one saraswati did exist today the timing is disputed and not the existence wheter it is vedic and indic v harrapan and non vedic is more disputed today than it existence',\n",
              " 'december utc thanks have started working on pranagnihotra upanishad but am unable to get the full text from the deussen sixty upanishad page 648 do not appear in the book under google url can you suggest url which give the full text in the meanwhile have completed this short article sharabha upanishad which you may like to see and add edit nvvchar 52',\n",
              " 'i insulted people on en wiki with criterion to provoke my filter set you are simply abusing the power people handed over',\n",
              " 'excellent that would be great the comment found at it peer review should also be very helpful but haven had any time to actually act upon those suggestion cheer hello',\n",
              " 'how do you know he is dead it just his plane that crashed jeezz quit busting his nut folk',\n",
              " 'afican union site vandalism dear bracketbot wrote this note to inform you that an editor is performing act of vandalism in the website of the african union http en wikipedia org wiki african_union please would appreciate if you could tell me who should report this action the board index name is http en wikipedia org wiki user knisfo',\n",
              " 'you are know it all jimbo why don you get life instead of sitting in front of your computer all day the high priestess of knowledge indeed',\n",
              " 'all of those statement need to be referenced leaving an article unreferenced in every section open the door for original research and the introduction for factually inaccurate information to point out one thing ll bring up consolidated appropriation act first it ha number of tag on it the creation of article that need to be tagged should be reason number to remove the flag second the only reference link provided on the article is this one while the information is from various subpages of that it appears that the entirety of the article is found at this deeper link it possible that some came from this a well can tell ll also note that the style of the summary it wa taken from wa never meant to be encyclopedic so the article is riddled with grammatical error mostly incomplete sentence on creation the opening read consolidated appropriation act r is bill passed to the 112th united state congress ve never heard this usage to rather than by and assume it is incorrect another editor changed it the lead is also missing an important determiner in any case you can take look at vesey',\n",
              " 'ok just ask for your experience what you think about the portal',\n",
              " 'sitush how can anyone assume good faith when you have been writing so much against yadavs on that page it is evident from the discussion how conveniently you have been selecting source for negative and then conveniently rejecting the same source for the positive you are the only person spamming on that article and vandalizing it yes will contribute to other article on wiki too but let me first correct thing on yadav a so much wrong ha been going on there you got ikonoblast banned and now you have got me banned and you will get anyone banned you differs from your biased stand on yadavs but am not going to give up will follow all wp policy and will ensure that get thing corrected on yadav and dont let your and fowler personal view dominate that page peace',\n",
              " 'december utc don worry told you had your back and ll continue to defend ya yup we got our proof of work when first saw it wa like that no reliable source cause remember you reverted that source one time but when looked over the article and saw ref wa like oh shit so reverted it m glad you went going back m glad my two word have gone on to save me question would you like for me to expand lead on all s member hit 31',\n",
              " 'november utc agree with clearly santilak is using up his usual bag of trick santilak please discus the article courteously and professionally 177 221 38',\n",
              " 'ok like the pyx lax track very much indeed if you could point me towards other greek trad music that would be great and greawt for me here are some irish non visto provvedi',\n",
              " 'where with pitchfork already 09 jun utc',\n",
              " 'again reinstated sentence about nobel in the first paragraph for the reason stated above if others disagree that this is defining characteristic of bx science that should be indicated right up front in the summary paragraph then can we discus it here rather than playing edit game by removing text without either edit summary or discussion on the talk page',\n",
              " 'i disappointed it wasn a successful run but it',\n",
              " 'elvis cry in the chapel feudalist',\n",
              " 'please refrain from adding nonsense to wikipedia a you did to fisting it is considered vandalism if you would like to experiment use the sandbox tlka',\n",
              " 'elizabeth hi lil romeo am one of your biggest fan really like you always dream of you at night would like you to come to dallas tx to ignacio zaragoza and give concert at this elementary school am in the 6th grade and am year old want you to come and help me with my homework see you later will write to you soon by',\n",
              " 'hi fracophonie thanks for taking the time to write such long message appreciate this in term of what said about the age didn mean to cause offense thought read somewhere that you had to be over to make these decision but think wa getting confused with the check user privilege have already read some of those policy but will read the rest later today am not troll just need time to get used to all these acronym policy etc from what started out with me writing an article about my favourite website ha turned into massive thing which wa not what wa expecting really don have any more time to argue and debate with the usrs since it clear they just want it deleted despite what have said for example one user just wrote there is another site called amirite net this is amirite com this is precisely why had to keep responding on the afc delete page in term of the rest agree to do them of course can only apologise once am unblocked can you apologise for me on side note am actually french and jewish shame about the gay part though',\n",
              " 'welcome hello soundchu and welcome to wikipedia thank you for your contribution hope you like the place and decide to stay here are some page that you might find helpful the five pillar of wikipedia tutorial how to edit page and how to develop article how to create your first article using the article wizard if you wish manual of style hope you enjoy editing here and being wikipedian please sign your message on discussion page using four tilde this will automatically insert your username and the date if you need help check out wikipedia question ask me on my talk page or ask your question on this page and then place help me before the question again welcome wikhead',\n",
              " 'i removed the content after it wa tagged a uncited by mattisse if every commonly known fact need cite because some editor en passent want to nominate for farc then it appears we have problem very much suspect mattisse motif here but frankly am too tired of her to be bothered to explore them perhaps one of her probabtionary mentor more interested in her than would care to deal with this',\n",
              " 'is jeff garcia gay or not',\n",
              " 'that wouldn be sufficient you need explicit permission to use text copyrighted by someone else under licence suitable for wikipedia please read the guide to requesting and formalizing permission to use copyrighted work on wikipedia note that in addition to copyright requirement the article must still comply with notability guideline advertising prohibition and avoid conflict of interest talk',\n",
              " 'the section is useful info and should stay you are clearly wrong',\n",
              " 'comment so now we are stuck with week of broken link since you acknowledge that the move wa mistake and not uncontroversial will you please revert it if anyone want to dispute that the opera is the primary topic they can do so under proper requested move discussion a they should have done in the first place if you are not willing or able to do this today ll ask another administrator to do it',\n",
              " 'it need to be included in the context of a well ll try and dig up some source user talk review me',\n",
              " 'tim firstly appreciate you taking the time to discus this issue offline and for your willingness to debate it at length here despite the majority view here being in your favour yes certainly agree with your friend that it is very important to describe the jurisidictions that firm is present in there is clearly massive diffence between say having office in the french or japanese jurisdiction or between the chinese and s jurisdiction since the legal and regulatory system are very different a well a the commercial characteristic of the market beyond that however it remains my firm view that there is big difference between law firm having an office in say paris or toulouse even though they are both in the same jurisdiction appreciate that the situation in the s is slightly more complex since you have both federal and state jurisdiction even within each state there will be big difference between the legal market in different city though to give an example the san jose market will be not just lot smaller overall than the los angeles market but it will also have quite different profile on the whole lot more specialist niche and focused on high tech to give another example in the uk law firm could never be regarded a being truly top tier if it didn have an office in london even if it had office in every other big city in fact all of the very top tier uk firm dla piper is not yet regarded a one of them despite it size have just one uk office in london although they have other office overseas saying that dla ha ha office across the united state egypt south africa kenya thailand china would in my view still mean loss of valuable information to the reader we could fall back on using description like in major financial centre or in major commercial centre or in combination of major financial centre and major commercial centre but then we are introducing what is in my view an unnecesssary element of vagueness imprecision and even original research do accept that dla with office is right on the borderline of having too many office to make it practical to list all of them in the article however do also feel that there is an important general point of principal that information about the office location of law firm is very valuable information to aid the reader of an article in understanding the subject of it and should be included a much a possible',\n",
              " 'no problem with that at all if you don think that there is problem with someone siting that have mistress then it just prof my point a to how far this site is to being an actual encyclopedia it a forum not an encyclopedia big difference and that not even what piss me off the most about my page thank god m single with no chick bitching me out or that would be another attorney fee d be handing out to sue whoever owns this site m done bitching about the mistress thing my whole page ha error from the very first line down to the very last line and that is no joke first line and the last line are wrong',\n",
              " 'sprecher brewery took the tour this christmas when visiting my sister we were charged an extra for the glass their website may not be updated but that is the current pricing',\n",
              " 'ipad talk page why did you remove that ip edit to the talk page it wasn spam',\n",
              " 'speedy deletion of andrew takao tag ha been placed on andrew takao requesting that it be speedily deleted from wikipedia this ha been done under section a7 of the criterion for speedy deletion because the article appears to be about person or group of people but it doe not indicate how or why the subject is notable that is why an article about that subject should be included in an encyclopedia under the criterion for speedy deletion article that do not indicate the subject importance or significance may be deleted at any time please see the guideline for what is generally accepted a notable a well a our subject specific notability guideline for biography if you think that this notice wa placed here in error you may contest the deletion by adding to the top of the page just below the existing speedy deletion or db tag coupled with adding note on the talk page explaining your position but be aware that once tagged for speedy deletion if the article meet the criterion it may be deleted without delay please do not remove the speedy deletion tag yourself but don hesitate to add information to the article that would would render it more in conformance with wikipedia policy and guideline',\n",
              " 'image image deletion warning image metroid prime hunter title screen top display jpg ha been listed at wikipedia image and medium for deletion if you feel that this image should not be deleted please go there to voice your opinion 31 august 2005 utc',\n",
              " 'the real personal attack are the repeated undoing of my edits by everyone else',\n",
              " 'nope didn read the guide to appealing didn have time the user in question is engaged in harassment ve been doing this long enough to know and can prove it he she immediately placed threatening notice of blocking me permanently on my user page reverted the article while wa in the midst of editing it my second pas couldn even preview change then changed his her mind a to my real wiki sin since the onus for proving the doris day available a pd on archive org wa on him her not me and the usual span for pre bern had expired long ago decided my real sin wa original research oh no and continued to revert based on that doe or add clutter sure it can but if the user in question wa really concerned about that about the quality of the article and about extraneous detail why didn he she even notice two paragraph already there comprising about 3 of the entire article dealt with norman schwarzkopf an unrelated book and an unrelated ice cream store name ll tell you why the user wasn engaged in good faith goodwill editing and the normal back and forth that lead to better article he she wa involved in blocking input to the article why wa it personal against me or wa it to preserve the existing content of the article including the false claim and extraneous material not even concerned with ther subject at hand can only speculate but d guess it some sort of power trip and wiki bullying don really have time for this have made fair number of very good edits over the year and have usually refrained from saying anything that isn directly related to content and improving article could pretend this user didn do what he she did but m wasting my own time here and don really have stake in any such pretense don have any stake in improving this article either no dog in the race just see how it can be improved and made more informative a long term wikipedia user and editor don see any problem in jumping in and fixing something almost expect some sort of pushback now but not over completely minor edits which are very good and on target in very minor stub like article the problem isn me here it that if people such a the user in question can get away with this sort of behavior and they are getting away with it wikipedia becomes much poorer place playground filled with bully rather than library where we can all learn and share also don recal ever having called him her bot think you put those word in my mouth perhaps inadvertently his her behavior is malicious but probably not malware just the normal human collection of problem think this user should be warned against trying to be gatekeeper he she isn quite qualified for that at this point anyway and it having very chilling effect across wikipedia won egnage in battle of the wikipedia rule acronym will continue to write in english and to read article on wikipedia in english and to think of way to improve them in english am fully aware of how the term vandlism are used and misused here and most of the rest of the wikijargon nothing new under the sun here if you read the edits made carefully and note the time of the reverts and the history of action by that other user you will see m not off the mark here at all know what going on don know why but don have to and expect the motivation aren interesting respond if you have anything to say',\n",
              " 'the communist state all three call themselves a the socialist state communist is the word that westerner use so should that name be changed',\n",
              " 'boze hadleigh journalist interviewer and writer primarily of gossip about homosexual of hollywood',\n",
              " 'imdb content is user submitted and often subject to incorrect speculation and rumor the use of the imdb on wikipedia for referencing is considered unacceptable and strongly discouraged wikipedia wikiproject film resource self published medium are largely not acceptable this includes any website whose content is largely user generated including the internet movie database imdb wp userg a ve said this is long standing consensus if you disagree encourage you to take it up at wikipedia reliable_sources noticeboard',\n",
              " 'i new to this mean of communicating and am not sure that expressing this in the right form however am reviewing all of the recent 2008 ma nomination expected to go on the web in the next couple of month in the process have developed database of corrected lat long decimal degree based on google earth and photo and assessor map in the nomination file would like to share this if there is way of doing it alternatively to find way to easily check and correct existing coordinate on the mass wiki list would this be useful for anyone',\n",
              " 'y2kgtp actually reverted the vandalism did not',\n",
              " 'yes have read them both and will now ask you to provide back up for your story not that it matter in the least the one religion is a bad a the other but you better have some proof for your claim chatnoir',\n",
              " 'i think the error is that it is gram not kilogram so 5 kg m editing the article til we have better result if m wrong please change it back 10 dec utc',\n",
              " 'vince fyi yellowfrogs is longdendale councillor sean parker perry frequent purveyor of greenwash and four square behind the destruction of swallow wood via his support for the bypass he is vigourously re editing the wikpedia page on the longdendale bypass his own and roy oldham page in order to boost his fake green credential and obfuscate the neutrality of these article he get nasty if he get pissed off threatens spurious legal action but fortunately he legally illiterate so don be put off',\n",
              " 'summary of situation user shimshem ha taken dislike to this article and ha tried numerous method to either get it deleted or it name changed completely invalid speedy deletion request invalid drv request nominated for deletion via afd despite the fact that it had passed an afd this year in fact the afd wa withdrawn at 0 for keep the current afd here stand at 0 for keep but despite that shimshem ha wikilawyered all the way through it once it became clear that it wa going to be kept they decided name change would be better changed the name of the band in the article and wa told to take it to talk after brief non discussion on talk moved the article anyway and wa reverted wa originally unsure of the motif of this editor why they were completely desperate to delete or move this article until noted they were interested in tamil subject one of which is i artist and guessed that they believed that the two could be confused their subsequent creation of the article i a redirect to i artist proved this a far a am concerned a to whether the band is actually called mia or i it differs the band itself us i a the heading on their own website but then us combination of both elsewhere since in the case of most source this is only likely to be laziness much a e are regularly referred to a rem and since the article ha existed here for while and that all the backlinks go to this version and most of all because we shouldn let disruptive user get their way the article should stay here',\n",
              " 'it is unnecessairy source because it doe not matter how many soldier were killed what matter is that the safavids were deposed besides that mentioning that information without making any remark about the brutality of the afghan force for example the complete massacre of the safavid family including woman and child a well a the massacre on the civilian population in isfahan bam and village of khorasan is considered pov besides that you have not shown any source for your claim that 100000 soldier were killed and a for the edits it doe not matter what you believe it only matter what the wikipedia rule are you posted message without editting anything that the same a abusing the article history a message board use the real message board instead',\n",
              " 'whoever wrote the plot feel terrible for whoever had to watch the movie in detail and then write the plot line who ever took their time to write the plot section must be traumatized for life however it missing the part where milo son is laying on his belly unconscious on bed milo anally rape him while several masked men watch also there some use of knife sword in this scene this is truly one sick film no there is no artistic message this film is basicly middle finger by the sick minded film maker the cast must have been tricked into participating in this disgusting film there artistic gore such a the classic film begotten and then there this listen to me don watch this film no matter how much you are tempted',\n",
              " 'a he ha asked admins not to comment will refrain from doing so did however remove personal attack against him if anyone wish to discus this action please email me window',\n",
              " 'can we compromise here don think we have the budget for salmon but at least in the netherlands there is an in between fish more affordable that in dutch wa called salmon trout so far so good marshall fortunately no one ha yet discovered that you used to run drug for cartel or that you danced in nightclub la henry lafarge wa it in shot in the dark ssshh m not telling oh should ask you at your rfa about the proper use of citation template later',\n",
              " 'sorry am not sure how to take care of him he ha quite the history and actually ha legal case involving the dayton daily news wikipedia is at risk if he edits any of those page or any affiliated company the actual sockpuppet is 31 93 which is puppet of hdayejr',\n",
              " 'we can agree to disagree on the relative merit of the fish and the character but the red seabream is part of family sparidae anyway so that usage outside north america right there',\n",
              " 'large ship are typically launched into the water when the hull are completed but that doesn mean all of the construction work is finished usually there is still significant amount of work to be done including finishing the interior of the ship building the superstructure etc take look at image sm seydliz under construction jpg for example you can see the ship is already in the water but significant amount of work is being done to the superstructure you can also read ship naming and launching for more information about launching hope that help',\n",
              " 'at which point am predictably ignored and stonewalled which seems to be the wikipedia staff official response to any direct questioning on the justin berry issue one might think they ve hired scott mcclellan to handle their pr clearly they are aware of the untenability of their position and they re really hoping it will just go away sorry guy it won',\n",
              " 'you need to prove notability using reliable source just because it ha some festivity how large are they who organized them in part of country doesn make it notable also you need to change your username this one will probably be blocked soon for violating the username policy no name of web site business talk to me',\n",
              " '4meter4 sigh and my concern only because mr 4meter4 had reverted any of contribution of mine given to this article so far did not have single chance to develop it his article called falsetto is not about falsetto it may be about his arrogance who know there are huge contrary regarding only the definition of falsetto there are many sign of entirely different falsetto compare those info which mr 4meter4 such anxiously protects in england italy or spain 16th century were described entirely different type of falsetto on the top of it mr 4meter4 perhaps never heard pavarotti singing falsetto or the falsetto of ian gillan singing of king diamond is based on falsetto what about michael kiske is it not falsetto mariah carey or whitney houston do did not sing falsetto doe any of these falsetto sound breathy not to me isn out there published note about those maybe only because 4meter4 doe not look for it why it would not fit to his article he would have to admit that his only source vennard wa probably having in the chair something else than falsetto or he wa drunk 4meter4 quickly opened two or three book and thing he had swallowed the world the whole physiology of his only falsetto is based on encyclopedia well perhaps it is enough for wikipedia or himself but not for me no there is much more out there only regarding physiology much much more and just because you allow idiot like 4meter4 to develop wikipedia the people the reader of wikipedia will read shit where are any prof of the research regarding female falsetto at 60ies mr know everything feel free to block me again have no desire to write here any more',\n",
              " 'you ve also forgotten these premier league but still written in english',\n",
              " 'please do not replace wikipedia page with blank content blank page are harmful to wikipedia because they have tendency to confuse reader if it is duplicate article please redirect it to an appropriate existing page if the page ha been vandalised please revert it to the last legitimate version if you feel that the content of page is inappropriate please edit the page and replace it with appropriate content if you believe there is no hope for the page please see the deletion policy for how to proceed thanks for contributing to wikipedia talk',\n",
              " 'what motherfucking piece of crap those fuckhead for blocking u',\n",
              " 'utc that because when made those table classed everyone a independent unless could confirm their party identification according to this the dlp intended to run in all constituency according to this they had at least candidate ve only been able to identify two so far so we do need to identify more 19 december',\n",
              " 'removed pov removed undo criticism of secretary boutwell and pov wikipedia is not meant to bash person reputation whether alive or dead the following ha been removed from the article boutwell did little to withdraw paper currency from circulation shaping his financial policy to forestall either inflation or deflation intellectual critic saw in these action want of guiding principle and lack of solid theoretical knowledge he believed in knowledge just so far a it wa convenient for him to justify his own theory that knowledge wa deception henry adam wrote in much quoted analysis in he believed in common school and not in political science in ledger and cash book but not in adam smith or mill a one might believe in the multiplication table but not in laplace or newton by natural logic he made of his disbelief in the higher branch of political science basis for his political practice and thus grounding action on ignorance he carried out his principle to it remotest conclusion henry adam the session north american review july 36 but in very corrupt time it spoke well of boutwell that nobody thought that he made money out of his cabinet post either for himself or his friend living within his salary he lodged in boarding house throughout his tenure his only pleasure lay in writing lecture and playing billiards or poker though never for money chicago time march 1875 he is an inaccessible man uninfluenced by fear favor affection or hope of reward and doe not burst out into brillian exhibition of love or hatred new england politician wrote his brother henry french to benjamin french march 1869 benjamin french paper library of congress boutwell financial policy wa le dogmatic than pragmatic liberal reformer had hoped that he would embrace civil service reform and rush the country towards the resumption of specie payment but while boutwell appointed subordinate on the basis of merit for the most part he did little to rein in the spoil system outside of washington remaining on friendly term with the party boss',\n",
              " 'you sir are an imbecile and pervert',\n",
              " 'recaptcha it isn defamatory it relates to computer system not living person recaptcha force user to solve the captcha to access whatever the service in question is forced labor is the definition slave labor am going to revert your reversion please do not do it again or will report you for vandalism also please don send me threatening message tia 168 89',\n",
              " 'question on possible citation m sorry if missed your question don pay much attention to that page in response to your question let me start by repeating my boilerplate formulation the job of wikipedia editor is to verifiably summarize reliable source using the neutral point of view haven yet worked in no original research wp nor say that we mustn integrate otherwise reliable information to arrive at novel conclusion comparing two list and drawing conclusion from their difference and similarity is most likely original research we can integrate information so long a we don arrive at new theory another principle to remember is that vagueness improves accuracy the more precise we are the harder it is to be accurate getting down to detail the predator and editor website appears to be reliable source so we can use it a source the bauer site even if somewhat unreliable may be used in limited fashion a primary source about bauer m not familiar enough with this topic to make pronouncement on what would be correct however would say that your proposed text appears reasonable the source are sufficient and no original conclusion are made the website takedown issue is confusing to me but you should be able to summarize what you find in reliable source overall my opinion is that the le we say about the subject the better attack article are not encouraged while we must show our subject wart and all we shouldn enlarge the wart nor ignore their better feature balance is part of npov but you should be able to summarize what you find in reliable source there no reliable source only he said she said blog flame war it is alleged the website takdown wa instigated by bauer it isn clear if she did and other factor between the forum and the ip are not known it wa the root cause of this article and all the player here were involved via these blog don see how that can be objective bauer m sorry did not get back to you about the usenet stuff et al but ve been somewhat overloaded at work personally think the article is better now than when first saw it thanks to lot of effort on the part of the primary editor of the article to bring the best source and present them in way that doesn seem like lynch mob all are doing good job and there should be enough editor on either side to ensure that something resembling nuetral get posted m glad to help and try and make the article neater and don mean to sound brusque in the summary field but there wa lot to cram in there thanks for the note appreciate it would say karen saying ve called her name is an out and out fabrication ve never done any such thing or whether it because he been able to insult me and call me name on wikipedia repeatedly and without consequence ve accused her and jule of carrying the water for tnh and absolutewrite and they have that isn namecalling by long stretch m really weary of these attack over this this is mob rule while avi seems genuine she hanging with tough insulting tribe the threat against me are real and escalating by the hour blaming me won make my point any le valid nobody like to be piled on by crowd it the internet equivalent of stoning this is not fabrication get awfully tired of being called troll or part of mob or cult or group troll or self interested partisan or blog comment commando or other thing could point at if wanted to depress myself you also made theoretical comment about me being nosy fat and ugly putting the word if in front of it doesn make it any le of an insult ve tried to be polite to you and will continue to do so but this is the response and please notice like abi avi is avraham the admin abi the ml commenter who belief in kindness counseled against piling on talk contribs those are not ad hominem name karen yet you ve linked to thread where you and teresa caled me psycho you should hear what she said in private when asked not to be spoken of negatively in thread on making light it obvious you two are pro tnh and absolutewrite that self interest and backed up by the fact that you run to her for counseling well avi can make her own decisons about it then can sh',\n",
              " 'infobox hurricane season it pretty much complete need to make some documentation and possibly tweak thing that may pop up you might want to test it out so if there are question or suggestion can go ahead and address them',\n",
              " 'show me where on wikipedia it say the table width ha to be wide collectonian why can you answer my question',\n",
              " 'why wa this article marked for fixing wa hoping that there would be some guideline here on the talk page for further research and edits the article look okay to cursory reading by non wiki reader',\n",
              " 'castro lite webluis continues to revert to his watered down preferred image of castro he ha not backed up his edits with any fact only whined about personal attack some nonexistent and empty statement 56 mar utc',\n",
              " 'antonov revert if you didn like the red link removal why don you just add them to the table made also you reverted the edit where only added the logo of antonov it said so in the edit summary',\n",
              " 'another crap article parrot what promotion website of capoeira school say about myth of origin and also that persecution thing by the late 1800s capoeira became word for street brawling thus authority did not prohibit or sanction practice of capoeira in banning capoeira they were banning outright street brawl it why mestre bimba presented his art a luta regional baiana no decent carioca would be eager to sympathise with capoeira and malandrismo could attempt to alter the article but it become such mess by now',\n",
              " 'i never edited the content of your comment please correct your false accusation',\n",
              " 'redirect talk josé manuel rojas',\n",
              " 'i agree that it shouldn but clearly it doe the medium make spouse household name there nothing we can do to stop that but a jim rightly point out rein is more notable than some political spouse because of her prominence a businesswoman and that potential conflict of interest which she is trying to avoid nick',\n",
              " 'for security reason edit war a said in my edit summary the term for security reason is ambiguous and not properly established in the source further it is unnecessary you have to have crystal ball to know why they did it and a said earlier janes is not perfect the reason that all the other mg manufacturer alter their part so they don interchange is because the u batfe make them do it suddenly glock is different yeah guess that just like glock compensated pistol not acting like any other compensated pistol wonder if they actually shoot bullet',\n",
              " 'this represents your immaturity and consistence at disruptive behaviour talk',\n",
              " 'macedonian slavic bulgarian possibly note republic of macedonia recognises the language a the a dialect of the macedonian language greece eg recognises speaker a slavophone greek bulgaria belief that macedonian and dopia slavic macedonian to both be part of the bulgarian diasystem european bureau for lesser used language recognised the language a macedonian in 5 ethnologue the most comprehensive guide to the world language http www ethnologue org show_country asp name gr there you go for more clarification altough we all know the stance of the various government doe anyone have current source for this if so please add them hope that this table is clearer but their still need to be more ngo albania eu etc please add constructive comment',\n",
              " 'if you feel that am acting in manor inconsistent with my responsibility you can post something at wikipedia administrator noticeboard incident if you want to make change to university of wisconsin madison and you have reliable source reference to support those change then post the reference with the change this tutorial may help with reference if you have more question just ask',\n",
              " 'part of editing for an encyclopedia is reducing extraordinary claim to ordinary fact assume that this is meant in derogatory fashion 81 9',\n",
              " 'cfd nomination of category wikipedia administrator have nominated for deletion your opinion on the matter are welcome please participate in the discussion by adding your comment at the discussion page thank you',\n",
              " 'i also sock puppet of this account suprise sincerely the man that will track you down from the internet and kill you',\n",
              " 'all the source needed are provided all you need to do is read the article but guess you can read once again you prove you are not even reading the article every edit is backed up with the source it came from am not going to provide you with any detail because you are merely civillain editor and not wikipedia staff member you have all the info you need within the pira text edits if actual wikipedia staff member want more specific will be happy to provide them look you are obviously anti ira hack who is making thing up to support your bias am neither pro not anti ira have no bias merely report fact will be checking this page daily and will continue to submit my pira entry because it is by far the most accurate and factually supported we can do this several time day if you wish or you can accept the fact that mine is the superior version and just deal with it it up to you but will re edit on regular basis or we can agree to incorporate your fatcxs and mine into one article but the three area the number of loyalist killed from to the number of ira victim a broken down by both janes intelligence online and the cfr and the ira russianmafia connection which ha been documented in multiple book and newspaper source these three thing are verifiable and will remain',\n",
              " 'are you fucker mother fucker have nothing to do but block university computer go and suck cock',\n",
              " 'it from one of the many book on various band thought it wa from cult rocker but just checked and supertramp isn in there will seek out source for this quote',\n",
              " 'hello you disgrace to humanity stop wasting valuable internet resource your killing the fucking planet and throw out your pc p it like 3am what the fark kinda life do you have on wikipedia 7 very sad and lonely one lol life too short find something better to do',\n",
              " 'i ve explained my reasoning for this block at user_talk gwen_gale user professional_assassin',\n",
              " 'when an article is created about that album then disambiguation page will be created',\n",
              " 'that would be pretty odd for those declassified document to mention movie that wa created after the event for which both the movie and the document do related about the declassified document were not synthesized for the movie unless you want to prove conspiracy on the synthesis very odd it is perfectly valid to use the document to relate to the same historical event to further verify the what happened but the use of primary source in such wa is not ideal for wikipedia since it is not ideal that is why left it here on the talk page if someone want to research it more to find ideal reference',\n",
              " 'your retarded bot your bot is entirely automated that is wrong you should not leave an unattented script just running through the site like that it is idiotic of you to suppose that your scripting ability are so perfect that they will only ever make proper edits banning me doesn help anything dipshit since have a many ip a want',\n",
              " 'two reversion on hezbollah could you explain on the talk page why you have reverted my edit twice',\n",
              " 'dislike racism and can see that you ha problem with people who speaks spanish you are an antisemite too',\n",
              " 'the name yuen lou look to be just variation of yuen lo the name jackie used under his sifu at the opera school',\n",
              " 'user talk wikireader41 archive4 archive mar',\n",
              " 'i realize now that the article doesn quite say what thought it said if anyone can find citation stating that there exists proper subfield of isomorphic to itself would be very interested in seeing it and we could reinclude the clause with the citation',\n",
              " 'didn cherry pick anything these are the official and only fact while essentially every cnn program wa down double digit 9pmet which is home to pier morgan tonight and 7pmet which is home to erin burnett outfront each had their worst performance in the demo in year http www mediabistro com tvnewser may rating cnn hit year low_b130250',\n",
              " 'direct indirect relation is it correct to say that technically if degree shot by elevation reach the longest distance then degree 15 will reach the same distance a degree 15 shot if so could the lower than shot be considered direct fire and the higher than shot considered indirect fire if so think this is great explanation or one way of viewing thing',\n",
              " 'title section revert hi wa at the office earlier and hadn noticed your warning before restoring the title of the section m sorry for that of course won do such revert again just to clarify ve opened new section to indeed alert some contributor that they were behaving in way in line with the example of ownership behaviour a described here in return the title of the section ha been twisted to something unrelated and one of my message ha been erased it is the first time see people editing other signed contribution in talk page this just look crazy to me',\n",
              " 'noel you are an expert please convince whig history fan or the lazy mind about how bonnie prince charlie did not want to dissolve the union that the united kingdom began with the stuart a opposed to the hanoverian tell them how the whig rewrote history to blame everything on the stuart whom are credited a ultimate failure with no positive contribution to the foundation of great britain in their stewart and tudor blood the sovereign will is the realm or else it is not kingdom the british might a well be living in republic at least if the parliamentarian had their way even the hanoverian heir recognise that the stuart founded the uk please debate that here thanks',\n",
              " 'warning earth d like to leave you access to your talk page so that in perhaps six month you can convince u that we should try again if you re so inclined but you re making it hard if you continue these abusive comment will revoke your talk page access',\n",
              " 'should be jaeger regardless of what other people have decided erens name should be jaeger it like calling light from death note raito at least in the anime the people dubbing take care to correctly pronounce the foreing name ie all of them except mikasa jaeger mean hunter german word guess what eren doe in the series',\n",
              " 'thank you for experimenting with wikipedia your test worked and it ha been reverted or removed please use the sandbox for any other test you may want to do take look at the welcome page to learn more about contributing to our encyclopedia link to the edit have reverted can be found here link if you believe this edit should not have been reverted please contact me talk',\n",
              " 'please discus how factual accurate biographical information about courtney ford is vandalism look forward to hearing your evidence',\n",
              " 'think the entire article should be tagged a politicized and the part about future trend a speculative my point wa that scientist are learner and we are increasingly using them a know it all teacher yes they probably can make educated guess better than anyone else but it still an educated guess also if you didn notice am totally against spewing unnecessary carbon a this statement think this article superbly miss the point that pollution and waste of all type are stupid way to go about doing thing where better way are known and we are making guinea pig of all our planet specie point out',\n",
              " 'used car expert page image thank you for your note about the image of used car expert magazine have had the copyright owner who gave me permission for the picture email a above 123 110',\n",
              " 'however it is still in error to assert he doesn work the equation himself or that he is handicapped',\n",
              " 'first we ve widely established the use of exile quotation presented a such is legitimate second m not mark ames this ha been autheticated by numerous admins and user at wikipedia who have personally met me third you cite the paragraph on spy magazine a your primary example of pov and creative fact what precisely is the creative fact in that paragraph that the exile admired spy magazine that spy magazine employed team of lawyer to defend against spurious lawsuit that spy magazine went bankrupt all claim in that paragraph are verifiably true',\n",
              " 'pretty humorous comment from someone who promotes the far leftist blog daily ko on his user page',\n",
              " 'seems we both have some',\n",
              " 'don be evasive shall have to repeat myself how many people argued for it deletion don lock page when you don get your own way',\n",
              " 'edit request on october the arctic monkey played walk on the wild side in honour of lou reed at echo arena liverpool day after the musician death http www rollingstone com music video arctic monkey cover lou reed walk on the wild side',\n",
              " 'welcome hello and welcome to wikipedia thank you for your contribution hope you like the place and decide to stay here are some page that you might find helpful the five pillar of wikipedia how to edit page help page tutorial how to write great article manual of style hope you enjoy editing here and being wikipedian please sign your name on talk page using four tilde this will automatically produce your name and the date if you need help check out wikipedia question ask me on my talk page or ask your question and then place helpme before the question on your talk page again welcome talk',\n",
              " 'gurch is an interesting fellow just don take his comment to heart but take his advice on board talk',\n",
              " 'it wasnt vandalism dickhead',\n",
              " 'you need to understand that he is not here do help wikipedia he is here with political mission attack brazilian press no m not crazy but see this crazy people all day here in brazil',\n",
              " 'season issue not sure why you removed my edits on the season futurama issue but think it ha merit the total lack of season info is confusing and not sure why the season info is replaced by the movie information you could have informed me at least on why you removed my discussion comment',\n",
              " 'philosopher rfc philosopher from wiktionary person devoted to studying and producing result in philosophy am going to make the case that we must call stefan molyneux philosopher without qualifier in the lead this is not done a an endorsement or statement about the level of achievement or acceptance of his philosophy only that it is his career note not all of the source use below are in the article at present the point here is to first convince rfc respondent that philosopher is accurate and widely accepted then we can make sure the most reliable one are in place definition obviously each source is going to use slightly different phrasing some will call him explicitly philosopher or ha view on philosophy but think you should consider some other phrase given below a equivalent using one word philosopher in the lead sentence cover all of his political ethical and theistic specialization in one word which we then elaborate on later in the article philosophical conversation philosophy show used to describe his freedomain radio series libertarian libertarian thinker libertarianism is classification of political philosophy anarcho capitalist anarcho capitalism is political philosophy voluntaryist voluntaryism or sometimes voluntarism is libertarian philosophy athiest argument for atheism range from the philosophical to social and historical approach ethic ethic sometimes known a philosophical ethic ethical theory moral theory and moral philosophy is branch of philosophy secular ethic secular ethic is branch of moral philosophy primary source a stefan molyneux is living person we should give great weight to what he say is the focus of his work and his stated profession unless there is reliable evidence to contradict him obviously we don want to host any sort of fringe claim if we are to dispute what he say about himself though then we absolutely must have strong basis for this or we open wikipedia to discredit or liability this is why blps are held to strong standard in the first place think in this case there is strong and ample evidence that calling himself philosopher is justified and correct he is modern philosopher that explores via modern online medium which is obviously very new phenomenon and so it understandable that it different than the old school philosopher we re used to freedomain radio about page my master thesis analyzing the political implication of the philosophy have been fascinated by philosophy particularly moral theory since my mid teen left my career a software entrepreneur and executive to pursue philosophy full time through my work here at freedomain radio have written number of novel a well a many free book on philosophy freedomain radio the show that molyneux host ha the tagline the largest and most popular philosophical conversation in the world molyneux book show that he is endeavoring to produce tangible written result in the field of philosophy particularly universally preferable behaviour upb rational proof of secular ethic and against the god concise guide to atheism and agnosticism which are two of his more deep dive into the fundamental philosophy strong atheism the case for evacuating the middle ground article why am philosopher video response to question about my childhood motivation for pursuing philosophy an introduction to philosophy part video course produced by molyneux describing basic philosophical concept reality knowledge truth god religion ethic and politics unsolvable philosophical question solved video tackle great philosophical question considered unanswerable proof for god destroyed by philosophical atheist video philosophical review discus the major philosophical political economic and social development of video http www youtube com watch udlsgjbw4hs philosophy questio',\n",
              " 'wp film december newsletter the december issue of the wikiproject film newsletter ha been published you may read the newsletter change the format in which future issue will be delivered to you or unsubscribe from this notification by following the link if you have an idea for improving the newsletter please leave message on my talk page happy editing talk contrib',\n",
              " '25 january utc no am not being uncivil try uuser lbrun12415 he called other user waste of sperm moron etc block him the one who truly uncivil rikara recommend you cool it yelling and arguing is not going to get you anything take breather and come back when you re feeling calmer otherwise you will find your talk page protected and you will be forced to take breather have seen nothing of the sort from that user who ha since been renamed at the very least not in this current situation blah _',\n",
              " 'you suck if you don undelete the page barry dejay will you',\n",
              " 'see internet_explorer market share history overview by year and version ie7 is with u for some time to come like it or not but if others using it have no problem that fine m not worried about my specific workplace come howl',\n",
              " 'i like the example given on the following post http theautomaticearth blogspot com 07 july 2011 real black real swan html 30 70',\n",
              " 'curse wikipedia ha no respect for god wikipedia is full of lie or dangerously evil half truth wikipedia ha no respect for religion the following user of wikipedia namely redtigerxyz priyanath emperor genius raj2004 wikidas wikiveer and dagizza have all committed blasphemy and sacrilage curse upon you that you will all perish curse the following user of wikipedia namely redtigerxyz priyanath emperor genius raj2004 wikidas wikiveer and dagizza that you will all perish curse that the wikipedia will entirely perish beg forgiveness from the supreme god lord vishnu for choosing the blasphemous wikipedia website to write about the truth true devote of the supreme lord vishnu ha been hurt and my curse never go in vain will never again edit or read or go to the evil wikipedia website forever delete my user id and all edits you evil wikipedians mr dagizza you are male chauvinist pig and misogynist to the core and you call yourself an administrator ridiculous mr dagizza you are curse to your existance man like you who cannot respect woman is worthless in his existance you wikipedians are useless people you are burden to the civilized world you are not even worth hatred you wikipedians must be ignored curse',\n",
              " 'hahaha you dont actually believe this bullshit you are telling me right now you are talking about the access to the country or representative to the government not kim jong un himself those are two totally different thing although could understand your stupidity since north korean think that kim jong un is the governement im just saying go troll somewhere else kid',\n",
              " 'blocking mardyks guess what loser know what cockblocker is hahahaha 39 86',\n",
              " 'and don want to use it again don understand why fayssalf insists on naccount could have wrote to him using any other account maybe he would have kept it instead of naccount',\n",
              " 'deletion of minority post nice try at trying to silence the slave who won stay down did not know you attempted to block my yet again do not come to wikipedia every day because have something you do not life a you can see you have failed again in attempting to silence me and refusing to answer the qusetion why do you purposely hunt down post of african american and delete them all you did wa refuse access to some sporting good store and the person you contacted in an attempt to block me is named rebelguy no there is not racial agenda is there have made hard copy of your failed racially motivated attempt to punish me and turned them over to the naacp',\n",
              " 'thank you just wanted to say it',\n",
              " 'well you never answered my question about your specific intention at talk mystery science theater episode experiment v movie can assume from your posting title that your intention is to create individual mst3k episode article m on record a believing this could be useful but am not prepared at this time to do any significant work on it a m stretched way too thin right now talk',\n",
              " 'nigel per wiki standard when to use and external link is it proper in the context of the article useful tasteful informative factual etc is it functional link and likely to continue being functional link each link should be considered on it merit using the following guideline a the number of external link in an article grows longer assessment should become stricter when in doubt about the appropriateness of adding new link make suggestion on the article talkpage and discus with other editor generally avoid external link except when it take me directly to the home page of the aircraft in question this link doe take me directly to nasm page on this particular that make this external link appropiate agree that this page doe need more reference',\n",
              " 'edit request from maksudfsa10 march just minor edit ve added azerbaijani to the list that describes turk in the first paragraph a we are the second largest turkic ethnic group the turk or turkic are people residing in northern central and western asia mongolia southern siberia and northwestern china and part of eastern europe they speak language belonging to the turkic language family turkic people encyclopædia britannica online academic edition they share to varying degree certain cultural trait and historical background the term turkic represents broad ethno linguistic group of people including existing society such a the azerbaijani chuvash kazakh tatar kyrgyzs turkish turkmen uyghur uzbek bashkirs qashqai gagauzs yakut crimean karaites krymchaks karakalpak karachays nogais and a well a past civilization such a the kumans kipchaks avars turgeshs seljuk khazars ottoman mamluks timurids and possibly the xiongnu and hun timur the columbia encyclopedia sixth edition 05 columbia university press encyclopaedia britannica article consolidation expansion of the indo timurids online edition',\n",
              " 'nobody care seriously it just self referential trivia guy',\n",
              " 'i understand what see do not see scholarship see stealing grasping greed it animalistic try this 2 in any culture switch to math you wil like it no levantian in math amanbir 226 239',\n",
              " 'i guess don know greek cuz it took forever to translate second if read carefully doe not say anything about',\n",
              " 'you have never met or been photographed with keith wigdor whoever you are am asking you to not interfere with the article about keith wigdor you have no resource or connection to him unless you are somehow being deceptive so really you are not any sort of expert on this artist 04 dec utc',\n",
              " 'holocaust denial if there is no actual proof that jeff rense advocate holocaust denial then the category holocaust denier should be removed',\n",
              " 'wikipedia administrator are defending mass murdering psychopath',\n",
              " 'censorship it my understanding that you re supposed to warn someone before asking the administrator to block them so consider this warning don delete my comment again',\n",
              " 'april your attitude and comment to are not appreciated please remain civil',\n",
              " 'request for help request for help hi again cat a perviously have noticed strong anti greek bias on several article related to macedonia ve had issue with both furper and beam who seem to be admins that heavily favour fyrom ve officially complained on the notice board about their threat to block edit behavior and unusually close relationship with obvious fyrom pov member of wikipedia specifically balkanfever http en wikipedia org wiki wikipedia administrator 27_noticeboard this_anon_ 28apparently_user crossthets 2c_is_an_apparent_pov_pusher 2c_evidence_below a said verbatim on politis talk_page this is difficult battle because so far am alone at the moment am newbie and a said to one of the admins on notice board feel like someone reporting bad cop at policeman ball however still plan to follow up soon with precise listing of what perceive a non npov behavior by these admins noticed while researching this issue you ve also have problem with them would it be possible to list any problem on your talk page here so can add them to my report to show am not alone furthermore since you have been around longer you probably know more greek than me around here would it be possible to also contact them to ask them if they ve also had problem with those two and if so add those incident to your list and perhaps get them to contact others where one person could be bullied with threat of blocking the concern of many will be taken much more seriously will check back here in couple of day have courage regard 161 86',\n",
              " 'am certain that it wa injury and not sickness regardless of how it occurred',\n",
              " 'i told you won comment on it again what more do you want',\n",
              " 'wikipedia article for deletion cheongye kwan your post at the above afd on new martial art bother me this wa the version at the time that you based your post on you posted just read the article and to be quite honest feel that it doe satisfy wikipedia guideline it is reliably sourced since believe the notability of the article is satisfied it now ha independent source and to refute the argument posed by wayne it is determined by the phillip rhee source that the martial art is not localised please consider the concern this post raise simple matter like reference notability and noobie basic of afds should be routine for any moderately experienced user and bread and butter for any admin in fact cursory check show that almost everything you stated wa don have word for it unreal is close the eleven independent source that you stated established notability and non localization at the time were three reference from coates robinson shaw certainly before the topic even existed and all related to passing piece of news about it founder being on the team of completely different sport in any event two reference from 1st half davy white almost certainly identical and identically irrelevant to the topic notability the promoter personal page on his local town website almost certainly self published official village website casual interview in non notable and possibly non reliable university magazine apparently of the promoter travel to see expert in different sport with tangential tiny sentence mention that he discussed his new sport with them too the lau philip la interview entry marked reference and support of written reference chris cook rhee obviously request by the founder to friend colleague write letter of support that wa never published anyway and isn cited so you can have read it not that it wa even possibly valid evidence short writeup of local information kind on the award of the first black belt by the school in it local paper in brief of the 5 were before the sport existed and were not even remotely to do with the topic itself much le sourced material on it or substantial coverage they had precisely zero coverage were claim of personal think is great guy letter of support evidently solicited and or written on request with zero evidence of verifiable existence and certainly in no way reliably sourced or independent wa self written wa the briefest of non mention in non reliable source pretty much discussed the topic with them in college magazine interview is local press coverage of his course that not even news for day or evidence of anything beyond course by this name is taught twice weekly in our local village hall your assessment of these at afd wa it is reliably sourced style border c0c0c0 solid 1px width there is barely one reliable source in all of those that the sport even exists in the first place local newspaper mention that it meet in village hall on tuesday and friday and just awarded it first black belt probably via self promotional input there is zero reliable sourcing for any of the rest that the cited page are evidence of notability style border c0c0c0 solid 1px width they don mention it or even date from time the topic existed nor are online version provided how on earth could they reliably evidence it that the source are independent style border c0c0c0 solid 1px width 3 are claim that please support me letter exist they are even stated to be personal reference unpublished and uncited is his own clearly self written web page on local village web host that the cite show it is non localized style border c0c0c0 solid 1px width the page doesn list link so you can have checked the cite yet you say the citation prof it the reference openly stated cambridge university and bristol taekwando big indication of it actual source when link wa provided on request it turn out it',\n",
              " 'hebrew name of lydia appologies to til eulenspiegel thought you were one of the idiot which your user page indicates you actually do well struggling against genesis יג ו מ צ ר י ם י ל ד א ת לו ד ים ו א ת ע נ מ ים ו א ת ל ה ב יםו א ת נ פ ת ח ים tab13 and mizraim begot ludim and anamim and lehabim and naphtuhim you see ludim are from mitzraim not to be confused with lud son of shem in the far east best wish and keep up the good work 103 144',\n",
              " 'which they are have you considered that you have irrationally laid waste to six month of my life which have dedicated to this project',\n",
              " 'did you scout for source prior to the prod eh no dr blofeld',\n",
              " 'you wasted your own time take this advice with you pull your head out of your as be real and don spend the rest of your life sucking as have nice life goodbye mailbox',\n",
              " 'class wikitable style border 1px solid 8888aa background f8f8f8 padding font size parliamentary bloc alliance leader seat percentage source national alliance state of law coalition national iraqi alliance ibrahim al jaafari 48 al iraqiya al iraqiyya hassan al jibburi 28 kurdistan bloc coalition kurdistani list kurdistan islamic union islamic group of kurdistan fuad masum 15 center current al tawafuq unity alliance of iraq unknown 3 gorran bloc gorran movement shorsh hajial iraqiya brengt oppositie en talabani dichterbij elkaar azady nl 2 national rafidain list assyrian democratic movement yonadam kanna 0 csapc chaldean syriac assyrianpopular council sarkis aghajan 0 independent',\n",
              " 'i also told him that count of using admin tool for deciding on content and misrepresentation of policy norm ha been sanctioned in the past',\n",
              " 'welcome hello and welcome to wikipedia thank you for your contribution such a the one you made to nogeoldae hope you like the place and decide to stay here are some page you might like to see the five pillar of wikipedia help page tutorial how to edit page and how to develop article how to create your first article using the article wizard if you wish manual of style you are welcome to continue editing without logging in but many editor recommend that you create an account doing so is free requires no personal information and provides several benefit such a the ability to create article for full outline and explanation of the benefit that come with creating an account please see this page if you edit without username your ip address 237 162 is used to identify you instead in any case hope you enjoy editing here and being wikipedian please sign your comment on talk page using four tilde this will automatically produce your ip address or username if you re logged in and the date if you need help check out wikipedia question ask for help at the teahouse ask me on my talk page or ask your question and then place helpme before the question on this page again welcome',\n",
              " 'stradbroke galleon portuguese hallo moondyne do admit that when signed onto wikipedia wa not aware that it wa concensus community of knowledge nazi but now that am aware of it will make the appropriate adjustment wa under the obviously mistaken impression that wikipedia wa venue for sharing fact knowledge and information the notion that the stradbroke galleon story is pet theory of mine is total rubbish a it ha been written about discussed and investigated for more than year by historian and historical group such a the royal historical society of queensland the maritime archaeology association of queensland and many more too numerous to include here there exists in various library book and community large body of written and oral history concerning the galleon story which have attempted to fairly and accurately place in the wp domain the fact that story is not accepted by mainstream academic is not valid reason for deletion of either of my contribution what ha occured here is classic example of manipulation of an information resource by vested interest group e hesperian and his friend who are representative of the mainstream view hesperian complain about the medium coverage have recieved but this never appeared in any of the wp contribution made and hesperian mention of the medium coverage demonstrates the core reason for hesperian antagonistic attitude simple old fashioned professional jealousy thus valid historical data is being deliberately surpressed by hesperian for personal reason for example the portuguese walking stick handle which wa found in an aboriginal midden identified by spanish musuem offical and story told to me by uq archaeology phd student is very relevant to the theory of the portuguese discovery of australia this kind of knowledge suppression is not what wiki is about but guess you do not care a you appear to be part of the happy little click or have been sucked in by hesperian and his little band of mate which is pity but history is full of the suppression of information by vested interest group so why should expect wiki be any different still it is dissapointing happy trail',\n",
              " 'agf requires me not to think you were reverting to the user preferred version it might look better if you allow another admin to make that edit',\n",
              " 'accent although the cartoon established mario and luigi to be from brooklyn fact commonly accepted by fan despite having never been mentioned in any game toad seemed to speak with thicker brooklyn accent the accent weren mentioned in the game but the tv show wa presumably licensed product until nintendo decided to go with an italian accent fan assumed the tv show and later the movie accent wa the official standing only when nintendo product included digitized recorded speech did anyone realize nintendo intended them to be italian not italian american it the same principle of updated canon that star trek and star war licensed product run on',\n",
              " 'delete this no way consider it trophy',\n",
              " 'actually bzfoster will be unable to edit the article a it is semi protected a well pc2 log out and try for yourself',\n",
              " 'i believe that have obeyed the community rule do understand the rule about personal attack but it appeares to me that they are being applied unjustly in this instance have provided countless hour of academic research and input for wikipedia please assume good faith on the part of the blocking admin am an intelligent adult naturally assume good faith until other party demonstrate they don it seems to me this is one side affair',\n",
              " 'please do not add unsourced negative or controversial biographical material to page a you did with this edit to stuart tyson smith if you continue to do so you will be blocked from editing',\n",
              " 'preceding unsigned comment added by talk contribs',\n",
              " 'or between the french and the walloon surprise our article on french people clearly label the walloon a distinct ethnic group perhaps it is best not to make comparison after screwing it up few time have done rewrite of part of the article mainly word and sentence left and right to make the distinction and relation between the dutch and the flemish clearer the article switched constantly between part about the dutch only and part about the dutch and flemish together this should now be clearer the major thing left to adjust are the graph of the number of dutch since these still al include the flemish',\n",
              " 'you need to sign the above and your rsn post',\n",
              " 'a few thing to get straight firstly do not like you you look like smug little prick to me secondly do not like your ethnicity not one little bit d like you to explain yourself on that count thirdly your dog is bit of bender 1 85',\n",
              " 'procedure do ask you for the award michelle obama already ha million view this year and anthony davis basketball had million in c wp four wp chicago wp waward',\n",
              " 'adding more than link did add more thank link but the entire page wa also marked a spam for no reason other than the no one is familiar with the one hundred year old industry and you still have not explain how the link on this page http en wikipedia org wiki natural_building are relevant and mine is not',\n",
              " 'please do not accuse member of vandalism do not mind if you change the word unique to prominent or remove story of dream etc but you have vandalised the page and made statement biased by saying that dr qadri only sent out referendum so reverted the whole edit you have also reciently vandalised the page by removing the name of the yemeni scholar who recieved dr qadri ijaza including the picture and this is clear form of vandalism so before accusing other member of vandalism do not vandalise the page yourself what did wa clearly not vandalism a only reverted your edit and any change you made and brought the page back to it previous form so would you first kindly read the rule of wikipedia and find out the definition of vandalism before accusing experienced user you are still new to wikipedia m afraid and you need to learn how it work and the different rule of wikipedia before making any further edits',\n",
              " 'i know how it pronounced in turkish the question is whether there a specific pronunciation that dominant in english if not it best not to include any english transcription or pronunciation audio file',\n",
              " 'oh sorry actually found it on an other page but forgot it anyway it wa actually note for myself wa going to rewrite the text suppose it slipped out of my mind',\n",
              " 'june please do not vandalize page a you did with this edit to bugatti veyron if you continue to do so you will be blocked from editing talk',\n",
              " 'terri schiavo a rorschach test now perhaps you see that utility of terri schiavo is a rorschach test you dangle that pretty slender alive and aware young face in front of the power player on both the left and the right and you see how they respond if they respond inappropriately then you make note it a if they were just some rat in your laboratory that is what make wikiepda so powerful and it is all true and npov notable and fair',\n",
              " 'ok stop being lame seriously go watch pokemon',\n",
              " 'past master v rarity m creating chart for my own use that includes s album since there are so many difference in the early album a u fan m faced with the issue of whether to have s album k album or both on my ipod will post my chart on my talk page so that others can judge whether it worthy of including here realize there will be problem including the lack of canadian album my purpose is simply to record the first album appearance in both the k and s of each song notice that number of k song are listed a past master when they actually first appeared on rarity the beatles album don know the reason for this if the purpose is to list the first appearance on an album can someone explain or should they be changed to rarity',\n",
              " 'simpson movie poster did you create the simpson movie poster image or did you source it from somewhere else',\n",
              " 'help hey can you help me with something uploaded this image to wikipedia http en wikipedia org wiki file stikky_cemetary_san_jose_1987 jpg contacted the photographer and he gave me permission to use it on wikipedia so wa wondering what the proper licensing would be thanks in advance',\n",
              " 'look good it would be nice to see the county but it is lot better than the current one good job',\n",
              " 'the debunkers pretending that they re objective sceptic besides proving their lack of knowledge and lack of integrity on the various astrology page have also been personally attacking me on my own talk page when dare try to defend myself they block me out of wikipedia so much for honest dialogue they can win an argument fairly so they resort to dirty trick',\n",
              " 'reviewing block you said d also like to ask you that in future for the sake of fairness and due process that you do not decline the unblock request of user you block yourself unless the request is pure nonsense or abusive from an ethical review of block are meant to be carried out by 3rd party will do thought it wa pretty clear in this case given the editor user page gnaa etc etc etc that the unblock request wa pure nonsense also wa under the impression that the unblock request would still be visible and reviewed by other admins ll be more careful in the future',\n",
              " 'regarding edits made during december 2006 utc to kanpur please do not add inappropriate external link to wikipedia wikipedia is not mere directory of link nor should it be used for advertising or promotion inappropriate link include but are not limited to link to personal web site link to web site with which you are affiliated and link that exist to attract visitor to web site or promote product see the external link guideline and spam policy for further explanation of link that are considered appropriate if you feel the link should be added to the article then please discus it on the article talk page rather than re adding it see the welcome page to learn more about wikipedia thank you talk',\n",
              " 'come on wa this really necessary understand where your coming from but you sound like whiney bitch when you have website that anyone can edit this sort of stuff come with the territory and did you really expect anyone other then the or people who troll wp pw to read your comment on talk royal rumble or this talk page for that matter m confident most active member of wp pw have added wrestlemania xxiv to their watch list so when and if something not to their liking is added it will be removed simple a that and if you re through with putting up with people not reading talk page quit endless dan',\n",
              " 'do not see any anti semitism here if the guy give lecture in new york synagogue and knock down his country every single minute using every opportunity in such influential newspaper a new york post then one can state that his interest are not only personal you can not find any intellectual person among neoconservative in new york post michelle malkin andrea peyser deborah orin may her rest in peace although know she is rotting in hell and other essayist are the one who make great company for amir taheri this guy ha no mind at all agree that iran regime is wrong but the regime of shah that amir taheri is longing for because he owned keyhan during that regime wa not any better and islamic revolution wa justified look at how they intriduce amir taheri in both this article and in new york post based in europe memeber of benador associate is europe that small is that small town why don they say based in the world journalist or may be he is having breakfast in london with christian amanpour and james rubin eating lunch in jerusalem and having some lecture and dinner with anti irani jew in forest hill new york in between emailing his full of hatred article to new york post isn this stupid how can you saysomebody is based in europe or asia or africa',\n",
              " 'why confusion and controversy in the real world doe not preclude the writing of good wikipedia on the topic ackoz suggests that because the real world ha not yet hashed out the truth about the expulsion it is therefore impossible for u to know the truth and thus impossible for u to write about it reject such stance think it is difficult but quite possible to write quality wikipedia article about topic that is murky and or controversial where many wikipedia editor get it wrong is that they believe wikipedia job is to report the truth this is wrong wikipedia job is not to report the truth precisely because it is difficult to determine what the truth is any attempt to do that is original research instead of truth wikipedia aim for verifiability put different way wikipedia is committed to recording the state of human knowledge and opinion not our opinion but those of reliable source if the truth is clear and uncontroversial it is easy for u to report that if the truth is murky and controversial it is more challenging but possible for u to report on what different reliable source assert and think about topic even if these reliable source conflict where wikipedia editor get into trouble is when they start siding with one side of controversy and asserting that the side that they have selected represents the truth and not just one perspective or pov on the topic at hand have been trying to hit this npov sweet spot but it is difficult to do so in the midst of running polemical debate between the two side obviously is because some user jadger and wikiferdi don want to discus in fact they want u to agree with their pov that not discussion about the npov edits that why quit from the discussion about the form of the article talk',\n",
              " 'i did not intend to be disruptive wa genuineley upset by the word constantly only tried to make it look like an april fool joke after you explanation made me look like an uptight weirdo',\n",
              " 'regarding loyalmoonie and lgbt category looked into it and this editor seems to be pushing an anti lgbt agenda they ve done similar stuff over at sailor moon and made official looking warning to other editor this quote is bizarre and is quite telling to insert those category would ultimately give other people who may not even support the lgbt movement reading the article the assumption that every person who doe enjoy sailor moon is homosexual and or support ssm don personally watch read sailor moon or know much about it so m not confident enough to re add the category but the reasoning for their removal is flawed regardless and there is sourced part in the article about female homosexuality talk',\n",
              " 'matt when mattsanchez info go live on monday among other thing you ll see an invitation to be interviewed this time you ll have nowhere to hide let see who a victim and who a coward',\n",
              " 'okay found document that demonstrates the scimd listing by the who on the who site now there should be no trouble with including the above text',\n",
              " 'valerie poxleitner valeri poxleitner k light if',\n",
              " 'shamash is sun agree to merge sammash in to shamash since shamash is more likely to be correct tracking the root of the word clearly it is of assyrian origin in addition it is common vocabulary morph to substitute sh to and thus nowadays it is spelled a sham in modern arabic',\n",
              " 'i feel like m out of idea for now so maybe some other user will come up with thing that address both our concern talk contribs',\n",
              " 'october utc the original nominator and have been trying to restore the article but others have been saying it wa found to be merged by you so it ha to stand with the original nominator for deletion working to keep the article and admitting he wa mistaken in nominating the article of noteworthy character can we restore it now if someone want to make legitimate nomination for deletion that fine 43',\n",
              " 'what chart are you looking at don see anything portraying that timing user talk spinningspark spark',\n",
              " 'agreed although it mean bloating the alternative title by yet another word wa concentrating on the polish attitude here a it clearly provides the starting point for the article at hand obviously if the article is to be written from supra national perspective at least the czech experience need to be included czechoslovakia being the only functioning democracy in the region by the 1930s had closer tie with the west than poland did and wa betrayed in much more obvious and tangible way than poland wa the west politically accepted the country territorial mutilation which wa not the case with poland that said am not sure if the inclusion of country such a finland the baltic yugoslavia or even ukraine which had never been independent in the first place is good idea while the west could have arguably done more to assist any of these society before and after the war think that the article focus should be on poland and czechoslovakia in order not do dilute the whole issue after all there were dissident in germany and the soviet union too who were harbouring grudge towards western politician because of their appeasement policy 06 oct utc',\n",
              " 'hello setanta can ask you what you think of the proposal first put forward by matt lewis in july at template talk country data northern ireland confess am no expert on ireland but believe this could solve the problem of ireland having no flag to represent it on wiki have made comment at that article cheer',\n",
              " 'american psychologist a additional resource did not see listed in the reference any citation of the american psychologist article in january some of which discus this subject',\n",
              " 'regarding the verifiability mediation you will appreciate that due to recent event user talk newbyguesses february that am jn pickle is it just me or is it you too don know what to do how can we go forward what is to become of me and all my belief and need who is there who care to take in to account my position is there no accounting for our difference and each of u what it is that you see that we stand for in the highest degree a individual really individual a we all are individually in our own way a real people different but the same but definitely an individual just like every body else belief they are despite all evidence to the contrary comment on content not on contributor or did just dream that either way or whatever just don scare the horse or wake the kiddy comfortably snoozing you know it make sense to me cause say so irrefutably talk',\n",
              " 'you have no authority to be threatning to block me about saying information about company work for you do not even know anything about airliner bello that is all basically said if that wa so hard to comprehend',\n",
              " 'the real problem is the sneering and contemptuous attitude that you reveal in your first sentence in the last post it wa originally followed by others in similar vein which you have deleted yes can cut and paste quotation can also select appropriate one in this case one which you would do well to consider will return to this when have time probably this weekend',\n",
              " 'he doe appear to be bit of fantasist to be fair he ha carved nice little career for himself and more fool the mug that buy his book and believe what he say but like many people contributing to this page come from that background and whenever his name is mentioned the response is always dave who no one had ever heard of him at all until the book started coming out',\n",
              " 'dar ok bear with me penelopism is religion it a new religion but it is religion penelopism is extrememly important to penelopists we want the word about u out there people are not too fond of our belief we just want way to show them that we mean no harm now you have the spaghetti monster church in here that is not even real religion penelopism is so please tell me what the spaghetti monster ha done that penelopism hasn what can we do so that penelopism can be on wikipedia because am having trouble understanding and apologize for the dar dar dar however much fun it wa shouldn have done it whatsit',\n",
              " 'i intended this to go the page',\n",
              " 'dxraw come out come out where ever you are how odd that dxraw go away and then in the follwing article extradry appears in the editing list aussie aussie aussie oi oi oi free hug campaign newington college australian army cadet john cena so you really are that cheer loving free hugging newington teacher and cadet master who ha the hots for john cena with his shirt off it time you came out dxraw',\n",
              " 'this accusation is uncalled for have only reverted one edit my second edit wa to add the reference not revert',\n",
              " 'do not help the jew schnider final warning',\n",
              " 'kudos for destroying article copyright superstar you really deserve nobel prize for copyright',\n",
              " 'welcome hello and welcome to wikipedia we appreciate encyclopedic contribution but some of your recent contribution seem to be advertising or for promotional purpose wikipedia doe not allow advertising for more information on this see policy on neutral point of view guideline on spam guideline on external link guideline on conflict of interest if you still have question there is new contributor help page or you can write helpme below this message along with question and someone will be along to answer it shortly you may also find the following page useful for general introduction to wikipedia the five pillar of wikipedia how to edit page help page tutorial how to write great article manual of style hope you enjoy editing wikipedia please sign your name on talk page using four tilde this will automatically produce your name and the date feel free to write note on the bottom of if you want to get in touch with me again welcome',\n",
              " 'the spelling tacarimba la tumba del fuego santa maliga sacategas lo onto del sol cruz is the one stated in the lyric in the vocal score of side by side by sondheim available for rental only this version of the song however misspells llanfair pg presumably to approximate the pronunciation and ha the lyric today the last ll be spreading rather than spending it would seem therefore that this source cannot be considered canonical this rendering of the place name doe accord with millicent martin recording on the side by side by sondheim cast album however the published version of the song a contained in the hansen treasury of stephen sondheim song charles hansen music book ha the lyric printed a tacarembo la tumbe del fuego santa malipas zacatecas la junta del sol cruz and being printed source a opposed to handwritten a is the vocal score can presumably be considered definitive linda lavin pronunciation on the original cast recording of the mad show for which the song wa written follows this spelling which would suggest that the printed version is correct a it is fictional place name however any discussion of correct spelling pronunciation is an academic one at best',\n",
              " 'don peddle your crap please hate to see another article get disputed for neutrality due to you',\n",
              " 'howd homeonttherange your typical problem is that you are being too literal the term personal union is very special and limited constitutional term it refers to two or more state e country that recognise the same monarch a there head of state however their is no union of their parliament some example are the union of kalmar it member were the kingdom of denmark norway and sweden this gave rise to the termunited scandinavia in believe sweden left the union the resulting left over union of denmark norway wa dissolved in a being allied with napolean tunrned out badly',\n",
              " 'i think this one should dayz mod the other one should be dayz video game and dayz should be just disambiguation page',\n",
              " 'by those pushing an anti mrm pov',\n",
              " 'you really are rebel guy rebelguys time to get oral from prostitute',\n",
              " 'fine smarty pant but just wait until they finally announce it then you ll see am right and that you don know everything',\n",
              " 'amber taylor forever amber taylor forever',\n",
              " 'kosovo template hi again can you please take look at this template shouldn albanian language be mentioned first since of the population are albanian changed this but some serb nationalist keep reverting my edit hope am not disturbing you but you are one of few here consider to be quiet neutral',\n",
              " 'of course true dub will say depaaarted or more likely in gone',\n",
              " 'i think it is little disingenuous of zet to claim that division which had lost most of it fighting troop wa far from destroyed when it fighting capacity wa close to nil',\n",
              " 'muslim men harassment of mm page it is amazing how three muslim men jumped all over this page right after added number of thing minute after all three men all muslim and cleaned it up doe woman working for human right in pakistan really get under your skin so badly wow so sweetie if you are so bloody busy why not get busy and stop harassing the woman are you that threatened',\n",
              " 'width style background transparent width style background color style width border 1px solid background color vertical align top hello madstar890 and welcome to wikipedia please remember to sign your name on talk page by clicking or using four tilde this will automatically produce your username and the date also please do your best to always fill in the edit summary field below are some useful link to facilitate your involvement happy editing αἰτίας discussion width style background color style width border background color vertical align top getting started introduction the five pillar of wikipedia how to edit page finding your way around table of content department directory editing article how to develop an article manual of style style width border background color vertical align top width cellpadding style vertical align top background color getting help style color frequently asked question cheatsheet where to ask question help page new contributor help page',\n",
              " 'august utc hey look like your rehab program didn take and now socafan been community banned your approach worked out real well didn it talk 04',\n",
              " 'pkk fighter who the past decade entering and living syria for their fight in turkish territory have no match in guerilla war specialized to this against the turkish regime rebel and the army are far behind in ability and training to match the pkk fighter',\n",
              " 'omd thl h17 depeche mode abc are all not new romantic never have been don self identify a romantic fan don consider them romantic yet individual insists on keeping listing them on this page fan of the band will just keep removing them because it is simply wrong stick to visage and other blitz band or this article will be in perpetual edit war 132 211',\n",
              " 'tried to be productive look at my contribution but hit my head against wall of spoiled greek child or probably under pay from greek government that purposely keep vandalizing the albania related page and keep iritating the albanian editor until they explode and get banned a historian blush with what find quoted a reliable information on the wikipedia page and the quality of the editor and source time to move to the french page lot of reader there still more language to go till next time wikipedia suck',\n",
              " 'ricky gardiner woody my man thanks for your quick action and addition re this article just stub created yonks ago to get rid of red link on bowie pop article what is it that draw people like u to defence and rock think nick is member of the military and music project a well then again the riff for lust for life came from bowie interpretation of an armed force radio theme cheer',\n",
              " 'triple crown just about cleared ok got out the broom and dusted off some stuff cheer talk contribs',\n",
              " 'if you agree with master bigode then what about rule for 400 image and what about the back side image that wa erased without consensus he never discussed the back image he erased it out of the blue what if went on your user homepage wolftengu and said that picture on your homepage is too big be within guideline and removed it placed it somewhere else and also removed another image would agree with someone doing that to your homepage or would you be outraged however wolftengu you seem to be playing unfair cop here by notifiying 2over0 a if discussion wrong what is your point do you own dx or if not what is your involvement to disallow 400 or any other 400 image and even any other image of dx in smaller form',\n",
              " 'a rollbacker that is particularly problematic you should be aware that editor who edit war may lose the privilege regardless of the mean used to edit war',\n",
              " 'what about non american school mosque synagogue etc etc wikipedia is so america centric',\n",
              " 'thanks for fixing this',\n",
              " 'no not really we may ask that the mention of fat being the fire source of the cremation of million be reconsidered though along with few other item the fat cremation wiki fact is citable www hdot emory no le lipstadt but doubtful if the same science wa applied to the holocaust a say the tinfoilers or flat earthers the denier would be overjoyed be careful a to who get the nutty fringe tinfoil label in the end you get the permit and we ll bring the shovel 105 141',\n",
              " 'celebrity talk about your fave celebs and even your crush',\n",
              " 'you know wa thinking nobody really attacked me before revealed my age here after announced that wa wa subject to constant storm of harassment and abuse the same thing go for when wa on the sandbox when wa before people knew my age they didn care after told them my age they hated me it just so amusing how the idiot soapboxers think of teenager a being responsible for the decline of the soapbox like it wa ever any good to begin with this is funny because the adult are the dumbest people here mauricio chuppah redneckgirl pinky scooby gg foreverlosttinkerbell greenrabbit starrocketsinflight bree robinson enigma cocainenightmares tokyodome chad_ocho cinco steve lake all adult the teenage poster here are typically the smartest one let see dawg head_banging_brunette classicage metropolis even though he a bipolar weirdo chrisscript just to name few all ever see adult posting is rate my poo my ballz smell funny whoz hawter me or ur mom like to rape little girl and hey guyz look at me im an attention whore 1 the adult poster here are immature moronic savage bully with the mental capacity of retarded year old whereas most of the teenager here are thoughtful intelligent mature and often profound but they re subject to constant schoolyard bullying by the idiot adult poster who think they re somehow superior because they were born and dropped on their head earlier soapbox logic never fails to amuse me',\n",
              " 'tm how astute remember civility is the key that verbal licking you gave me really failed to break the skin maybe just maybe we can get along how about that',\n",
              " 'sofia added am from sofia bulgaria our city ha also joined this initative so included it',\n",
              " 'would you mind focusing on content rather then contributer',\n",
              " 'decline bit too close for comfort that one try to avoid the company name altogether we get bit edgy about account that appear to represent organisation',\n",
              " 'weatherman and better writing lot of the change you ve made recently to the weatherman page are notably more awkward for no apparent reason m not particularly concerned about the change in some adjective surrounding how some organization and event are characterized but at the same time you rearranged sentence to read quite poorly plus you seem to get really carried away with wikilinking do reader really need link to know what bomb is',\n",
              " 'non lead shouldn the title of the page be supporting or minor instead of non lead',\n",
              " 'i agree with leontes though began attempting compromise last night considering no one else wa backing me up on this in the interest of building consensus however will note that political descriptor in the absence of reliable third party source are inappropriate in this article will also note again that some commenters here appear to be confusing the electoral vote website with the electoral vote author this wikipedia article is about the website not the author who ha an article of his own',\n",
              " 'dispatch review added some comment here think it is wonderful dispatch very clear we ve needed something like this for long time',\n",
              " 'vote for christ pantocrator though it could be nice with wider crop',\n",
              " 'here an idea go fuck yourself cumshitter',\n",
              " 'your assistance please the record show you deleted file hmcs fennel k194 jpg the entry you left in the deletion log said listed on wp pui more than day strongly suspect that this wa free image crown copyright canada protects image for their first year ww2 ended year ago so if this wa crown copyright image it would be free image d like to request userification of the information template and other information associated with this image to review for possible clarification of whatever problem got it listed at wp pui in the first place could you please userify it to',\n",
              " 'listas manos family',\n",
              " 'so despite your equivocation you are still wrong people do remove vile vicious hate speech whilst remaining on the right side of policy you made very clear statement about wikipedia policy and proved you were wrong and you denied my unblock request a result of your misinformation know expecting an apology from wikipedia administrator is waste of time but in future stay away from me okay prefer to deal with admins who do know the rule',\n",
              " 'speedy deletion of phi rho eta tag ha been placed on phi rho eta requesting that it be speedily deleted from wikipedia this ha been done under section g12 of the criterion for speedy deletion because the article appears to be blatant copyright infringement for legal reason we cannot accept copyrighted text or image borrowed from other web site or printed material and a consequence your addition will most likely be deleted you may use external website a source of information but not a source of sentence this part is crucial say it in your own word if the external website belongs to you and you want to allow wikipedia to use the text which mean allowing other people to modify it then you must include on the external site the statement name am the author of this article article name and release it content under the term of the gnu free documentation license version 2 and later you might want to look at wikipedia policy and guideline for more detail or ask question here if you think that this notice wa placed here in error you may contest the deletion by adding to the top of the article just below the existing speedy deletion or db tag coupled with adding note on the article talk page explaining your position but be aware that once tagged for speedy deletion if the article meet the criterion it may be deleted without delay please do not remove the speedy deletion tag yourself but don hesitate to add information to the article that would would render it more in conformance with wikipedia policy and guideline',\n",
              " 'will my motherfucking safety be guaranteed fucking hope so m bringing my own fuckin weapon pay me when get back motherfucker oh yeah ve got joke family husband wife son daughter dog walk into an agent office and tell him that they ve got great vaudeville routine he say we don hire kiddy act and they say but we re really good and so the agent say fine let me see what you ve got but if you suck m throwing you out so the family get ready the daughter hit the cd player and circus music begin playing the father jump kick the son in the head and stoms his face in the ground until it a bloody pulp then proceeds to jerk off and cum all over his shattered skull meanwhile the mother begin violently finger fucking the daughter a the dog fuck the mother in the as hole this is the point when the father take the leftover brain matter from the son head and shove it into the mother pussy then begin fucking her pussy while simultaneously sticking his finger down the daughter throat until she vomit all over them both then the dog bite the mother hand off a she finger fucking the daughter leaving her hand in the daughter pussy a blood squirt all over the place the father take blood from the ground smear it all over the mother chest bend over and begin shitting all over the open wound where her hand used to be before the dog bit it off they take the dog and shove it in microwave heating it up until it explodes then take the dog remains mix it with the father shit the son head wound and the father cum and shove it into the daughter mouth then the father rip the son dick off and fuck the daughter with it a the mother locate the son testicle break them open and drink the sperm that come out then the family line up and say ta da there silence from the agent until he finally say love it what do you call that and the family say we call it the aristocrat',\n",
              " 'requested move canada national football team disambiguation there i recently moved the american football team which used to carry the moniker canada national football team to canada national american football team and consider this move request if successful to be vindication of that move b',\n",
              " 'think clockback that your suggested reference to ainsworth involvement in the img is too long and that something along the line of brief flirtation would be better think that the img reference need to be short somewhere in the early career section posted after the article ha been expanded little otherwise the article might appear weighty think the last point is important a it seemed to be consensus reached by number of wikipedia editor after much wrangling and gnashing of teeth but bedside this brief dalliance with marxism in an overall consideration of his political career pale into insignificance compared to his being controversially thrust a third choice candidate into the position of defence secretary at time of crisis for the british army in term of the number of casualty being sustained and lack of resource this is simply not reflected at all in the ainsworth article tried reflecting it a follows his appointment formed part of chaotic cabinet reshuffle by the prime minister who considered at least three other candidate before appointing ainsworth but this wa dismissed a speculative opinion by off2riorob above even though from my point of view it is easily the most significant event in ainsworth biography perhaps we can reach consensus that if better reference can be found which suspect should not be difficult that it can be re included want to stress that this is again not meant to be an ad hominem slight against ainsworth but merely drawing attention to the fact that his appointment wa the equivalent of throwing someone in at the deep end and indeed he ha had very difficult time of it since his appointment actually it reflects worse on brown and the farcical reshuffle',\n",
              " 'greek love m looking for way to extricate myself honorably from this mess m leaving note here because you closed this afd where made commitment to do a you instructed in the closing statement there are two editor who have long sought to delete or eviscerate the article one of whom ha used series of user name unacknowledged on his current user page but available so at first glance it may appear on the talk page there are more than two editor in the suppress camp complain here about their coordination other editor including and simply can do it any longer haven changed my position on the validity of the article but ve been accused on various talk page and never the appropriate notice board of edit warring ownership disruption and even pedophilia by implication all for trying to carry out what the community decided m done need to limit my time on wikipedia at present and wish for that time to be spent pleasantly and productively when ve made commitment though it grief me not to keep it m not asking you to do anything m just explaining why can keep my word a given at the afd wow that is mess certainly no hard feeling on my end it is clear you endeavored in good faith to improve the article have found that knowing when to walk away is an essential skill not only here but in the real world sometimes your presence despite your best intention is harmful rather than helpful and sometimes dispute just isn worth it anymore best of luck in your future endeavor here mailchimp m not that bothered but think that the mailchimp speedy deletion wa mistake it did cite that it wa one of the more important email marketing program so it wa stating the importance something that wa supposed to be the original problem the criterion specifies credible claim of significance wordpress page are not reliable source however would certainly not object to it being restored a redirect a it wa for several momnths before today talkback talk just hunch call it my intuition but m guessing that his username is direct challenge to patrolling admin that you guy won block him based on the username itself but his contribution speaks volume of his nonsense louder my other hunch being he a returning editor than his username doe just my cent cheer there are plenty of legitimate reason to be returning editor the username is not blatant violation of the policy if you have any evidence of socking file at wp spi recreation of article shay carl would like to request that the article shay carl be recreated see the deleted talk shay carl for my reason note talk shay carl wa delete because of a1 not notibility well there wa',\n",
              " 'where the defendant figure coming from nuremberg and vietnam an american tragedy by telford taylor s chief counsel at nuremberg mention',\n",
              " 'oh hey response that cool personally feel that having the fortitude to call out ttn on his obvious flaw should warrant few dozen barnstars but see where you re coming from if you insist on keeping the block would like to formally request the reason for this account blocking to be changed to reflect the real reason instead of being noted a common vandal maybe reason along the line of being pain in the as like that one guy on nakon talk page stated on that subject maybe he should be blocked too after all he did use cuss word and that technically worse than anything ve ever said',\n",
              " 'no you have the right to express an opinion that you consider it to be hasbara or crap or both you do not have the right to identify it a hasbara crap or both',\n",
              " 'ga review this review is transcluded from talk battle of rowton heath ga1 the edit link for this section can be used to add comment to the review reviewer yes ll take look over the next few day and then start to make some comment yes',\n",
              " 'for evidence please make sure you make yourself familiar with note for the suspect before editing the evidence page',\n",
              " 'afd please see wikipedia article for deletion revelation guideline for notability are outlined generally at wp and specifically for song at wp nsong thank you',\n",
              " 'organization class start importance low maindykdate need infobox yes need image yes attention wikiproject',\n",
              " 'action in la la land have real world consequence 67 50',\n",
              " 'dean wormer work for the racist in jena la will continue to update the posting for jena la to reflect the fact that thier famous person of note wa segregationist democrat which is in fact historically accurate description',\n",
              " 'woopsies oh thank you soooo much didn know promise that ll never ever do it again ok',\n",
              " 'for everyone info particularly admins believe the latest sock puppet for igor is just head up',\n",
              " 'why are you giving me warning before someone mark this a vandalism want you to at least read this why is this vandalism don understand am new to wikipedia and am trying to figure it out please do not mark this a vandalism m am not doing anything wrong just need answer from somebody please help',\n",
              " 'gift card for downloads re a of december 2007 it is not possible to use gift card to purchase mp3s even though the gift card faq claim yes amazon com gift card can be used to buy amazon mp3 and unbox downloads strictly speaking this is false statement a were able to pay for order with gift card at that time one person already removed that line but it wa reverted is there good way to go about providing verification',\n",
              " 'i thinking about deleting war on terror operation enduring freedom horn of africa and operation enduring freedom phillipines because they are redundant d like for people vote on it',\n",
              " 'no it not useful information about the topic and it a good idea only screenshot is allowed per game at most if they really relay something',\n",
              " 'my experience came up on the talk page but once understood wikipedia didn post anything on the article related to my personal experience that wa like the 2nd day almost two month ago all of my reference are verifiable there nothing in the article about my law suit or my being put in jail for engaging in pro se litigation didn put my experience in the judge edward nottingham article either although he wa my judge went out of my way to search for reference expressing all the various side of the issue for instance wrote to the aba and asked for their input and in fact asked them to work on the article also posted about issue involved with mediation and settlement with pro s citing reference from lawyer point of view those reference were deleted by someone can remember who and don know why at this point the only reference that posted that is soft at all is blog quoting transcript quoting former federal judge and know for sure that is valid transcript the guy who run the blog is 3rd year law student and ha business selling data service exclusively to lawyer even the stuff that wa deleted about pro se frustration had reference for read in the wikipedia discussion of source that blog can be used in some context don believe that did any original research all did is search the internet for reference for the article really didn know about unbundled attorney service or the amount of pro se litigation before started working on this article had already been thinking about form based filing but started thinking about that anyway because of my experience with ecf which date back to also when wa younger worked a system analyst did get the info on the law and liberty of ma year ago but wikipedia already had an article on that and it probably would have come up anyway same a the n covenantcan really hide that didn add and together to prove point at least not consciously like today wa reviewing appellate procedure and it seemed that the 5th circuit had more pro se friendly tone which think is because of judge learned hand who wa in the fifth circuit and the only reason know about that is that one time went in every federal circuit and searched on the word pro se in the 40 because wa trying to see if there wa history of putting pro s in jail for being pro se no there wa not what found in the 40 wa that some circuit denied all the pro se appeal without even saying why but judge learned hand seemed pro se friendly believe that your posting thing about pro se litigant getting an unfair advantage is soap boxing do understand your wanting to win thru competition though and about law a business ve been an entrepreneur didn know about the federal judicial center until started working on this article that book on appellate procedure found looking for reference for this article the manual on complex litigation found looking for reference for this article arguing with you help me to clarify the issue for myself one thing started thinking about lot in the past few week is slavery and how that affected the history of pro se litigation ordered the book slave nation at the library but haven got it yet but now when look at pro se law in the different state think free state slave state border state also there were issue related to indian in some of the western state the labor union movement had lot to do with it too think so did the history of workman comp which is of course related to union',\n",
              " 'try passing illegaly the border from usa to mexico you ll end in prison too but the re no communist there',\n",
              " 'unsourced personal commentary new account ha re added this it look like unsourced personal commentary',\n",
              " 'your comment is indented a if it is response to mine but am not the one who removed the discussion',\n",
              " 'when looked at the cato edit it wa simply removal of the reference the addition of another donor and change in the language without an edit summary to explain the change were unjustified your clarification certainly help thanks also for adding the reference on summer frankly did not look at the source removed or added my main concern wa the unexplained edits summary are important and then saw that the message about these same concern from while back so my message is more of reminder most importantly you are incorrect if you think it is not against the rule to add unsourced material one of the core content policy is wp and wp r allows u to carry out that policy happy editing',\n",
              " 'we all know that just about everyone here watch the update there reason they aren listed complaint',\n",
              " 've been though the article it simply untrue that only men are consistently referred to jew but womabn and child are not many passage refer generally to jew clearly meaning men woman and child only one sentence corresponds to your criticism the screening of the population however resulted in jew jewish woman and jewish child of which jew and jewish woman were shot in co operation with the security service this particular sentence should be rewritten ll just do it but the sentence itself is grammatically confusing so whoever wrote it may wish to check that understood it correctly',\n",
              " 'hello long time no shart',\n",
              " 'other bush article not referenced in george bush none of the following article is mentioned in the george bush and perhaps should be bush brain how karl rove made george bush presidential domestic policy of the george bush administration early life of george bush economic policy of the george bush administration electoral history of george bush fictionalized portrayal of george bush foreign policy of the george bush administration george bush and the iraq war george bush a governor of texas george bush cabinet george bush presidential campaign george bush presidential campaign george bush presidential library george bush pretzel incident george bush substance abuse controversy george bush supreme court candidate george bush first term a president of the united state george bush second term a president of the united state list of book and film about george bush list of george bush legislation and program list of nickname used by george bush list of people pardoned by george bush mahmoud ahmadinejad letter to george bush movement to impeach george bush presidency of george bush professional life of george bush public perception of george bush religious faith of george bush the lie of george bush mastering the politics of deception',\n",
              " 'a third term is significant simply because it is rare the electorate and party often on behalf of the former are disillusioned with the party leader by this time thus they kick him her out read about margaret thatcher',\n",
              " 'some baklava for you gift in the hope that you reconsider my indefinete block traditional food from the middle east made best in afghanistan metalman59',\n",
              " 'referring to her a catherine wa told in no uncertain term that could not refer to anyone living or dead by their 1st name on wp if female had title she had to be referred to a that throughout her article ie lady amy or lady dudley for amy robsart even though lady amy wa wrong before she wa married a she wa the daughter of knight had no title wrong after northumberland wa attainted all his child lost their style a offspring of an earl duke she did not become lady dudley until elizabeth knighted robert dudley near the end of amy life nor wa she then lady amy dudley a legally she wa no longer the wife of the son of an earl duke thought it wa simpler to refer to her a just amy throughout rather than explain the change that occurred with her name style but wa told it wa against wp rule though wasn pointed to link for it noblewoman are usually called by their 1st name round here a far a can see even when they have surname are not of something mary boleyn is called mary not lady carey or lady stafford catherine neville is called catherine not the duchess of norfolk etc they re not royal a for male wa told they had to be referred to by their title ie leicester or last name ie dudley wa banging head on keyboard going but no one just say the king all the time or refers to them a plantagenet or keep changing their title ie henry of bolingbroke going from earl of derby to duke of hereford to duke of lancaster to king of england so how doe kate get to be consistently referred to a catherine throughout the article without her title appended ve only been here few month would appreciate it if someone could actually explain this to me a my main interest is british history am quite confused',\n",
              " 'mevins31 say will be changing your elegant profile shot of bruce to better picture a soon a upload it appreciate ordinary jay bruce fan but am jay biggest fan thanks for your attention think jay would agree that picture on wikipedia ha little to do with furthering his career but nice try',\n",
              " 'they are all cunt it not worth editing article here concerning any serious issue all side consist of either people employed to edit or people with very strong opinion that will never ever change they advocate their stance a something that is interesting to them instead of using the encyclopedia a book of knowledge and contributing what they are sure to know soon with the centralization of the net into larger and larger site independent information in general will be extinguished wikipedia project that started by nerd and professional within their set field will become the altar of knowledge where depth and true insight is sacrificed for becoming the sound magnifier of yellow press and popular science the new tool that is intended to auto translate article from one wikipedia to an other will extinguish the few national wikipedias that through their niche provide those of multilingual capacity an ability to cross check fact through other perspective with few small independent site left with no or few free university page left real knowledge will be the privilege of the few that know how to use academic search engine and have the money to pay for them 68 173',\n",
              " 'i ve said once say it again if you don like thugstep that you bizness if you think that quite range of refenreces to web page stay it non notable you are welcome to tell it to admin for it to be deleted 209 33',\n",
              " 'although it doesn extend to the modern era you might want to look at ancient higher learning institution to see how it relates to chinese higher learning institution',\n",
              " 'do not harass other editor with no basis you have posted baseless warning threat on my user page do not post any more thing on my page otherwise will complain to the administrator or even jim wale if have to',\n",
              " 'the comma is not the correct title for the first series yes minister without the comma believe it wa only yes prime minister that ever had the comma unless there are objection will be moving the page',\n",
              " 'excellent and please don damage your book on our account for sure it is an interesting question where wa the camera that a fair question to jump to the conclusion that it wa impossible is ludicrous but that typical for the moonbats the picture is useful for another reason a it show similar relative position of the lem and the antenna for this apollo flight a on that web page that argues about those object in apollo in both case the antenna is at degree angle away from the lem and both the near photo and the distant photo on that website are consistent with each other despite the website claim to the contrary the moonbats isolate on specific item a their evidence but the more one see the broader picture the more their phony argument get shown up',\n",
              " 'content subsumed into maneesh page same entry different spelling and redirect',\n",
              " 'ditto congrats and all the best to you',\n",
              " '07 is when that part of the video show it it say lot of small village have prostitution in karaoke joint and that this one had single orangutan in it it doesn say it common everywhere though',\n",
              " 'fuck you smith please have me notified when you die want to dance on your grave',\n",
              " 'i have seen your post now but replaced the pop punk reference which wa there again with rock few day before',\n",
              " 'please avoid using abusive edit summary a per wikipedia civility and wikipedia no personal attack thanks and happy editing please do not make personal attack on other people a you did at minneapolis minnesota wikipedia ha policy against personal attack in some case user who engage in personal attack may be blocked from editing by admins or banned by the arbitration committee comment on content not on other contributor or people please resolve dispute appropriately thank you',\n",
              " 'dect isn really new technology it a newer standard but tdm tdma fdma digital telephone have been used for lot longer than the life of dect dect is itself successor to ct2 japan ph is very similar and of course gsm amp and others have been extensively used across the world for decade and half to suggest there are special health issue with dect would most definitely be placing undue weight on the subject dect is considerably lower power than the analog system it replaces both during transmission and inherently because even when in use the td nature of the system mean the system isn transmitting continuously a believe ve said before there is nothing wrong with there being properly researched article about the health effect of low power radio technology and there being link in the see also section of this article to it that article of course should look nothing like the section yanked there is nothing about dect however that merit special section on dect danger especially when new technology or otherwise there is no serious level of concern being expressed by anyone authoritative on this issue',\n",
              " 'i shit on your face fuck you',\n",
              " 'you are so retarded',\n",
              " 'user using sockpuppets in this discussion note that user nightscream is soliciting sockpuppets of toure neblett to join this discussion http en wikipedia org wiki user_talk halaqah hi_halaqah this isn surprising considering nightscream slimy debating tactic and ad hominem smear it look like the reality is that there are _only_ one or two actual people opposed to teh inclusion of the last name and the rest are their sockpuppets though guess it demonstrates that nightscream is _not_ one of toure own sockpuppets fyi am not using user name in this simply to make it clear am not sockpuppet',\n",
              " 'thanks stephan my interpretation is that mr_nice_guy removed the content before discussing it on the talk page if he wa concerned about content reliability thought read that editor are supposed to bring it up in discussion first and reach consensus instead of deleting sourced material',\n",
              " 'which made up by fixing stem article',\n",
              " 'alex albrecht why have you removed my addition to the alex albrecht page they were totally relevant',\n",
              " 'in tank for bioelectrical impedance analysis etc fail to see how either of the two picture recently added improve the article in any way',\n",
              " 'the image have been missing for while a wikipedia wa down for about hour just hit rollback which among other thing restored the patrick stewart which then removed but didn see you had made other valid edits also linked harold wilson from prime minister to prime minister of the united kingdom the deletion wa done at 36 gmt by which time the server were up you should register then you could bypass these invalid message cheer talk',\n",
              " 'amazing thank you very much',\n",
              " 'groin you sad fuck m going to restore my edit and you are going to leave it or else wil knee you in the groin yourself prick 108 101',\n",
              " 'may your behavior on the talkpage of honor harrington ha been below par you do not know how to take defeat with grace and start behaving childishly let me warn you that your next childish edit will likely result in mention at wp ani or user review',\n",
              " 'video game for pete sake if see that false video game article one more time ll throw cat out of the window whoever you are stop it now it isn funny or clever you are just making moron out of yourself and bet that wa the same person who changed the test card date too',\n",
              " 'palmisano playing for iowa state in the 1970s is free pas think m pretty sure they were division then a far a list of coach go m not sure that an articleworthy list at that level of competition a opposed to it being folded into general malone college athletics article but wouldn file an afd over it it a compromise anyway seeing a you re digging into uncovering notability for those folk want full week for it',\n",
              " 'history kallikids wa created by karen bach in march',\n",
              " 'massacre note that kent state massacre redirects to this page and that other similar massacre in history wherein government force murdered civilian for protesting government policy are termed a such and such massacre there is no legitimate reason aside from sensitivity to extremist viewpoint in the united state to continue calling this article kent state shooting it should be changed to kent state massacre cheap acknowledgement in the lead paragraph is insufficient would appreciate discussion on this move and will initiate the move myself soon enough',\n",
              " 'july please stop if you continue to vandalize wikipedia you will be blocked from editing',\n",
              " 'notice of objection to proposed deletion in accordance with the rule on this hereby notify you of our my objection to your proposed deletion of the subject article office of the court administrator floro jr 69 6',\n",
              " 'barnes au 1',\n",
              " '7 may utc timysmidge',\n",
              " 'two thing it make no difference to the validity of edits if an editor is anon and going around reverting person edits en masse because you didn like one of them will yield time consuming problem for you 192 247',\n",
              " 'hi nice of everyone to listen well ive been here for about 9years have had afew problem but two have been the worst had mamogram 2years ago dec2012said to call my doctor emediatly needed other view an presedgures wa incounculsive we all no that not possable fir that cause it just like an xray havent been able to go have no way to get there plus have high blood pressure thets been running about the last time wa around 204over no thats very high the hospital xray tech seceritary said if didnt get to the doc to get referral a soon a possible that by the time did it would be to late to do any thing for me no it to late all want is to no how long have left have 3daughters one in opelousas la one in hawiyei one in walker la would like to see be fore die have partner want too spend a much of what have left with love my kid an partnermore than life it self im looking for some help to get to doctor dont have the money to do this have no income to speak of zero my partner and are seperated right now he is helping his father that ha cancer also he ha lawsute from getting hurt he just bought truck from his brouther an ha had to do alot of fixing on it also with the help of his dad let his neffews daughter drive it an hour ago cause she just hot her license an wrecked it comepletly now we dont have vihicile to help u everyone say god dont give anything you cant handle understand that but need some help doe any one out there that may be could help me with anything at all just thought id try to ask never have asked before to much pride but im running out of time please can so one help me my email is apriljohnson6868 gmail com or this site please need so help if anyone can god blesss everyone in there time of need hope someone may be able to help me thank you for lissen to me my age also is 43sept 1971',\n",
              " 'he like itin the as by muhamad ali and kelly ha giant penis and also fucked columbus',\n",
              " 'here are the diffs of his edits from that report talk',\n",
              " '15 aug utc',\n",
              " 'just shut up and stay shut don edit anymore',\n",
              " 'oh get life you prick 144 2',\n",
              " 'what else specifically do you want to know',\n",
              " 'rajput not rajasthanis right prof hancock study mention that the romani people are most closely related to the punjabi and rajput m pretty sure not rajasthanis he call proto romani rajputic the distinction is important if they are partly descended from rajput who were never really confined to any one part of india that would explain the linguistic variation within the indic word in romani for example why the use of instead of aa at the end of masculine noun adjective in romani this is certainly characteristic of gujarati and sindhi but is it characteristic of rajasthani language anyway if m wrong in making the last change made a of now ll be happy to revert it myself oh of course',\n",
              " 'if you would care to discus specifically what is bias incorrectly cited or irrelevant to this page will hear what you have to say until then seeing a the search term ndaa brings reader to this page will continue to include present information reguarding this budget bill this is the last time will repeat this abusing your power will yield you no ground',\n",
              " 'word of encouragement to user damemk in the case of dispute with the user engaged in bulgarian nationalistic propaganda damemk you have come to the same conclusion about bulgarian 19th century nationalistic propaganda on english wikipedia user laveol is one of the most prominent editor on wikipedia contributing false information in the article about republic of macedonia macedonian nation history language culture sport and what else not he is spending lot of time working on his cause pushing bulgarian nature in the article of the domain of republic of macedonia how far ha he gone in pushing this propaganda you can see at wikipedia wikiproject_romacedonia where he ha listed himself a member so just my few word of concern for the macedonian article in english wikipedia and the great damage done by user laveol and other user with the bulgarian and anti macedonian propaganda hopefully with the internet access becoming more affordable to the people in republic of macedonia the thing will go in right direction removing the bulgarian propaganda from macedonian article cleaning them of false fabricated information and giving the fact to the world and the view of the macedonian science and source don have much time now but hopefully will be able to find some more in the coming period am open to any collaboration effort for the above goal am expecting that this user laveol will continue with the bulgarian nationalistic propaganda and polluting the domain in the domain of republic of macedonia simply because he is able to and can find way to continue to work on his agenda ours is to try to remove these false claim and contribute the fact about the macedonia macedonian nation history lanugage culture sport damemk hope you write something here at least to show that user_talk damemk and user_talk ejanev is not the same user some insight into my user name ejanev the only user am using to contribute to wikipedia is ejanev it is composed of the first letter of my name emil and my last name janev user damemk is separate user probably that user name is comming from dame macedonian first name and mk or the code of republic of macedonia it doe happen that am from canada wa born in republic of macedonia and have lived there until moved to usa first and canada before more than year and yes having all the false information from the bulgarian nationalistic propaganda originating from the 19th century and having it into 21st century to be used to negate the macedonian nation and all it attribute by user a laveol is the reason of some of my editing action in wikipedia am not the only user editor from republic of macedonia or with macedonian origin that ha the same view for this bulgarian nationalistic propaganda that already is infiltrated in the macedonian article you can watch the contribution of special contribution laveol and see that more than of his action are engagement in negating the macedonian nation and it attribute',\n",
              " 'at bookfinder com found probabilistic reasoning in intelligent system network of plausible inference softcover isbn publisher morgan kaufmann pub bookfinder',\n",
              " 'just to clarify what m referring to in particular it is not neutral to state that aerith is incorrect talk',\n",
              " 'thank you for experimenting with wikipedia your test worked and it ha been reverted or removed please use the sandbox for any other test you may want to do take look at the welcome page to learn more about contributing to our encyclopedia talk contrb',\n",
              " 'the article sebastien larroudé ha been speedily deleted from wikipedia this wa done because the article seemed to be about person group of people band club company or web content but it did not indicate how or why the subject is notable that is why an article about that subject should be included in wikipedia under the criterion for speedy deletion article that do not assert notability may be deleted at any time if you can indicate why the subject is really notable you are free to re create the article making sure to cite any verifiable source please see the guideline for what is generally accepted a notable and for specific type of article you may want to check out our criterion for biography for web site for band or for company feel free to leave note on my talk page if you have any question about this talk to me',\n",
              " 'gba ve found out game boy advance version of this wa released there no mention of it in the article a we know the current acclaim doesn have right to this series information may be scarce',\n",
              " 'proposed move asheville civic center with the talk page hosting this discussion s cellular center asheville north carolina s cellular center s cellular center cedar rapid iowa both facility now have the same name talk contribution',\n",
              " 'no need to follow this policy taivo instead of just following the far more important policy of wp npov remain neutral there is an international dispute over this country name and fyrom is used by many organization worldwide why should wikipedia abandon it usage since it is extensively used to describe the state of skopje especially in article directly related to country that use the fyrom name to refer to it',\n",
              " 'the two big thing would be citation to verify that it wa serialized in the weekly one reliable site in english just say shonen jump but since you have the one that start serialization that can be used to note when it started serialization if they mention there that it continuation from the one shot story because can find any r japanese or english online that confirms that the other is horii reason for adding mini medal info on the anime about what it wa based on if it mentioned is all that is really needed for the main article but could really help the anime article itself 内jinnai',\n",
              " 'redirect talk colt lightning revolver',\n",
              " 'no nothing like that just wanted to clean out the clutter there were lot of bot comment welcome message for my old username and so on could have archived it suppose but didn think there wa anything on there that wa particularly worth saving for the age',\n",
              " 'why your article got jumped on hi m sorry to jump on your contribution the moment you put it in but the trouble is it is simply not the sort of thing wikipedia is for these link are all in one or other of the template notice above but to put them all in one place the reason your article is being nominated for deletion are wikipedia is not dictionary article on neologism need strong evidence that the term is widely used wikipedia is not for thing made up one day more advice on contribtuing in the link from the welcome paragraph above the list of bad article idea is worth looking at too regard',\n",
              " 'therefore wa reverting vandalism which is an exception to the three edit rule a mentioned on the edit warring page',\n",
              " 'user attacking me user baki66 keep reverting edits without consensus or giving reason he ha also performed ethnic mudslinging in my direction please help',\n",
              " 'not thracian pretty simple 000 year away',\n",
              " 'im flattered truly am ve been here couple of week and you consider me to be an established user please don talk about me behind my back like little school child',\n",
              " 'chicadee think the article name should be moved to chickadee',\n",
              " 'p are you b tard',\n",
              " 'ohhh m sorry did hurt your little feeling let all shed couple tear together lol what joke bet you feel pretty important pathetic little wikipedia volunteer have fun living in your mother basement drawing comic book lowlife',\n",
              " 'new image problem you again uploaded several image with dubious copyright claim you said they were from hindu newspaper and licensed under the gfdl what made you think the hindu publishes image under the gfdl if you simply invented that license in order to have way to upload the image here then please say so now so can quickly delete them if not expect you will provide proof within the next day showing where and how that newspaper placed the image under that license if you do neither you will be blocked',\n",
              " 'bunchofgrapes request you please cease revert warring bunchofgrapes respectfully ask you to please stop your instant reverts on my edits if you have problem with any of my edits then do so from knowledge but explaining what is wrong about the sourced material and edits rather than making blind statement designed to allow you to revert for no reason and again please cite your source you seem to not be able to cite anything that would back up your instant reverts and accusatory tone telling others that they are reverting when you have made several instant reverts with no explaination on the edit or added source please cease this and cite your source edit the material according to jimbo wale npov and make sure your source are verifiable before your reverts thanks',\n",
              " 'and what the problem with neo',\n",
              " 'wow big man here can take little criticism and is upset about his failure to become an admin so what doe he do look for the closest person to run to some admin on wikipedia well played dietlimecola hey if m blocked it ll be le time you ve been and for far better reason oh my god some girl wa looking at wikipedia for her paper and didn see the teacher so couldn tattle so took matter in to my own hand also couldn help notice how sad it is that you so quickly noticed my update do you just sit their at your computer waiting for an update please tell me you didn watchlist this page you did didn you all in all everything can be summed up with simple saying',\n",
              " 'glen is cool glen is such cool bloke and love being nice guy',\n",
              " 'parody not intentionally surely',\n",
              " 'pandur the name derives from pandur sumerian term for long necked lute source of our knowledge about this instrument is since the ancient greek mantineia marble 4th century bc now exhibited at national archaeological museum of athens depicting the mythical contest between apollo and marsyas where greek pandouris is being played by muse seated on rock national archaeological museum of athens book by latsis foundation lute have been present in ancient greece pandura the first appearance in greece they were also present in mesopotamia since the akkadian era or the third millennium bce',\n",
              " 'accept your comment in the spirit in which it is offered terminology matter and it can be hard to find the correct word it wa another editor who sought to distinguish civilised behaviour from that of indian my point wa that even if one accepts such distinction non indian have committed absurdly large atrocity in addition could have pointed to the mystic massacre a completely on point example of butchery that shocked our native population none the le both tribal mongol and tribal american indian had or have civilization by any reasonable definition',\n",
              " 'no dont agree my info will be saying up since you are in such hurry to edit the page why dont you fix the info that have you have sourced with broken link',\n",
              " 'i thought personal attack were welcome a long a you revert them yourself and thought restoring mentioning them wa ground for an indef block could our junior miss admin have missinformed me have arrived just in time',\n",
              " 'replacement please do not edit below this note the whole supra section will disappear again once am able to post on the article talk page this includes you shell had you not blocked me would have been able to place my answer there this will disappear tomorrow so you can put with it until then because shell falsely blocked me cannot save my reply on certain article talk page hence will save the entire page minus the archived section here pov concern im surprised this article isn being called anti semetic because it ha few trace of islamic perspective in it you know a opposed to being piece of zionist propaganda being passed off a fair and balanced this entire article is full of baseless jewish propaganda it is well documented the banu qurayza were executed for treason that is what merited them the death penalty that they commited treason the quarash and other tribe the muslim fought against were outright enemy who were persecuting them from the start but the qurayza signed peace treaty then broke it by aiding the enemy this article contains soo much jewish propaganda that you think they were executed for no reason which no doubt is their aim here is great example look at this citation according to stillman muhammad chose sa ibn mua dh so a not to pronounce the judgment himself after the precedent he had set with the banu qaynuqa and the banu nadir sa took the hint and condemned the adult male to death and the hapless woman and child to slavery furthermore stillman infers from abu lubaba gesture that muhammad had decided the fate of the qurayza even before their surrender this author is norman stillman zionist jew who is very biased why is he being used a quote in an islamic article and further more why is his baseless conjecture allowed to be used a if it a fact there are article for criticism of islam where the jew and others can write whatever they want but they should have no hand in editing islamic article because looked up the jewish article and noticed they dont allow dissent there you cant put muslim perspective on evil act commited by jew without it disappearing instantly so the same standard must be applied to islamic article islamic article must be written from the islamic point of view and the jew can write their response in appropriate criticism of islam article if not will personally edit the jewish article and fill them with my conjecture about their history and will find non jewish admin to arbitrate over the islamic article good day please read this talk page specifically all of the place where treason or traitor is mentioned and if you still believe that we need to mention treason provide some reliable source and we can discus it it is easy for our article to be neutral and mention all povs but it doe require that people like yourself participate we work from academic source not personal conjecture change by devotus and issue with them dear devotus have still issue with your change bat yeor and ramadan while appreciate that you don try you shift the balance removing book from each side do not agree with your removal bat yeor is an academic scholar and though her book are controversial she is not beyond the pale currently she doesn serve a reference in the article but if she did the controversy would be noted a for ramadan have issue with him a well but if we remove him from the literature section we would have to remove him from the article too in which he serf a reference this is due to the insistence of user bless sin he will certainly not like such removal we cannot remove him from the literature section while retaining him in the article while your first version wa needlessly verbose it is to be noted that the new one endorses that view by paret watt the article now say that the bq were not killed for religious reason that is not fact since there is good case that the whole conflict wa caused by religious difference also we do not want to repeat thing that have already been said in the coverage of the siege and demise g the claim about attacking in the rear also please abide by the one resolved conflict we fought hard and long about word like massacre and execution and neither should appear unless unavoidable the common practice thing is unacceptable a it is s',\n",
              " 'ok steve to be honest really like the present form so don have any issue with the present one',\n",
              " 'hello january 2008 you keep vandalizing article while adding misleading edit summary please stop doing this it doesn help build an encyclopedia and waste other people time since you repeatedly and selectively remove message from your talk page don know how many warning you have already received will thus consider this to be your third warning and report you next time you vandalize an article thank you for understanding talk',\n",
              " 'i think it depends on the circumstance if someone won gold medal at competition the gibraltar anthem would be appropriate rather than god save the queen',\n",
              " 'he at it again he seems insistent on adding pointless rambling on how the talk page isn a forum just so he can make cut at me http en wikipedia org index php title talk 3axm8_rifle diff oldid he keep reverting my removal of it',\n",
              " 'so guess your explanation of wp csd t1 is still zero once again you have failed to explain why page weas deleted under wp csd t1 and then threatened the inquirer with block poor form extremely poor form',\n",
              " 'so that the proton itself reach fusion distance',\n",
              " 'beauty pageant just because you have no interest in beauty pageant or their contestant doesn mean that they are not notable and please don go trying to delete stuff when you are ignorant about the topic you are dealing with happen to think there are ton of article on here that do not meet wikipedia standard and that do not have individual merit particularly those about comic etc but am wise enough to know that do not truly understand their significance and so leave it alone much more prudent avenue would have been to bring your issue to the appropriate wikiproject wikiproject beauty pageant and to address yoru concern there in the first instance one example the continual use of the term model to describe them a ha been used by yourself and one other editor is both incorrect and somewhat demeaning',\n",
              " 'on mohammed al bayati qualification with regard to the edits over the past day think that while mohammed al bayati qualification are tangentially relevant the purpose of the text a they are placed right now is to prove that mohammed al bayati is not qualified to review the autopsy report this think violates npov if the qualification are to be included they should come under the criticism and controversy section quoted by whoever it is that accused mohammed al bayati of not being qualified to review the autopsy report is cited if nobody made the accusation then this is original synthesis and should again be removed',\n",
              " 'no reason to split there is absolutely no reason why alamo bowl broadcaster should be split from alamo bowl that list is stub that is only 4kb long the main article is 13kb long much of which is table and list well within the limit of wp size single article is only 17kb long which is permitted so there is no reason why the article should be split talk',\n",
              " 'please sign your comment thanks',\n",
              " 'alyssa flash at the time of writing this sarita tna impact debut is coming up and she ll be wrestling one alyssa flash note might be spelling alyssa wrong see her nowhere on the list 226 207',\n",
              " 'rom people in hungary 10 the appalling social and economic situation of the rom who account for between and percent of hungary million people that mean 000 000',\n",
              " 'fuck off you murdering scum',\n",
              " 'in addition am asking that you please stop accusing me of thing havent done do not what what sock puppeting is and think your taking this matter personally and abusing your power',\n",
              " 'after adding the rational have to remove the tag',\n",
              " 'wow guess your just one of those guy then god forbid one love then',\n",
              " 'it ha been up before but here it is again phil plait claimed in radio program with joe rogan that all shuttle astronaut who ha ever gone into space ha been through the van allen belt at min http www youtube com watch tvic1qdsnic if thats not misleading propaganda dunno what is his website should be removed a source 209 177',\n",
              " 'lamia joreige hi lea first off d like to tell you that your contribution are invaluable you are presenting often overlooked subject kudos for that see you have started the aforementioned article didn have it on my watchlist yet so didn know there wa mistake you must take notice of some rule on wp so check out wp notability so you know how to better protect the material you add against meta deletionists cheer',\n",
              " 'i didn receive any massage',\n",
              " 'take offense take great offense that some pompous sanctimonious twit think that no one should be allowed to express appreciation for woman like the gibson girl a the fine featured and achingly beautiful creature that they are don know what kind of totalitarian feminazi dystopian agenda you are trying to foist on people but don do it here this encyclopedia is based on free speech and free exchange of information not bogus political correctness and schoolmarmish thought policing ll take gibson girl over you anyday',\n",
              " 'padua user tag someone should design padua college user tag much like the following one for the maroon in state of origin 28 july utc',\n",
              " 'ion nemes talk 08 june',\n",
              " 'you gay motherfucker know where you live am going to sand your face off then am to going to beat you to pulp you chicken shagger',\n",
              " 'ok dennis brown thanks for telling me wa taking this bit way too serious ill be careful for this time stupid bot',\n",
              " 'that way might even know which article you are talking about',\n",
              " 'the are problem with the sfc record there are no credible sci challenge to it this new section is absurdly u centered it cannot possibly stand a it it this is the global record we re talking about you need some credible scientific paper not picture of station a far a know the sfcstations stuff ha merely documented problem with some station sitings and maintenance etc there is not even the beginning of an attempt at quantifying what influence plus or minus this might have on the record if you re interested there are paper about the effect of switching from north wall screen to stevenson screen thatched hut in africa etc etc',\n",
              " 'could you please comment on talk thought_identification re john norseen and lockheed martin m beside myself trying to update information that believe to be very relevent it look to me like several user who hang out at ani fringe are working together to remove well sourced valid on topic material which show the state of military research into thought identification outside comment would be greatly appreciated thanks',\n",
              " 'mediation hello am atyndall and have volunteered to take on your mediation case during this discussion will remain neutral with both side of this argument and will endeavor to solve your dispute after having look at the discussion above this is what have found quizzicalbee ha been adding the sentence according to chesler the the s embassy repeatedly refused to help her leave the country a they no longer recognized her a u citizen hurmata ha been reverting this back to she report that the s embassy repeatedly refused to help her leave the country hurmata object to quizzicalbee sentence a he she think that the source is incorrect a the guard would have allowed chesler into the embassy and first hand account from chesler herself doe not qualify a reliable source qb object saying that maybe in the 1960s u citizenship could have been revoked by the u afgan government at that time and perhaps in the past the guard may have denied entry and that her claim should have been presumed true until proven false hurmata countered that the citation threat qb wa referring to is not the one that wa cited qb state that there is no evidence disproving her claim so they are valid could the involved user please place below to verify that this statement is correct or suggest why it is not correct thankyou talk',\n",
              " 'well arthur have printed the paper and the condition is in fact what ultra power say it is not your correction it seems that the paper is not incorrect but rather correct and pointless you have already identified the worst problem the third condition requires incontinuity of at all integer value however this problem disappears if we consider only the special case e so let do that we want function satisfying and n exp n defined a widely a possible we observe that and present no problem 1 and 0 to extend to all positive real number it is clearly sufficient to define on an interval of length such a 1 and we want to be continuously differentiable the paper only requires to be continuously differentiable on 1 or equivalently on 0 this is obviously whacky but we needn worry about this because e next for no obvious or explained reason we require that is monotone on the interval 1 from the functional equation x ln x we get x x x hence 0 0 so must be constant on 1 not too surprisingly the function we get in this way is patched together from smaller piece in relatively unnatural way x exp exp x thus what learned from the paper is that the correct solution to the problem probably ha minimum of it derivative between and',\n",
              " 'the ranger fc this should be the name of the newco ranger wikipedia page now a they are called the ranger fc everywhere on the sfl sfa spl bbc etc website and in league table and on tv they must have registered to use the ranger fc to differentiate between themselves and ranger fc who still have spl membership',\n",
              " 'wikipedia categories_for_discussion log 2010_april_27 wikipedia_books following the horribly chaos of april ve resubmitted thing for discussion talk contribs physic book',\n",
              " 'flexpay tax law just comment here d be interested in seeing an expansion of this artcile regarding to the tax surrounding flexpay account',\n",
              " 'no problem at all talk',\n",
              " 'if we do win and get these evil people out of the government and their private force a well then perhaps there won be any nuclear blast across the u and europe btw if mongo is really with h why is he on wikipedia',\n",
              " 'i ve just seen that',\n",
              " 'najib effendi al yasin suggest not to use paragraph indentation in the article najib effendi al yasin which have recently created to reach more normal looking page happy editting',\n",
              " 'lol you know what meant whichever president came before hafez just new he wa president before assad ha considerable foreground of support in which his support would have freaked out because of the coup they would have claimed instability would arise a assad supporter are trying to use in their defense what am trying to say is that although bashar assad had good economic and international policy for syria you should not fear non baathist potentially being elected syria economic and international policy won change iran would still be major factor in syrian life considering the buisness deal stake and cultural exchange the only this that would change are social freedom and for the better also every country had revolution and they are still alive today the muslim brotherhood in syria is weak even weaker than the islamist prescence in libya the rebel in libya had 90 support a we see now and yet could hardly take control without nato what chance doe the syrian muslim brotherhood have none if anything nonviolent protest weaken the resolve of the muslim brotherhood making them le of an influence in the everyday life of syrian a you know am pro syria and armenia just not pro assad unlike armenia where people like sargsyan and kopcharyan were democratically elected assad wa not no one ran against him because they were not allowed',\n",
              " 'cfr is perfectly accurate source the council on foreign relation cfr org is recognized legitimate think tank that study international terrorisim for the united staes govt to claim they are not credible is idiotic they are a legitimate a any online newspaper or other source they have studied northern ireland and compliled list of uda uvf killed by the ira inla and vice versa these fact are good and will be included in the article',\n",
              " 'lead what there now is not summary summary are supposed to be substantially shorter than the text they summarize which the case at salvatore giunta is not it simply copy whole sentances from the body text a an editor we have to ass the article a it currently stand and not any hypothetical future stance if the article grows then the lead can be adjusted accordingly in any case the lead section favored doe indeed summarize the most important part the moh in any case did you read wp lead the lead of biography is not necessarily supposed to summarize the life story of the subject but assert thier claim to notability the two sentances favored more than do that without being overly repetitive wordsdeeds',\n",
              " 'unblock ll make renewed effort not to give personal attack but of course do have some question about this unwarranted blockage a you might well imagine why is it that ip editor tend to get the raw end of the deal that you admins tend to lean towards the side of someone who editing with an account over someone who editing without one especially in the area of what you label a personal attack or harassment when given by the ip editor but not so much when the named editor doe the same thing for exampleand this is yep maybe you guessed it question why is it supposedly okay according to you for someone with name like say escape orbit to dish out personal attack but not for me to give him one back because m just lowly ip editor specifically why is it supposedly okay for him to give me personal attack by putting false stuff on my keyboard by making the ludicrous claim that my reason for wanting the old style of ebay logo to go next to the current one ebay in the lead is because wanted it in there even though that is total lie but it supposedly not okay for me to call that kind of slander stupid here another one why is it supposedly okay for him and smiley girl there to falsely accuse my edits of being vandalism just because they differed from what these guy preferred but then when say their reversion are vandalism get in trouble for it a if it were personal attack just because m an ip only editor ready for one more then why is it fine for any of you named editor to give one of u ip editor warning template but when a an iper do the same thing to named editor like did to partially smiley girl get dinged with oh you can do that cause that a personal attack or oh that bad because that harassment oh yeah here one more remember the rule about edit warring just in general meaning that it doesn even have to be breaking 3rr that say that but wa right so wa not edit warring is no defense well then doesn that apply to meeting some so called consensus too since some thing aren case of concrete correctness but are just based more on whether they match what that so called consensus wanted the thing to say well then why is it that just because your named friend smiley there doe some edit warring against me to put the thing back to what your exclusive partial consensus want it to say and since my editing had already been established a not vandalism even though it disagrees you ignore that above mentioned edit warring rule and give her him pas anyway but when an ip only editor who against your exclusive consensus do the same thing it edit warring even though it wa the same thing a what smiley doing remember the being right matching consensus is no defense rule 162 81',\n",
              " 'if serbia doe recognise abkhazia and south ossetia then wouldn be at all surprised if georgia recognises kosovo in retaliation',\n",
              " 'the most subtle question they possibly could',\n",
              " 'trying to measure the number of cafe this is one of those place where am so frustrated by wikipedia ban on original research the article ha the absurdly low at least six cafe on the ave or it alley don know where that number come from nor what they consider cafe but it seems to me that well within any reasonable definition the scene includes solstice cafe zoe the original allegro on an alley parallel to the ave arguably it second location in the college inn also count the ugly mug half block off the cafe at the corner of 42nd that used to be the rom but can recall it new name sureshot the continental caffe apassionato wow bubble tea shinka tea company yunnie bubble tea pochi tea gingko tea house tully starbucks wannabee one block off still life on the ave at the grand illusion technically the entrance is around the corner but it is clearly effectively on the ave this doesn even count hangout that are mainly bar or restaurant or takeout food joint nor doe it count thing like bookstore and bulldog news both of which have busy espresso operation nor doe it count ice cream stand and m sure m missing something this is all just offhand talk',\n",
              " 'actually undue weight can also result in zero weight a it is the whole issue is insinuation and extrapolation of given event just because the article doesn outright say that edward is the father because there wa no father listed it is quite clear that this is the intent now editor familiar with me consider me to be fnc fanboy and appolgist regarding conservative and republican so my objection to this is clearly not partisan point of view that said this is in violation of several wp policy',\n",
              " 'i found it under chronological list of pc engine game thought the release date on that page were for japan since there is seperate list of turbografx game the change you made is ok though since see ign ha it listed that way',\n",
              " 'agree fundamentally whether you take it a pill or through patch or ring the key is that it hormonal so that should be the main article at that point oral contraceptive should either redirect to hormononal contraception unles there is sufficient material to justify it existence',\n",
              " 'that wa so desterbing because of when had to do project in school had to explain it wasnt bill gate from year ago',\n",
              " 'the source wa local guide book how do we source that',\n",
              " 'chill out inty my mate',\n",
              " 'a tale of tub on the main page hey geogre check it out did you know that tale of tub will be featured on the main page on sunday talk 20 nov utc',\n",
              " 'added class would like to add class but question raised in talk page',\n",
              " 'no problem thanks for letting me know talk',\n",
              " 'batman am batman you are spiderman win',\n",
              " 'geometry of love good day can you search some source for article geometry of love probably this article contain interesting fact for dyk',\n",
              " 'exactly removed the section again before noticed this posting chen7754',\n",
              " 'please unblock and delete page request that you unblock my talk page and immediately and permanently delete the content of it you are free to permanently block me from contributing to wikipedia a have no intention of doing so in any case if you would like reason to block me or prove that have violated the rule you need not preserve the talk page here is another deliberate intentionally provocative violation of the rule an old school personal insult you are loathsome sanctimonious hypocritical ignorant twit if you were in state of uncontrolled combustion would not take the trouble to extinguish the flame by urinating on them hope that is satisfactory',\n",
              " 'that is true with the first edit however the second one wa an honest mistake',\n",
              " 'that been the problem facing this article a well d love to see this get to featured article status but keep running into the fact that there isn really whole lot of good verifiable info out there that is easily available nor is it easy to come by picture that is usable though suspect the one or two known image of him would fall under fair use there are couple of website out there that basically regurgitate section from mcgregor book there is certain irony in the fact that guy who labored in anonymous solitude most of his life on project he loved dearly died destitute and is not making several other people rather wealthy',\n",
              " 'you are funney man',\n",
              " 'furthermore any threat made to block individual adding and or editing well researched information would directly negate the sole intention of wikipedia itself',\n",
              " 'wikipedia is full of fool who take money and make people work for free wikipedia you might a well ban me you fool what taking so long wiki is stupid place it jimbo cult',\n",
              " 'they seem to be reliable enough for this topic anyways it not like many major news source are going to be covering the thing that these site cover 164 227',\n",
              " 'in response to your feedback yoa can not do it by yourself see wikipedia changing username',\n",
              " 'that is your opinion and what is your proof that am anti newsom whether you support him or not he did have gay porn day and violated state law by issuing gay marriage license in contradiction to state law these are fact not slander or fiction',\n",
              " 'that admission begs the question is it better to punish adolescent boy if they are going to engage in bullying behaviour here or extend them welcome talk',\n",
              " 'french speaker and paris can anybody explain this french speaker concentrate heavily on cultural life in paris what doe it mean 09 sep 2004 utc',\n",
              " 'why are you changing the somali people wiki seriously that page is biased to one clan added more diverse representation of somali people you stupid criminal',\n",
              " 'davkal agree with you but would suggest that you don discus it or gloat because you know he will likely come back and start harassing agagin apparently just few hour after he left someone bit his head off on his talk page about comment he left in an article',\n",
              " 'thanks thanks for the tip buddy walkie talkie ky highway page m currently cleaning up the page please do not edit it thanks let go mets stats your first barnstar style border 1px solid gray background color fdffe7 rowspan valign middle rowspan style font size large padding vertical align middle height 1em the tireless contributor barnstar style vertical align middle border top 1px solid gray hereby award bigrtex the tireless contributor barnstar due to his outstanding amount of high quality edits hikaru',\n",
              " 'transistor the transistor page doe not have principle of operation section because the physicist know about it but don want to share it they just don know how it work wa thinking about it and came up with fairly decent concept of how it work put it on wiki think the guy got jealous and here am discussing pretty much nothing p and my language is pathetic you naughty naughty boy ll eat you',\n",
              " 'i like to see it in print since it been listed for day now without an url',\n",
              " 'the proposed deletion process because of the following concern wikipedia should not be used a place for guide or walk through all contribution are appreciated but this article may not satisfy wikipedia criterion for inclusion and the deletion notice should explain why see also what wikipedia is not and wikipedia deletion policy you may prevent the proposed deletion by removing the notice but please explain why you disagree with the proposed deletion in your edit summary or on it talk page please consider improving the article to address the issue raised because even though removing the deletion notice will prevent deletion through the proposed deletion process the article may still be deleted if it match any of the speedy deletion criterion or it can be sent to article for deletion where it may be deleted if consensus to delete is reached',\n",
              " 'hmmm there is way to do this ll see if can remember what the code is gabsadds',\n",
              " 'this article already exists see liger pro',\n",
              " 'feather there is no citation a to how quill looked in the past therefore it is opinion only',\n",
              " 'bakan why is abbie bakan even mentioned in this article based on the worthless rag of hers which is cited a source in this article she nothing but shill for lenin and the rest of the commie gang in that rag she not only show egregious pro communist bias but doesn even bother to check the fact much le look at the cause of the kronstadt rebellion or even cite reliable historical source on that subject she also discredit herself with absurd accusation of white conspiracy to overthrow the soviet government and even of the rebellion being motivated by anti semitic racism among the sailor furthermore all the claim made in that rag are based on case of begging the question that is since lenin communist regime wa good major premise and the kronstadt rebellion harmed said regime minor premise suppressing the rebellion wa justified last but not least the mere fact that the aforementioned rag wa first published by self admitted socialist party by definition mean that this source doe not meet either wp npov or wp r if such source continue to be used in wikipedia article the whole project will soon turn into commiepedia 169 176',\n",
              " 'message on talk page during an afd placing message on user talk page such a and in the hope of gaining support is an unacceptable practice which agin hinders the afd process',\n",
              " 'trivia d advise you to look the word up in good dictionary jay mr townsley marriage into an important business dynasty is obviously noteworthy which is why it noted prominently in the article linked to cheer',\n",
              " 'might remind you that this is the english language wikipedia and you have no greater precedence here than do perhaps you should think of going to edit the ja wikipedia and taking your aggressive attitude with you especially since your only problem is with the example name which are easily fixed you re clearly incapable of appreciating the improvement made in english so perhaps you re not the best person to judge 178 102',\n",
              " 'speedy deletion of david fork tag ha been placed on david fork requesting that it be speedily deleted from wikipedia this ha been done under section a1 of the criterion for speedy deletion because it is very short article providing little or no context to the reader please see wikipedia stub for our minimum information standard for short article also please note that article must be on notable subject and should provide reference to reliable source that verify their content if you think that this notice wa placed here in error you may contest the deletion by adding to the top of the page just below the existing speedy deletion or db tag coupled with adding note on the talk page explaining your position but be aware that once tagged for speedy deletion if the article meet the criterion it may be deleted without delay please do not remove the speedy deletion tag yourself but don hesitate to add information to the article that would would render it more in conformance with wikipedia policy and guideline what do want',\n",
              " 'your suggestion of editing the article is completely workable and wa working a per wikipedia guideline until jayjg and slimvirgin started deleting large relevant chunk of the article and reverting it to what we have now a punitive gesture if we can all agree to concentrate on making the article better instead of punishing each other there is no reason the article ha to be locked agree that we should start with an extremely innocuous definition preamble statement we can all agree on however definition doesn do anyone any good unless it conveys some sort of information if there were just one word that we could all agree is associated with terrorism that would be better than no definition at all intimidate for instance',\n",
              " 'speaking without knowing what m talking about ok how bout this the original comment made about everlast entry constantly being vandalized by eminem fan wa written month ago before your dumb as got involved with the site the feud started with the dilated people track that why believed that the verse everlast contributed should be in there and still do the jab taken back and forth after that deserve synopsis only your idiotic little comment about album sale wa excessive and unnecessary it belongs in there no more than the fact that everyone who know both artist agrees that if they ever got into it everlast would knock the living shit outta eminem and that came off an eminem fan site',\n",
              " 'our talk archive 2 4 6',\n",
              " 'speedy deletion of spunga tag ha been placed on spunga requesting that it be speedily deleted from wikipedia this ha been done under section g4 of the criterion for speedy deletion because the article appears to be repost of material that wa previously deleted following deletion debate such a at article for deletion under the specified criterion where an article ha substantially identical content to that of an article deleted after debate and any change in the content do not address the reason for which the material wa previously deleted it may be deleted at any time if you think that this notice wa placed here in error you may contest the deletion by adding to the top of the page just below the existing speedy deletion or db tag coupled with adding note on the article talk page explaining your position but be aware that once tagged for speedy deletion if the article meet the criterion it may be deleted without delay please do not remove the speedy deletion tag yourself but don hesitate to add information to the article that would would render it more in conformance with wikipedia policy and guideline talk',\n",
              " 'plus you have to be natural born citizen which m going to assume is not but who care anyway',\n",
              " 'unblocked for the last time ok now don fuck up mean that in the best possible way good luck and good night',\n",
              " 'understand your position and think that your point is perfectly valid however don deem iaşi chişinău creation of wikipedia even with the lack of historical source for that effect in the english language ll think more about this tomorrow thank you for explaining your position to me with such accurate detail best regard nd',\n",
              " 'you studid cock sucker stop callin me ok it frank garrett eatin the worm crawl outa your mom pussy you fucking retardo hit retardo',\n",
              " 'thanks user talk biggity are there any constructive edits indef block perhaps mahalo',\n",
              " 'for anyone interested in accurate not deliberately misleading information about the ten string guitar e not the garbage that will no doubt soon be presented here see www myspace com tenstringguitar tthough my temporary site ha now been hidden removed from google search listing by some shady dealing the truth will prevail',\n",
              " 'you said am determined that the page will not regress to this again and will delete anything inappropriate that jeopardizes the good progess that is now being made completely inappropriate post in the middle of sensitive discussion threatens to do just that the problem is that you are not the sole arbiter of this or any talk page the post wa innocuous and did not violate the condition of the arbitration decision nor did it affect the flow of discussion on the page in fact the most appropriate response would have been to just ignore it by removing it you just encourage reaction you accuse me of wikilawyering which is absurd the guideline are there to help u all however not only do you violate that guideline but also several policy it is this kind of heavy handed action that encourages people to persist with problem edits it is long standing convention that we do not remove other user post and in my three year here have never seen it done when it wasn vandalism unless you can give me much better reason for not doing so am going to reinstate the deleted text',\n",
              " 'the glourious people republic of china ha carried out survey of the great wall it is no surprise that chinese invention such a the wall exist to this day one day our great wall will stretch all the way around the world anyway let add detail of our dear government survey',\n",
              " 'fisherqueen would you kindly stop following my every move and deleting thing off my user page havent you got anything better to do than piss people off on wikipedia',\n",
              " 'so jim burton child molesting faggot see you are still with u for yet another day making total buffoon out of yourself a usual don know what is sadder here you or the extreme hypocritical arrogance you show by lecturing the world about ethical principle for your claimed right to abuse our child you have no ethical principle to save your life but it exactly a the roman poet said isn it the harlot doth always rebuke the chaste will you ever drop dead we might all breathe little easier for our kid sake you truly disgust me with every word you write',\n",
              " 'having read will beback already changed the structure separate someone view over him into separate section suggest further restructuring welcome and detail per section later',\n",
              " 'nevermind the ha assimilated those puppy sorry for the bother cheese wine',\n",
              " 'i fixed the link it took all of about second now leave it or will report you to the administrator',\n",
              " 'a have told they were not deliberate personal attack in my belief my message have been interpreted wrongly although asumed good faith in posting them a have mentioned that',\n",
              " 'please do not remove content from page without explanation a you did with this edit to vole if you continue to do so you will be blocked from editing royal court',\n",
              " 'deleted american criminal category it incredible to me that the fact of this article might lead some misguided soul to think this is what the american criminal category is for there a lively discussion at the category talk page about what should be in the category but even the most expansive reading of the category doesn countenance this',\n",
              " 'millinos of hunjan looking at hunjan template not just me other hunjan will fight back your concept of art bull of shit 166 11 tharkarn and what waste man',\n",
              " 'just to add kansa bear when said you made the elementry mistake of calling it treaty when it wa in fact congrass is because a you left out a usual my post in which you regarded the three deligations a having been pressent at the treaty aras with papal meditiation the treaty of aras wa private treaty only between the deligations of burgundy and france and made military alliance in again we are debatting on the burgundian recognition stop changing the subject you clearly are giving fallactious statement and feel your post are utterly questionable if you happend to remeber month ago we both agreed the congrass and treaty of aras were different corrected your statement when you regarded the three deligations a bieng pressent at the treaty of aras s stop with your childish personal attack aqsked you to give source regarding that burgundy didnt recognize henry a king of france but you give ref regarding the treaty of aras and mixing up the post if you cant handle the fact that burgundy recognised henry a king of france then have already reverted you on the dual monarchy article you should be ashamed of your fallactious remark nd utterly questionable unsourced fact',\n",
              " 'er using two usernames to vote more than once in poll have no idea what you are talking about have not used an usernames and have never voted in any poll can not be vandal a have not vandalised anything may have added content which you or someone else did not agree this is not vandalism the correct reponse is discussion and debate to achieve conscensus again am not sockpuppet or puppetmaster have been fully open that am the same person by wikipedia defintion am not sockpuppet or puppermaster you may wnat to use different defintion but that is just your opinion and mudslinging hardly appropriate for an administrator',\n",
              " 'raffaele request for lawyer while being interrogated on nov wa refused a wa his request that he be allowed to call his father page amanda wa denied food water bathroom break and nap during the all night interrogation on nov 6 page wikid actually now looking at murder in italy see that there is ton of additional information about both amanda and raffaele interrogation that could be included so will work on listing all that in more detail tomorrow',\n",
              " 'yes like the suggestion also it look pretty good and by leading into the next sentence about the bering strait crossing it conforms to the rest of the article since later on we get more detail on the prehistoric migrator ll just edit yee suggestion in',\n",
              " 'seriously alex your article is on the edge of being deleted there is no one at the deletion discussion arguing for it being kept if you want any hope of keeping this article online instead of spending your time editing the talk page click on this link to go to the deletion discussion and make your argument',\n",
              " 'fu ck ing trollreasons',\n",
              " 'some day you and are going to remember this and laugh ha ha ha ha ha never forget have incredible power am more powerful than you can possibly imagine let me just close this conversation by bidding you fond farewell',\n",
              " 'you ve probably noticed the table faction approach if you could keep an eye out for more game central information on in game faction and then update the table that would be great m basing it off of similar table in the class age of empire iii which show the sort of information to go for without falling into the gameguide trap',\n",
              " 'sr cl bud bin way like long time like time outa mind long gooood shit but mo latah an dat soon az ah gitz back heah sum de brotherz sistahs sez hance dead or alive we re about to send zion ranger to check on his condition ah sez whoa led me gib him holler dis me hollerin bro de zion rangerz be dem dat do most de walkin tru wallz not all but most de wall walkin dude ain gonna do bro no harm he jes be checkin ee ben so gentle remindah kum fuhst be readin id leedle postin dis dat go down good doan fohget to cut sum zzzz aftah tad postin sleep good doan fergit ta dream sumptin might kum jes ta bdh all wrapt roun wid delta wave a kupla otha carrierz what we diz cuss latah chow bro',\n",
              " 'you did not call me neither maybe we missed the once in lifetime chance to see u talk',\n",
              " 'a you did to the henry david thoreau page it is considered vandalism if you would like to experiment use the sandbox thank you',\n",
              " 'rather crude ancestor of the vaccine the source is biography of louis xvi louis xvi le roi bienfaisant jean de viguerie on the various and often contradictory influence of the french government prior to the revolution where section is devoted to the innoculation of the royal family and make note of how the intendant of franche comte had financed physician to do it through his province and how it wa later used by washington on his continental army the truth he actually died on december it even say so in book that have fact about george washington george washington owned over 000 acre of land washington lived in new york and phildelphia during his preidency the preceding unsigned comment wa added by 230 220 ga in zh wikipedia please add link ga zh in interwiki section thanks',\n",
              " 'the objectionable textbook material the ad refer to controversy in wheaton school in the early 1990s surrounding series of textbook called impression they also contained some writing that some parent believed featured theme of the occult witchcraft violence and disrespect for parental authority here is discussion of one of the offending piece yarn called wart snake in fig tree which is kind of pardody of the twelve day of christmas but with creepy crawlies and spider and snake and stuff wart snake in fig tree wonder what roskam stance on harry potter and holloween is',\n",
              " 'no didn mean point me at biographical article though that would be good too mean answer right here on the discussion page what town were you born in which school did you go to also regarding over the top disagree think the article could do with quite bit more expansion a could the article of the other individual you mentioned a for greatest living magician have to admit d never heard those name how are you judging that say max maven is better than david copperfield is it by award industry press or just personal opinion of their technique',\n",
              " 'okay but only if they are truly not needed same sort of criticism praise no quote etc thank you talk',\n",
              " 'haha you re fine mean you re allowed to do it but m just selfish guess really appreciate your kindness though and really respect that you asked because when other signature that were borrowed no one let me know or gave me any credit so feel badly that since you asked you feel really badly about doing it now haha but can help you figure out nice one or pick out some fun color have great day and happy wikying τ',\n",
              " 'leave me alone told you already to leave me alone why can you fuck off and do your own fucking thing or do you find that hounding me is amusing id do then you are mothafuckin asshole and will ban you',\n",
              " 'bloc voting country with large population of non national may have their televote influenced considerably this ha been cited a the reason for apparent bloc voting in the balkan country of the former yugoslavia this is full blown crazy what doe non national mean these country have similar culture and speak the same language the star in croatia are popular in serbia and vice versa people are national of their country in the largest proportion in each of those country there are some refugee in each of those country but that doesn really explain why croatia would always give the highest no of pt to serbia or macedonia to serbia where there wa no conflict to speak of for example m bosnian serb and me voting for croatian or serbian song is not unusual but m not bosnian non national have the passport of bih and my family ha never lived in serbia in history it really about mutual intelligibility which is why scandinavian bloc vote for each other all the time it the language and sensibility',\n",
              " 'peta is not self published source please explain how the peta website is not self published',\n",
              " 'please do not vandalize page a you did with this edit to morrissey if you continue to do so you will be blocked from editing impala',\n",
              " 'august utc there is no wp r to affirm the veracity of di doubtful claim either that is you have no wp r either way therefore it is not verifiable fact that picard or any of the other original signer consented to or agreed with the di published interpretation or political position vi vi pb or any other subsequent political purpose regarding what should or shouldn be taught in school all you have on verifiable record is that the original signer called for skeptical examination of the evidence for scientific theory di unverifiable claim which fraudulently spin that into consensual agreement or support for their interpretation or political agenda is not fact under the rule of wikipedia all the rest of di propaganda is utter hogwash fraudulently perpetrated by the di without the verifiably demonstrated consent of the original individual in view of the wp blp do no harm clause the unverified claim of the di must not be promoted to fact and any content to that effect must be immediately expunged per the wp blp 11',\n",
              " 'email thanks for your email about the message you received from guyovski received similar though not openly threatening email from guyovski a well',\n",
              " 'it is fabrication with intent to defame that is not the point here it belongs in the dan savage article',\n",
              " 'perhaps overlooked in the discussion of steve moore credential is another aspect of the newsweek article by saying that knox supporter have hurt her by expressing their opinion nadeau ha effectively stated that the decision of the italian court will be or have been influenced by anger and anti american sentiment rather than the evidence alone don know if nadeau experience in italy qualifies her to make such an assessment but taking her a r to make that statement would be a great an insult to italian jurisprudence a anything knox supporter have said wholly concur with pablo opinion that the piece ha no place in the article',\n",
              " 'other attraction what is water place and animal place',\n",
              " 'fear jossi may be correct if watt who btw died in said this about rawat he probably meant it a praise e the emphasis would have been on sacred judging from my knowledge of watt oeuvre he wa rather anti intellectual himself',\n",
              " 'ooooh well can you fix it because it look mess right now and don think it wa certified in switzerland yet so new zealand and australia should just be there',\n",
              " 'omg love dch who doesn i love pac sun',\n",
              " 'i ve removed it it contributes nothing to the article',\n",
              " 'hi writingrights welcome to wikipedia hope you like this place sure do and want to stay before getting too in depth you may want to read about the five pillar of wikipedia and simplified ruleset if you need help on how to title new article check out the naming convention and for help on formatting the page visit the manual of style if you need help look at wikipedia help and the faq plus if you can find your answer there check the village pump for wikipedia related question or the reference desk for general question there still more help at the tutorial and policy library plus don forget to visit the community portal and if you have any more question after that feel free to post them on my user talk page or place helpme on your talk page and someone will be by to help you shortly tab additional tip tabtab here some extra tip to help you get around in the pedia if you want to play around with your new wiki skill the sandbox is for you tab you can sign your name using three tilde if you use four you can add datestamp too five will get you the datestamp only you may want to add yourself to the new user log tab if you ever think page or image should be deleted please list it at the vote for deletion page there is also vote for undeletion page if you want to retrieve something that you think should not have been deleted if you re still entirely confused or would like to get better grasp of your wikipedia skill and you have an irc client or don mind getting one check out the bootcamp it not what it sound like but it is fun and can help you with your editing skill if you re bored and want to find something to do try the random page button in the sidebar or check out the open task message in the community portal happy wiki ing talk contribs click here to respond to this message',\n",
              " 'it is common knowledge that karaims but not karaite jew boast descent from khazars but what they do not realize is that we believe the он окъ on oq whence came mixing with carian mercenary from caphtor and kolhkis our khazar ancestor were in fact the remnant of the lost ten tribe of israel who formed our priesthood it is precisely for this reason that karaite jewish scholar like jacob ben reuben of byzanteum and yefet ben ali or jeshua ben judah call u bastard in their writing the following editor',\n",
              " 'april utc then rewrite and expand the article d much rather have full article than bad article with full template a for william edits m not going to vote on content matter at this time have never looked at this article before you sent me the link so am not equipped to choose one version over another my vote is purely on the layout aesthetic of including the template maybe later when ve spent more time with an unfamiliar article can make statement about the content 06',\n",
              " 'wa trying to inject some humour a evidenced by my winky face in this ridiculous overblown and unnecessarily dramatic situation if you took the time to familiarize yourself with the situation you would see that the person insulted wa attacking my cited and factual contribution by actively censoring them no explanation which retaliated with by insulting him thought that his conduct wa insult worthy at the time a would any sane individual who wa not familiar with wikipedia no insult rule however have since realized that what did wa wrong because this site doe not allow for harsh word which is why will not use them again even if they are used against me which they were during this ordeal wikipedia is the place for me because my edit wa constructive and brought greater knowledge to the subject topic but the fact that insulted another user in the edit summary is regrettable and know that now if you seriously think the edit linked above constitutes better insult',\n",
              " 'this title should redirect to altona hamburg w change it but at the moment there are too many link for me to bother',\n",
              " ...]"
            ]
          },
          "metadata": {},
          "execution_count": 20
        }
      ]
    },
    {
      "cell_type": "code",
      "source": [
        "from sklearn.feature_extraction.text import TfidfVectorizer\n",
        "from nltk.corpus import stopwords\n",
        "vectorizer = TfidfVectorizer( encoding='utf-8',stop_words=stopwords.words('english'))\n",
        "X = vectorizer.fit_transform(documents).toarray()\n",
        "# terms = vectorizer.get_feature_names()\n",
        "# print(len(terms))\n",
        "# print(terms)\n"
      ],
      "metadata": {
        "id": "fQ_UqX_LFVXd"
      },
      "execution_count": 23,
      "outputs": []
    },
    {
      "cell_type": "code",
      "source": [
        "from sklearn.model_selection import train_test_split\n",
        "X_train,X_test, y_train,y_test = train_test_split(X, y, test_size=0.2, random_state=0, stratify=y)"
      ],
      "metadata": {
        "id": "Fo6eYJ-KFVZ5"
      },
      "execution_count": 24,
      "outputs": []
    },
    {
      "cell_type": "markdown",
      "source": [
        "KNeighbors Classifier"
      ],
      "metadata": {
        "id": "KNJCLhAHIk-B"
      }
    },
    {
      "cell_type": "code",
      "source": [
        "from sklearn.neighbors import KNeighborsClassifier\n",
        "KN = KNeighborsClassifier(n_neighbors=3)"
      ],
      "metadata": {
        "id": "oEaN_5LOIr0h"
      },
      "execution_count": 25,
      "outputs": []
    },
    {
      "cell_type": "code",
      "source": [
        "KN.fit(X_test, y_test)\n"
      ],
      "metadata": {
        "id": "jmeQ8LndIxZU",
        "colab": {
          "base_uri": "https://localhost:8080/",
          "height": 74
        },
        "outputId": "9c4388ed-b75c-4c17-8ca5-211338619ea1"
      },
      "execution_count": 26,
      "outputs": [
        {
          "output_type": "execute_result",
          "data": {
            "text/plain": [
              "KNeighborsClassifier(n_neighbors=3)"
            ],
            "text/html": [
              "<style>#sk-container-id-1 {color: black;background-color: white;}#sk-container-id-1 pre{padding: 0;}#sk-container-id-1 div.sk-toggleable {background-color: white;}#sk-container-id-1 label.sk-toggleable__label {cursor: pointer;display: block;width: 100%;margin-bottom: 0;padding: 0.3em;box-sizing: border-box;text-align: center;}#sk-container-id-1 label.sk-toggleable__label-arrow:before {content: \"▸\";float: left;margin-right: 0.25em;color: #696969;}#sk-container-id-1 label.sk-toggleable__label-arrow:hover:before {color: black;}#sk-container-id-1 div.sk-estimator:hover label.sk-toggleable__label-arrow:before {color: black;}#sk-container-id-1 div.sk-toggleable__content {max-height: 0;max-width: 0;overflow: hidden;text-align: left;background-color: #f0f8ff;}#sk-container-id-1 div.sk-toggleable__content pre {margin: 0.2em;color: black;border-radius: 0.25em;background-color: #f0f8ff;}#sk-container-id-1 input.sk-toggleable__control:checked~div.sk-toggleable__content {max-height: 200px;max-width: 100%;overflow: auto;}#sk-container-id-1 input.sk-toggleable__control:checked~label.sk-toggleable__label-arrow:before {content: \"▾\";}#sk-container-id-1 div.sk-estimator input.sk-toggleable__control:checked~label.sk-toggleable__label {background-color: #d4ebff;}#sk-container-id-1 div.sk-label input.sk-toggleable__control:checked~label.sk-toggleable__label {background-color: #d4ebff;}#sk-container-id-1 input.sk-hidden--visually {border: 0;clip: rect(1px 1px 1px 1px);clip: rect(1px, 1px, 1px, 1px);height: 1px;margin: -1px;overflow: hidden;padding: 0;position: absolute;width: 1px;}#sk-container-id-1 div.sk-estimator {font-family: monospace;background-color: #f0f8ff;border: 1px dotted black;border-radius: 0.25em;box-sizing: border-box;margin-bottom: 0.5em;}#sk-container-id-1 div.sk-estimator:hover {background-color: #d4ebff;}#sk-container-id-1 div.sk-parallel-item::after {content: \"\";width: 100%;border-bottom: 1px solid gray;flex-grow: 1;}#sk-container-id-1 div.sk-label:hover label.sk-toggleable__label {background-color: #d4ebff;}#sk-container-id-1 div.sk-serial::before {content: \"\";position: absolute;border-left: 1px solid gray;box-sizing: border-box;top: 0;bottom: 0;left: 50%;z-index: 0;}#sk-container-id-1 div.sk-serial {display: flex;flex-direction: column;align-items: center;background-color: white;padding-right: 0.2em;padding-left: 0.2em;position: relative;}#sk-container-id-1 div.sk-item {position: relative;z-index: 1;}#sk-container-id-1 div.sk-parallel {display: flex;align-items: stretch;justify-content: center;background-color: white;position: relative;}#sk-container-id-1 div.sk-item::before, #sk-container-id-1 div.sk-parallel-item::before {content: \"\";position: absolute;border-left: 1px solid gray;box-sizing: border-box;top: 0;bottom: 0;left: 50%;z-index: -1;}#sk-container-id-1 div.sk-parallel-item {display: flex;flex-direction: column;z-index: 1;position: relative;background-color: white;}#sk-container-id-1 div.sk-parallel-item:first-child::after {align-self: flex-end;width: 50%;}#sk-container-id-1 div.sk-parallel-item:last-child::after {align-self: flex-start;width: 50%;}#sk-container-id-1 div.sk-parallel-item:only-child::after {width: 0;}#sk-container-id-1 div.sk-dashed-wrapped {border: 1px dashed gray;margin: 0 0.4em 0.5em 0.4em;box-sizing: border-box;padding-bottom: 0.4em;background-color: white;}#sk-container-id-1 div.sk-label label {font-family: monospace;font-weight: bold;display: inline-block;line-height: 1.2em;}#sk-container-id-1 div.sk-label-container {text-align: center;}#sk-container-id-1 div.sk-container {/* jupyter's `normalize.less` sets `[hidden] { display: none; }` but bootstrap.min.css set `[hidden] { display: none !important; }` so we also need the `!important` here to be able to override the default hidden behavior on the sphinx rendered scikit-learn.org. See: https://github.com/scikit-learn/scikit-learn/issues/21755 */display: inline-block !important;position: relative;}#sk-container-id-1 div.sk-text-repr-fallback {display: none;}</style><div id=\"sk-container-id-1\" class=\"sk-top-container\"><div class=\"sk-text-repr-fallback\"><pre>KNeighborsClassifier(n_neighbors=3)</pre><b>In a Jupyter environment, please rerun this cell to show the HTML representation or trust the notebook. <br />On GitHub, the HTML representation is unable to render, please try loading this page with nbviewer.org.</b></div><div class=\"sk-container\" hidden><div class=\"sk-item\"><div class=\"sk-estimator sk-toggleable\"><input class=\"sk-toggleable__control sk-hidden--visually\" id=\"sk-estimator-id-1\" type=\"checkbox\" checked><label for=\"sk-estimator-id-1\" class=\"sk-toggleable__label sk-toggleable__label-arrow\">KNeighborsClassifier</label><div class=\"sk-toggleable__content\"><pre>KNeighborsClassifier(n_neighbors=3)</pre></div></div></div></div></div>"
            ]
          },
          "metadata": {},
          "execution_count": 26
        }
      ]
    },
    {
      "cell_type": "code",
      "source": [
        "KN.score(X_test, y_test)"
      ],
      "metadata": {
        "colab": {
          "base_uri": "https://localhost:8080/"
        },
        "id": "2O5RoxOTIxcQ",
        "outputId": "c33cda7e-82ce-4894-d458-b4db3c887a97"
      },
      "execution_count": 27,
      "outputs": [
        {
          "output_type": "execute_result",
          "data": {
            "text/plain": [
              "0.9516666666666667"
            ]
          },
          "metadata": {},
          "execution_count": 27
        }
      ]
    },
    {
      "cell_type": "code",
      "source": [
        "from sklearn.metrics import classification_report"
      ],
      "metadata": {
        "id": "8mMpAnsXIxev"
      },
      "execution_count": 28,
      "outputs": []
    },
    {
      "cell_type": "code",
      "source": [
        "pred_KN = KN.predict(X_test)\n",
        "print(classification_report(y_test, pred_KN))"
      ],
      "metadata": {
        "id": "kEl2yYW1JUIx",
        "outputId": "bfaf1f30-a63e-4da9-d61b-73b2e7b81cbe",
        "colab": {
          "base_uri": "https://localhost:8080/"
        }
      },
      "execution_count": 29,
      "outputs": [
        {
          "output_type": "stream",
          "name": "stdout",
          "text": [
            "              precision    recall  f1-score   support\n",
            "\n",
            "           0       0.96      0.99      0.97       539\n",
            "           1       0.90      0.59      0.71        61\n",
            "\n",
            "    accuracy                           0.95       600\n",
            "   macro avg       0.93      0.79      0.84       600\n",
            "weighted avg       0.95      0.95      0.95       600\n",
            "\n"
          ]
        }
      ]
    },
    {
      "cell_type": "markdown",
      "source": [
        "Naive Byes Classifier"
      ],
      "metadata": {
        "id": "zXz_uuhyJ5KF"
      }
    },
    {
      "cell_type": "code",
      "source": [
        "from sklearn.naive_bayes import MultinomialNB\n",
        "NB = MultinomialNB()\n",
        "NB.fit(X_train, y_train)"
      ],
      "metadata": {
        "id": "TBk6RcQ-KBCy",
        "outputId": "68b6ac22-4089-4a39-a885-7401fe12ed3f",
        "colab": {
          "base_uri": "https://localhost:8080/",
          "height": 74
        }
      },
      "execution_count": 30,
      "outputs": [
        {
          "output_type": "execute_result",
          "data": {
            "text/plain": [
              "MultinomialNB()"
            ],
            "text/html": [
              "<style>#sk-container-id-2 {color: black;background-color: white;}#sk-container-id-2 pre{padding: 0;}#sk-container-id-2 div.sk-toggleable {background-color: white;}#sk-container-id-2 label.sk-toggleable__label {cursor: pointer;display: block;width: 100%;margin-bottom: 0;padding: 0.3em;box-sizing: border-box;text-align: center;}#sk-container-id-2 label.sk-toggleable__label-arrow:before {content: \"▸\";float: left;margin-right: 0.25em;color: #696969;}#sk-container-id-2 label.sk-toggleable__label-arrow:hover:before {color: black;}#sk-container-id-2 div.sk-estimator:hover label.sk-toggleable__label-arrow:before {color: black;}#sk-container-id-2 div.sk-toggleable__content {max-height: 0;max-width: 0;overflow: hidden;text-align: left;background-color: #f0f8ff;}#sk-container-id-2 div.sk-toggleable__content pre {margin: 0.2em;color: black;border-radius: 0.25em;background-color: #f0f8ff;}#sk-container-id-2 input.sk-toggleable__control:checked~div.sk-toggleable__content {max-height: 200px;max-width: 100%;overflow: auto;}#sk-container-id-2 input.sk-toggleable__control:checked~label.sk-toggleable__label-arrow:before {content: \"▾\";}#sk-container-id-2 div.sk-estimator input.sk-toggleable__control:checked~label.sk-toggleable__label {background-color: #d4ebff;}#sk-container-id-2 div.sk-label input.sk-toggleable__control:checked~label.sk-toggleable__label {background-color: #d4ebff;}#sk-container-id-2 input.sk-hidden--visually {border: 0;clip: rect(1px 1px 1px 1px);clip: rect(1px, 1px, 1px, 1px);height: 1px;margin: -1px;overflow: hidden;padding: 0;position: absolute;width: 1px;}#sk-container-id-2 div.sk-estimator {font-family: monospace;background-color: #f0f8ff;border: 1px dotted black;border-radius: 0.25em;box-sizing: border-box;margin-bottom: 0.5em;}#sk-container-id-2 div.sk-estimator:hover {background-color: #d4ebff;}#sk-container-id-2 div.sk-parallel-item::after {content: \"\";width: 100%;border-bottom: 1px solid gray;flex-grow: 1;}#sk-container-id-2 div.sk-label:hover label.sk-toggleable__label {background-color: #d4ebff;}#sk-container-id-2 div.sk-serial::before {content: \"\";position: absolute;border-left: 1px solid gray;box-sizing: border-box;top: 0;bottom: 0;left: 50%;z-index: 0;}#sk-container-id-2 div.sk-serial {display: flex;flex-direction: column;align-items: center;background-color: white;padding-right: 0.2em;padding-left: 0.2em;position: relative;}#sk-container-id-2 div.sk-item {position: relative;z-index: 1;}#sk-container-id-2 div.sk-parallel {display: flex;align-items: stretch;justify-content: center;background-color: white;position: relative;}#sk-container-id-2 div.sk-item::before, #sk-container-id-2 div.sk-parallel-item::before {content: \"\";position: absolute;border-left: 1px solid gray;box-sizing: border-box;top: 0;bottom: 0;left: 50%;z-index: -1;}#sk-container-id-2 div.sk-parallel-item {display: flex;flex-direction: column;z-index: 1;position: relative;background-color: white;}#sk-container-id-2 div.sk-parallel-item:first-child::after {align-self: flex-end;width: 50%;}#sk-container-id-2 div.sk-parallel-item:last-child::after {align-self: flex-start;width: 50%;}#sk-container-id-2 div.sk-parallel-item:only-child::after {width: 0;}#sk-container-id-2 div.sk-dashed-wrapped {border: 1px dashed gray;margin: 0 0.4em 0.5em 0.4em;box-sizing: border-box;padding-bottom: 0.4em;background-color: white;}#sk-container-id-2 div.sk-label label {font-family: monospace;font-weight: bold;display: inline-block;line-height: 1.2em;}#sk-container-id-2 div.sk-label-container {text-align: center;}#sk-container-id-2 div.sk-container {/* jupyter's `normalize.less` sets `[hidden] { display: none; }` but bootstrap.min.css set `[hidden] { display: none !important; }` so we also need the `!important` here to be able to override the default hidden behavior on the sphinx rendered scikit-learn.org. See: https://github.com/scikit-learn/scikit-learn/issues/21755 */display: inline-block !important;position: relative;}#sk-container-id-2 div.sk-text-repr-fallback {display: none;}</style><div id=\"sk-container-id-2\" class=\"sk-top-container\"><div class=\"sk-text-repr-fallback\"><pre>MultinomialNB()</pre><b>In a Jupyter environment, please rerun this cell to show the HTML representation or trust the notebook. <br />On GitHub, the HTML representation is unable to render, please try loading this page with nbviewer.org.</b></div><div class=\"sk-container\" hidden><div class=\"sk-item\"><div class=\"sk-estimator sk-toggleable\"><input class=\"sk-toggleable__control sk-hidden--visually\" id=\"sk-estimator-id-2\" type=\"checkbox\" checked><label for=\"sk-estimator-id-2\" class=\"sk-toggleable__label sk-toggleable__label-arrow\">MultinomialNB</label><div class=\"sk-toggleable__content\"><pre>MultinomialNB()</pre></div></div></div></div></div>"
            ]
          },
          "metadata": {},
          "execution_count": 30
        }
      ]
    },
    {
      "cell_type": "code",
      "source": [
        "NB.score(X_test, y_test)\n"
      ],
      "metadata": {
        "id": "_7T7FynJKD7H",
        "outputId": "2791fc0d-1eb3-457f-91c6-0b8787b0f2b6",
        "colab": {
          "base_uri": "https://localhost:8080/"
        }
      },
      "execution_count": 31,
      "outputs": [
        {
          "output_type": "execute_result",
          "data": {
            "text/plain": [
              "0.9016666666666666"
            ]
          },
          "metadata": {},
          "execution_count": 31
        }
      ]
    },
    {
      "cell_type": "code",
      "source": [
        "pred_NB = NB.predict(X_test)"
      ],
      "metadata": {
        "id": "uiRGX2MqKKWH"
      },
      "execution_count": 32,
      "outputs": []
    },
    {
      "cell_type": "code",
      "source": [
        "print(classification_report(y_test, pred_NB))"
      ],
      "metadata": {
        "colab": {
          "base_uri": "https://localhost:8080/"
        },
        "id": "niEHYl94KPJQ",
        "outputId": "86393911-c3ef-427c-a9e3-c3ba9dd7dd33"
      },
      "execution_count": 33,
      "outputs": [
        {
          "output_type": "stream",
          "name": "stdout",
          "text": [
            "              precision    recall  f1-score   support\n",
            "\n",
            "           0       0.90      1.00      0.95       539\n",
            "           1       0.75      0.05      0.09        61\n",
            "\n",
            "    accuracy                           0.90       600\n",
            "   macro avg       0.83      0.52      0.52       600\n",
            "weighted avg       0.89      0.90      0.86       600\n",
            "\n"
          ]
        }
      ]
    },
    {
      "cell_type": "markdown",
      "source": [
        "Logistic Regression"
      ],
      "metadata": {
        "id": "VHSs7YpTKYv_"
      }
    },
    {
      "cell_type": "code",
      "source": [
        "from sklearn.linear_model import LogisticRegression"
      ],
      "metadata": {
        "id": "cp_f_ip3KaE9"
      },
      "execution_count": 34,
      "outputs": []
    },
    {
      "cell_type": "code",
      "source": [
        "LTR = LogisticRegression()\n",
        "LTR.fit(X_train, y_train)"
      ],
      "metadata": {
        "id": "-Dw4GLgvLnbV",
        "outputId": "6153ed35-43ed-47c2-b18e-ad004e37d39a",
        "colab": {
          "base_uri": "https://localhost:8080/",
          "height": 74
        }
      },
      "execution_count": 35,
      "outputs": [
        {
          "output_type": "execute_result",
          "data": {
            "text/plain": [
              "LogisticRegression()"
            ],
            "text/html": [
              "<style>#sk-container-id-3 {color: black;background-color: white;}#sk-container-id-3 pre{padding: 0;}#sk-container-id-3 div.sk-toggleable {background-color: white;}#sk-container-id-3 label.sk-toggleable__label {cursor: pointer;display: block;width: 100%;margin-bottom: 0;padding: 0.3em;box-sizing: border-box;text-align: center;}#sk-container-id-3 label.sk-toggleable__label-arrow:before {content: \"▸\";float: left;margin-right: 0.25em;color: #696969;}#sk-container-id-3 label.sk-toggleable__label-arrow:hover:before {color: black;}#sk-container-id-3 div.sk-estimator:hover label.sk-toggleable__label-arrow:before {color: black;}#sk-container-id-3 div.sk-toggleable__content {max-height: 0;max-width: 0;overflow: hidden;text-align: left;background-color: #f0f8ff;}#sk-container-id-3 div.sk-toggleable__content pre {margin: 0.2em;color: black;border-radius: 0.25em;background-color: #f0f8ff;}#sk-container-id-3 input.sk-toggleable__control:checked~div.sk-toggleable__content {max-height: 200px;max-width: 100%;overflow: auto;}#sk-container-id-3 input.sk-toggleable__control:checked~label.sk-toggleable__label-arrow:before {content: \"▾\";}#sk-container-id-3 div.sk-estimator input.sk-toggleable__control:checked~label.sk-toggleable__label {background-color: #d4ebff;}#sk-container-id-3 div.sk-label input.sk-toggleable__control:checked~label.sk-toggleable__label {background-color: #d4ebff;}#sk-container-id-3 input.sk-hidden--visually {border: 0;clip: rect(1px 1px 1px 1px);clip: rect(1px, 1px, 1px, 1px);height: 1px;margin: -1px;overflow: hidden;padding: 0;position: absolute;width: 1px;}#sk-container-id-3 div.sk-estimator {font-family: monospace;background-color: #f0f8ff;border: 1px dotted black;border-radius: 0.25em;box-sizing: border-box;margin-bottom: 0.5em;}#sk-container-id-3 div.sk-estimator:hover {background-color: #d4ebff;}#sk-container-id-3 div.sk-parallel-item::after {content: \"\";width: 100%;border-bottom: 1px solid gray;flex-grow: 1;}#sk-container-id-3 div.sk-label:hover label.sk-toggleable__label {background-color: #d4ebff;}#sk-container-id-3 div.sk-serial::before {content: \"\";position: absolute;border-left: 1px solid gray;box-sizing: border-box;top: 0;bottom: 0;left: 50%;z-index: 0;}#sk-container-id-3 div.sk-serial {display: flex;flex-direction: column;align-items: center;background-color: white;padding-right: 0.2em;padding-left: 0.2em;position: relative;}#sk-container-id-3 div.sk-item {position: relative;z-index: 1;}#sk-container-id-3 div.sk-parallel {display: flex;align-items: stretch;justify-content: center;background-color: white;position: relative;}#sk-container-id-3 div.sk-item::before, #sk-container-id-3 div.sk-parallel-item::before {content: \"\";position: absolute;border-left: 1px solid gray;box-sizing: border-box;top: 0;bottom: 0;left: 50%;z-index: -1;}#sk-container-id-3 div.sk-parallel-item {display: flex;flex-direction: column;z-index: 1;position: relative;background-color: white;}#sk-container-id-3 div.sk-parallel-item:first-child::after {align-self: flex-end;width: 50%;}#sk-container-id-3 div.sk-parallel-item:last-child::after {align-self: flex-start;width: 50%;}#sk-container-id-3 div.sk-parallel-item:only-child::after {width: 0;}#sk-container-id-3 div.sk-dashed-wrapped {border: 1px dashed gray;margin: 0 0.4em 0.5em 0.4em;box-sizing: border-box;padding-bottom: 0.4em;background-color: white;}#sk-container-id-3 div.sk-label label {font-family: monospace;font-weight: bold;display: inline-block;line-height: 1.2em;}#sk-container-id-3 div.sk-label-container {text-align: center;}#sk-container-id-3 div.sk-container {/* jupyter's `normalize.less` sets `[hidden] { display: none; }` but bootstrap.min.css set `[hidden] { display: none !important; }` so we also need the `!important` here to be able to override the default hidden behavior on the sphinx rendered scikit-learn.org. See: https://github.com/scikit-learn/scikit-learn/issues/21755 */display: inline-block !important;position: relative;}#sk-container-id-3 div.sk-text-repr-fallback {display: none;}</style><div id=\"sk-container-id-3\" class=\"sk-top-container\"><div class=\"sk-text-repr-fallback\"><pre>LogisticRegression()</pre><b>In a Jupyter environment, please rerun this cell to show the HTML representation or trust the notebook. <br />On GitHub, the HTML representation is unable to render, please try loading this page with nbviewer.org.</b></div><div class=\"sk-container\" hidden><div class=\"sk-item\"><div class=\"sk-estimator sk-toggleable\"><input class=\"sk-toggleable__control sk-hidden--visually\" id=\"sk-estimator-id-3\" type=\"checkbox\" checked><label for=\"sk-estimator-id-3\" class=\"sk-toggleable__label sk-toggleable__label-arrow\">LogisticRegression</label><div class=\"sk-toggleable__content\"><pre>LogisticRegression()</pre></div></div></div></div></div>"
            ]
          },
          "metadata": {},
          "execution_count": 35
        }
      ]
    },
    {
      "cell_type": "code",
      "source": [
        "LTR.score(X_test, y_test)"
      ],
      "metadata": {
        "colab": {
          "base_uri": "https://localhost:8080/"
        },
        "id": "Nesxj6daLnl5",
        "outputId": "951dc4e1-369c-4f2e-dece-2ec6696336ba"
      },
      "execution_count": 36,
      "outputs": [
        {
          "output_type": "execute_result",
          "data": {
            "text/plain": [
              "0.9183333333333333"
            ]
          },
          "metadata": {},
          "execution_count": 36
        }
      ]
    },
    {
      "cell_type": "code",
      "source": [
        "pred_LTR = LTR.predict(X_test)"
      ],
      "metadata": {
        "id": "FXIgWTmqMJMV"
      },
      "execution_count": 37,
      "outputs": []
    },
    {
      "cell_type": "code",
      "source": [
        "print(classification_report(y_test, pred_LTR))\n"
      ],
      "metadata": {
        "colab": {
          "base_uri": "https://localhost:8080/"
        },
        "id": "cP9x0Sd9MUpv",
        "outputId": "55692c74-87b0-4666-9f09-0f2866504877"
      },
      "execution_count": 38,
      "outputs": [
        {
          "output_type": "stream",
          "name": "stdout",
          "text": [
            "              precision    recall  f1-score   support\n",
            "\n",
            "           0       0.92      1.00      0.96       539\n",
            "           1       1.00      0.20      0.33        61\n",
            "\n",
            "    accuracy                           0.92       600\n",
            "   macro avg       0.96      0.60      0.64       600\n",
            "weighted avg       0.93      0.92      0.89       600\n",
            "\n"
          ]
        }
      ]
    },
    {
      "cell_type": "markdown",
      "source": [
        "DecisionTree Classifier"
      ],
      "metadata": {
        "id": "Aw0flR8UMxFt"
      }
    },
    {
      "cell_type": "code",
      "source": [
        "from sklearn.tree import DecisionTreeClassifier\n",
        "DT = DecisionTreeClassifier()"
      ],
      "metadata": {
        "id": "6K-5NlVcMyZc"
      },
      "execution_count": 39,
      "outputs": []
    },
    {
      "cell_type": "code",
      "source": [
        "DT.fit(X_train, y_train)"
      ],
      "metadata": {
        "colab": {
          "base_uri": "https://localhost:8080/",
          "height": 74
        },
        "id": "-y8KHyT_M5mz",
        "outputId": "79a64910-4c37-4966-9df0-a4c6958270f7"
      },
      "execution_count": 40,
      "outputs": [
        {
          "output_type": "execute_result",
          "data": {
            "text/plain": [
              "DecisionTreeClassifier()"
            ],
            "text/html": [
              "<style>#sk-container-id-4 {color: black;background-color: white;}#sk-container-id-4 pre{padding: 0;}#sk-container-id-4 div.sk-toggleable {background-color: white;}#sk-container-id-4 label.sk-toggleable__label {cursor: pointer;display: block;width: 100%;margin-bottom: 0;padding: 0.3em;box-sizing: border-box;text-align: center;}#sk-container-id-4 label.sk-toggleable__label-arrow:before {content: \"▸\";float: left;margin-right: 0.25em;color: #696969;}#sk-container-id-4 label.sk-toggleable__label-arrow:hover:before {color: black;}#sk-container-id-4 div.sk-estimator:hover label.sk-toggleable__label-arrow:before {color: black;}#sk-container-id-4 div.sk-toggleable__content {max-height: 0;max-width: 0;overflow: hidden;text-align: left;background-color: #f0f8ff;}#sk-container-id-4 div.sk-toggleable__content pre {margin: 0.2em;color: black;border-radius: 0.25em;background-color: #f0f8ff;}#sk-container-id-4 input.sk-toggleable__control:checked~div.sk-toggleable__content {max-height: 200px;max-width: 100%;overflow: auto;}#sk-container-id-4 input.sk-toggleable__control:checked~label.sk-toggleable__label-arrow:before {content: \"▾\";}#sk-container-id-4 div.sk-estimator input.sk-toggleable__control:checked~label.sk-toggleable__label {background-color: #d4ebff;}#sk-container-id-4 div.sk-label input.sk-toggleable__control:checked~label.sk-toggleable__label {background-color: #d4ebff;}#sk-container-id-4 input.sk-hidden--visually {border: 0;clip: rect(1px 1px 1px 1px);clip: rect(1px, 1px, 1px, 1px);height: 1px;margin: -1px;overflow: hidden;padding: 0;position: absolute;width: 1px;}#sk-container-id-4 div.sk-estimator {font-family: monospace;background-color: #f0f8ff;border: 1px dotted black;border-radius: 0.25em;box-sizing: border-box;margin-bottom: 0.5em;}#sk-container-id-4 div.sk-estimator:hover {background-color: #d4ebff;}#sk-container-id-4 div.sk-parallel-item::after {content: \"\";width: 100%;border-bottom: 1px solid gray;flex-grow: 1;}#sk-container-id-4 div.sk-label:hover label.sk-toggleable__label {background-color: #d4ebff;}#sk-container-id-4 div.sk-serial::before {content: \"\";position: absolute;border-left: 1px solid gray;box-sizing: border-box;top: 0;bottom: 0;left: 50%;z-index: 0;}#sk-container-id-4 div.sk-serial {display: flex;flex-direction: column;align-items: center;background-color: white;padding-right: 0.2em;padding-left: 0.2em;position: relative;}#sk-container-id-4 div.sk-item {position: relative;z-index: 1;}#sk-container-id-4 div.sk-parallel {display: flex;align-items: stretch;justify-content: center;background-color: white;position: relative;}#sk-container-id-4 div.sk-item::before, #sk-container-id-4 div.sk-parallel-item::before {content: \"\";position: absolute;border-left: 1px solid gray;box-sizing: border-box;top: 0;bottom: 0;left: 50%;z-index: -1;}#sk-container-id-4 div.sk-parallel-item {display: flex;flex-direction: column;z-index: 1;position: relative;background-color: white;}#sk-container-id-4 div.sk-parallel-item:first-child::after {align-self: flex-end;width: 50%;}#sk-container-id-4 div.sk-parallel-item:last-child::after {align-self: flex-start;width: 50%;}#sk-container-id-4 div.sk-parallel-item:only-child::after {width: 0;}#sk-container-id-4 div.sk-dashed-wrapped {border: 1px dashed gray;margin: 0 0.4em 0.5em 0.4em;box-sizing: border-box;padding-bottom: 0.4em;background-color: white;}#sk-container-id-4 div.sk-label label {font-family: monospace;font-weight: bold;display: inline-block;line-height: 1.2em;}#sk-container-id-4 div.sk-label-container {text-align: center;}#sk-container-id-4 div.sk-container {/* jupyter's `normalize.less` sets `[hidden] { display: none; }` but bootstrap.min.css set `[hidden] { display: none !important; }` so we also need the `!important` here to be able to override the default hidden behavior on the sphinx rendered scikit-learn.org. See: https://github.com/scikit-learn/scikit-learn/issues/21755 */display: inline-block !important;position: relative;}#sk-container-id-4 div.sk-text-repr-fallback {display: none;}</style><div id=\"sk-container-id-4\" class=\"sk-top-container\"><div class=\"sk-text-repr-fallback\"><pre>DecisionTreeClassifier()</pre><b>In a Jupyter environment, please rerun this cell to show the HTML representation or trust the notebook. <br />On GitHub, the HTML representation is unable to render, please try loading this page with nbviewer.org.</b></div><div class=\"sk-container\" hidden><div class=\"sk-item\"><div class=\"sk-estimator sk-toggleable\"><input class=\"sk-toggleable__control sk-hidden--visually\" id=\"sk-estimator-id-4\" type=\"checkbox\" checked><label for=\"sk-estimator-id-4\" class=\"sk-toggleable__label sk-toggleable__label-arrow\">DecisionTreeClassifier</label><div class=\"sk-toggleable__content\"><pre>DecisionTreeClassifier()</pre></div></div></div></div></div>"
            ]
          },
          "metadata": {},
          "execution_count": 40
        }
      ]
    },
    {
      "cell_type": "code",
      "source": [
        "DT.score(X_test, y_test)"
      ],
      "metadata": {
        "colab": {
          "base_uri": "https://localhost:8080/"
        },
        "id": "5lBu9DiIM-Gk",
        "outputId": "2bfa1fb6-76f7-441f-8055-392e968620c1"
      },
      "execution_count": 41,
      "outputs": [
        {
          "output_type": "execute_result",
          "data": {
            "text/plain": [
              "0.9283333333333333"
            ]
          },
          "metadata": {},
          "execution_count": 41
        }
      ]
    },
    {
      "cell_type": "code",
      "source": [
        "pred_DT = DT.predict(X_test)\n",
        "print(classification_report(y_test, pred_DT))"
      ],
      "metadata": {
        "id": "FszEDeH0NE03",
        "outputId": "645b0798-dddc-4d5c-b38c-30a747171e11",
        "colab": {
          "base_uri": "https://localhost:8080/"
        }
      },
      "execution_count": 42,
      "outputs": [
        {
          "output_type": "stream",
          "name": "stdout",
          "text": [
            "              precision    recall  f1-score   support\n",
            "\n",
            "           0       0.95      0.97      0.96       539\n",
            "           1       0.67      0.57      0.62        61\n",
            "\n",
            "    accuracy                           0.93       600\n",
            "   macro avg       0.81      0.77      0.79       600\n",
            "weighted avg       0.92      0.93      0.93       600\n",
            "\n"
          ]
        }
      ]
    }
  ]
}